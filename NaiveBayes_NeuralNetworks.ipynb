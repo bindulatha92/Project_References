{
 "cells": [
  {
   "cell_type": "markdown",
   "metadata": {
    "id": "ni4T_dwEHFVa"
   },
   "source": [
    "## CS 6120: Natural Language Processing - Prof. Ahmad Uzair\n",
    "\n",
    "### Assignment 2: Text Classification and Neural Network\n",
    "### Total Points: 100 points"
   ]
  },
  {
   "cell_type": "markdown",
   "metadata": {
    "id": "loQ22M-bCubq"
   },
   "source": [
    "In Assignment 2, you will be dealing with text classification using Multinomial Naive Bayes and Neural Networks. You will also be dealing with vector visualization. In the previous assingment you implemented Bag of Words as the feature selection method. However, in this assignment you will be using TF-IDF Vectorization instead of Bag of Words. We recommend starting with this assignment a little early as the datasets are quite large and several parts of the assignment might take long duration to execute. "
   ]
  },
  {
   "cell_type": "markdown",
   "metadata": {
    "id": "Q3brglC1C0mZ"
   },
   "source": [
    "## Question 1 Text Classification"
   ]
  },
  {
   "cell_type": "markdown",
   "metadata": {
    "id": "IZ1y75IoC3rE"
   },
   "source": [
    "In the first question you will be dealing with Consumer Complaint Dataset. You are required to implement TF-IDF vectorization from scratch and perform Multinomial Naive Bayes Classification on dataset.\n",
    "You may use appropriate packages or modules for fitting the Multinomial Naive Bayes Model, however, the implementation of the TF-IDF Vectorization should be from the scratch."
   ]
  },
  {
   "cell_type": "code",
   "execution_count": 1,
   "metadata": {
    "id": "CmFf2INNDJRb"
   },
   "outputs": [],
   "source": [
    "#importing the libraries\n",
    "\n",
    "import numpy as np\n",
    "import sklearn\n",
    "from sklearn.feature_extraction.text import TfidfVectorizer\n",
    "from sklearn.datasets import fetch_20newsgroups\n",
    "from pprint import pprint\n",
    "from sklearn.feature_extraction.text import CountVectorizer\n",
    "from sklearn import preprocessing\n",
    "import pandas as pd\n",
    "import re\n",
    "import numpy as np\n",
    "from nltk.tokenize import  word_tokenize \n",
    "import nltk\n",
    "from sklearn.naive_bayes import MultinomialNB\n",
    "from sklearn import metrics\n"
   ]
  },
  {
   "cell_type": "markdown",
   "metadata": {
    "id": "55uKXLxgV8hm"
   },
   "source": [
    "The consumer complaint dataset comprises around 5000 complaints on six products."
   ]
  },
  {
   "cell_type": "code",
   "execution_count": 3,
   "metadata": {
    "colab": {
     "base_uri": "https://localhost:8080/",
     "height": 74
    },
    "id": "AEp1SHe5DKCB",
    "outputId": "4681f515-a048-4e8a-94a0-23be14f6c291"
   },
   "outputs": [
    {
     "data": {
      "text/html": [
       "\n",
       "     <input type=\"file\" id=\"files-f732e0ef-853b-4d5c-a8d5-4ba0deb32205\" name=\"files[]\" multiple disabled\n",
       "        style=\"border:none\" />\n",
       "     <output id=\"result-f732e0ef-853b-4d5c-a8d5-4ba0deb32205\">\n",
       "      Upload widget is only available when the cell has been executed in the\n",
       "      current browser session. Please rerun this cell to enable.\n",
       "      </output>\n",
       "      <script>// Copyright 2017 Google LLC\n",
       "//\n",
       "// Licensed under the Apache License, Version 2.0 (the \"License\");\n",
       "// you may not use this file except in compliance with the License.\n",
       "// You may obtain a copy of the License at\n",
       "//\n",
       "//      http://www.apache.org/licenses/LICENSE-2.0\n",
       "//\n",
       "// Unless required by applicable law or agreed to in writing, software\n",
       "// distributed under the License is distributed on an \"AS IS\" BASIS,\n",
       "// WITHOUT WARRANTIES OR CONDITIONS OF ANY KIND, either express or implied.\n",
       "// See the License for the specific language governing permissions and\n",
       "// limitations under the License.\n",
       "\n",
       "/**\n",
       " * @fileoverview Helpers for google.colab Python module.\n",
       " */\n",
       "(function(scope) {\n",
       "function span(text, styleAttributes = {}) {\n",
       "  const element = document.createElement('span');\n",
       "  element.textContent = text;\n",
       "  for (const key of Object.keys(styleAttributes)) {\n",
       "    element.style[key] = styleAttributes[key];\n",
       "  }\n",
       "  return element;\n",
       "}\n",
       "\n",
       "// Max number of bytes which will be uploaded at a time.\n",
       "const MAX_PAYLOAD_SIZE = 100 * 1024;\n",
       "\n",
       "function _uploadFiles(inputId, outputId) {\n",
       "  const steps = uploadFilesStep(inputId, outputId);\n",
       "  const outputElement = document.getElementById(outputId);\n",
       "  // Cache steps on the outputElement to make it available for the next call\n",
       "  // to uploadFilesContinue from Python.\n",
       "  outputElement.steps = steps;\n",
       "\n",
       "  return _uploadFilesContinue(outputId);\n",
       "}\n",
       "\n",
       "// This is roughly an async generator (not supported in the browser yet),\n",
       "// where there are multiple asynchronous steps and the Python side is going\n",
       "// to poll for completion of each step.\n",
       "// This uses a Promise to block the python side on completion of each step,\n",
       "// then passes the result of the previous step as the input to the next step.\n",
       "function _uploadFilesContinue(outputId) {\n",
       "  const outputElement = document.getElementById(outputId);\n",
       "  const steps = outputElement.steps;\n",
       "\n",
       "  const next = steps.next(outputElement.lastPromiseValue);\n",
       "  return Promise.resolve(next.value.promise).then((value) => {\n",
       "    // Cache the last promise value to make it available to the next\n",
       "    // step of the generator.\n",
       "    outputElement.lastPromiseValue = value;\n",
       "    return next.value.response;\n",
       "  });\n",
       "}\n",
       "\n",
       "/**\n",
       " * Generator function which is called between each async step of the upload\n",
       " * process.\n",
       " * @param {string} inputId Element ID of the input file picker element.\n",
       " * @param {string} outputId Element ID of the output display.\n",
       " * @return {!Iterable<!Object>} Iterable of next steps.\n",
       " */\n",
       "function* uploadFilesStep(inputId, outputId) {\n",
       "  const inputElement = document.getElementById(inputId);\n",
       "  inputElement.disabled = false;\n",
       "\n",
       "  const outputElement = document.getElementById(outputId);\n",
       "  outputElement.innerHTML = '';\n",
       "\n",
       "  const pickedPromise = new Promise((resolve) => {\n",
       "    inputElement.addEventListener('change', (e) => {\n",
       "      resolve(e.target.files);\n",
       "    });\n",
       "  });\n",
       "\n",
       "  const cancel = document.createElement('button');\n",
       "  inputElement.parentElement.appendChild(cancel);\n",
       "  cancel.textContent = 'Cancel upload';\n",
       "  const cancelPromise = new Promise((resolve) => {\n",
       "    cancel.onclick = () => {\n",
       "      resolve(null);\n",
       "    };\n",
       "  });\n",
       "\n",
       "  // Wait for the user to pick the files.\n",
       "  const files = yield {\n",
       "    promise: Promise.race([pickedPromise, cancelPromise]),\n",
       "    response: {\n",
       "      action: 'starting',\n",
       "    }\n",
       "  };\n",
       "\n",
       "  cancel.remove();\n",
       "\n",
       "  // Disable the input element since further picks are not allowed.\n",
       "  inputElement.disabled = true;\n",
       "\n",
       "  if (!files) {\n",
       "    return {\n",
       "      response: {\n",
       "        action: 'complete',\n",
       "      }\n",
       "    };\n",
       "  }\n",
       "\n",
       "  for (const file of files) {\n",
       "    const li = document.createElement('li');\n",
       "    li.append(span(file.name, {fontWeight: 'bold'}));\n",
       "    li.append(span(\n",
       "        `(${file.type || 'n/a'}) - ${file.size} bytes, ` +\n",
       "        `last modified: ${\n",
       "            file.lastModifiedDate ? file.lastModifiedDate.toLocaleDateString() :\n",
       "                                    'n/a'} - `));\n",
       "    const percent = span('0% done');\n",
       "    li.appendChild(percent);\n",
       "\n",
       "    outputElement.appendChild(li);\n",
       "\n",
       "    const fileDataPromise = new Promise((resolve) => {\n",
       "      const reader = new FileReader();\n",
       "      reader.onload = (e) => {\n",
       "        resolve(e.target.result);\n",
       "      };\n",
       "      reader.readAsArrayBuffer(file);\n",
       "    });\n",
       "    // Wait for the data to be ready.\n",
       "    let fileData = yield {\n",
       "      promise: fileDataPromise,\n",
       "      response: {\n",
       "        action: 'continue',\n",
       "      }\n",
       "    };\n",
       "\n",
       "    // Use a chunked sending to avoid message size limits. See b/62115660.\n",
       "    let position = 0;\n",
       "    do {\n",
       "      const length = Math.min(fileData.byteLength - position, MAX_PAYLOAD_SIZE);\n",
       "      const chunk = new Uint8Array(fileData, position, length);\n",
       "      position += length;\n",
       "\n",
       "      const base64 = btoa(String.fromCharCode.apply(null, chunk));\n",
       "      yield {\n",
       "        response: {\n",
       "          action: 'append',\n",
       "          file: file.name,\n",
       "          data: base64,\n",
       "        },\n",
       "      };\n",
       "\n",
       "      let percentDone = fileData.byteLength === 0 ?\n",
       "          100 :\n",
       "          Math.round((position / fileData.byteLength) * 100);\n",
       "      percent.textContent = `${percentDone}% done`;\n",
       "\n",
       "    } while (position < fileData.byteLength);\n",
       "  }\n",
       "\n",
       "  // All done.\n",
       "  yield {\n",
       "    response: {\n",
       "      action: 'complete',\n",
       "    }\n",
       "  };\n",
       "}\n",
       "\n",
       "scope.google = scope.google || {};\n",
       "scope.google.colab = scope.google.colab || {};\n",
       "scope.google.colab._files = {\n",
       "  _uploadFiles,\n",
       "  _uploadFilesContinue,\n",
       "};\n",
       "})(self);\n",
       "</script> "
      ],
      "text/plain": [
       "<IPython.core.display.HTML object>"
      ]
     },
     "metadata": {},
     "output_type": "display_data"
    },
    {
     "name": "stdout",
     "output_type": "stream",
     "text": [
      "Saving consumer_complaints.csv to consumer_complaints (1).csv\n"
     ]
    }
   ],
   "source": [
    "# Read the csv file consumer_complaints.csv\n",
    "from google.colab import files\n",
    "import io\n",
    "uploaded=files.upload()\n",
    "\n",
    "# Import the data.csv only use 'text' and 'target' columns\n",
    "mydata_train = df = pd.read_csv(io.StringIO(uploaded['consumer_complaints.csv'].decode('utf-8')))\n",
    "\n",
    "#mydata_train = df = pd.read_csv(\"/Users/bindulathabanisetti/Downloads/consumer_complaints.csv\", sep = ',', encoding = 'latin-1')"
   ]
  },
  {
   "cell_type": "code",
   "execution_count": 4,
   "metadata": {
    "colab": {
     "base_uri": "https://localhost:8080/"
    },
    "id": "OscOmcE0DMHa",
    "outputId": "3301e653-0b91-4063-964c-eea14a001c31"
   },
   "outputs": [
    {
     "name": "stdout",
     "output_type": "stream",
     "text": [
      "['Credit card or prepaid card', 'Mortgage', 'Debt collection', 'Debt collection', 'Credit card or prepaid card', 'Vehicle loan or lease', 'Debt collection', 'Debt collection', 'Mortgage', 'Vehicle loan or lease', 'Mortgage', 'Credit card or prepaid card', 'Checking or savings account', 'Credit card or prepaid card', 'Debt collection', 'Mortgage', 'Credit card or prepaid card', 'Mortgage', 'Mortgage', 'Student loan', 'Mortgage', 'Mortgage', 'Debt collection', 'Debt collection', 'Credit card or prepaid card', 'Credit card or prepaid card', 'Mortgage', 'Mortgage', 'Credit card or prepaid card', 'Debt collection', 'Debt collection', 'Credit card or prepaid card', 'Checking or savings account', 'Debt collection', 'Debt collection', 'Vehicle loan or lease', 'Student loan', 'Vehicle loan or lease', 'Debt collection', 'Checking or savings account', 'Debt collection', 'Debt collection', 'Student loan', 'Student loan', 'Mortgage', 'Checking or savings account', 'Student loan', 'Vehicle loan or lease', 'Debt collection', 'Checking or savings account', 'Credit card or prepaid card', 'Credit card or prepaid card', 'Debt collection', 'Mortgage', 'Vehicle loan or lease', 'Credit card or prepaid card', 'Checking or savings account', 'Mortgage', 'Credit card or prepaid card', 'Debt collection', 'Checking or savings account', 'Checking or savings account', 'Debt collection', 'Mortgage', 'Checking or savings account', 'Vehicle loan or lease', 'Debt collection', 'Debt collection', 'Credit card or prepaid card', 'Debt collection', 'Debt collection', 'Mortgage', 'Mortgage', 'Debt collection', 'Credit card or prepaid card', 'Mortgage', 'Debt collection', 'Debt collection', 'Credit card or prepaid card', 'Checking or savings account', 'Credit card or prepaid card', 'Debt collection', 'Credit card or prepaid card', 'Student loan', 'Credit card or prepaid card', 'Checking or savings account', 'Debt collection', 'Debt collection', 'Debt collection', 'Debt collection', 'Credit card or prepaid card', 'Debt collection', 'Debt collection', 'Credit card or prepaid card', 'Vehicle loan or lease', 'Credit card or prepaid card', 'Debt collection', 'Checking or savings account', 'Credit card or prepaid card', 'Debt collection', 'Mortgage', 'Student loan', 'Debt collection', 'Mortgage', 'Checking or savings account', 'Mortgage', 'Credit card or prepaid card', 'Credit card or prepaid card', 'Debt collection', 'Debt collection', 'Checking or savings account', 'Credit card or prepaid card', 'Debt collection', 'Vehicle loan or lease', 'Credit card or prepaid card', 'Student loan', 'Credit card or prepaid card', 'Debt collection', 'Credit card or prepaid card', 'Credit card or prepaid card', 'Student loan', 'Debt collection', 'Debt collection', 'Checking or savings account', 'Debt collection', 'Credit card or prepaid card', 'Debt collection', 'Checking or savings account', 'Checking or savings account', 'Credit card or prepaid card', 'Debt collection', 'Checking or savings account', 'Debt collection', 'Debt collection', 'Student loan', 'Checking or savings account', 'Credit card or prepaid card', 'Debt collection', 'Debt collection', 'Mortgage', 'Student loan', 'Mortgage', 'Debt collection', 'Checking or savings account', 'Credit card or prepaid card', 'Debt collection', 'Debt collection', 'Mortgage', 'Credit card or prepaid card', 'Checking or savings account', 'Credit card or prepaid card', 'Mortgage', 'Debt collection', 'Debt collection', 'Mortgage', 'Debt collection', 'Mortgage', 'Checking or savings account', 'Mortgage', 'Debt collection', 'Mortgage', 'Mortgage', 'Debt collection', 'Checking or savings account', 'Checking or savings account', 'Mortgage', 'Debt collection', 'Debt collection', 'Debt collection', 'Debt collection', 'Debt collection', 'Student loan', 'Mortgage', 'Credit card or prepaid card', 'Credit card or prepaid card', 'Mortgage', 'Credit card or prepaid card', 'Credit card or prepaid card', 'Debt collection', 'Debt collection', 'Debt collection', 'Debt collection', 'Debt collection', 'Credit card or prepaid card', 'Checking or savings account', 'Checking or savings account', 'Credit card or prepaid card', 'Credit card or prepaid card', 'Checking or savings account', 'Debt collection', 'Vehicle loan or lease', 'Debt collection', 'Checking or savings account', 'Student loan', 'Debt collection', 'Debt collection', 'Checking or savings account', 'Debt collection', 'Credit card or prepaid card', 'Credit card or prepaid card', 'Debt collection', 'Debt collection', 'Checking or savings account', 'Debt collection', 'Debt collection', 'Debt collection', 'Debt collection', 'Debt collection', 'Mortgage', 'Credit card or prepaid card', 'Vehicle loan or lease', 'Vehicle loan or lease', 'Debt collection', 'Debt collection', 'Mortgage', 'Checking or savings account', 'Debt collection', 'Credit card or prepaid card', 'Debt collection', 'Mortgage', 'Debt collection', 'Mortgage', 'Debt collection', 'Credit card or prepaid card', 'Mortgage', 'Credit card or prepaid card', 'Credit card or prepaid card', 'Mortgage', 'Debt collection', 'Debt collection', 'Mortgage', 'Mortgage', 'Debt collection', 'Debt collection', 'Debt collection', 'Student loan', 'Credit card or prepaid card', 'Debt collection', 'Debt collection', 'Debt collection', 'Mortgage', 'Mortgage', 'Student loan', 'Debt collection', 'Mortgage', 'Debt collection', 'Student loan', 'Mortgage', 'Debt collection', 'Debt collection', 'Debt collection', 'Checking or savings account', 'Debt collection', 'Debt collection', 'Credit card or prepaid card', 'Checking or savings account', 'Debt collection', 'Debt collection', 'Credit card or prepaid card', 'Mortgage', 'Debt collection', 'Credit card or prepaid card', 'Debt collection', 'Checking or savings account', 'Debt collection', 'Credit card or prepaid card', 'Checking or savings account', 'Credit card or prepaid card', 'Checking or savings account', 'Checking or savings account', 'Debt collection', 'Credit card or prepaid card', 'Debt collection', 'Checking or savings account', 'Debt collection', 'Debt collection', 'Debt collection', 'Vehicle loan or lease', 'Vehicle loan or lease', 'Student loan', 'Mortgage', 'Debt collection', 'Debt collection', 'Checking or savings account', 'Vehicle loan or lease', 'Debt collection', 'Debt collection', 'Credit card or prepaid card', 'Checking or savings account', 'Mortgage', 'Debt collection', 'Student loan', 'Credit card or prepaid card', 'Credit card or prepaid card', 'Checking or savings account', 'Checking or savings account', 'Vehicle loan or lease', 'Checking or savings account', 'Checking or savings account', 'Mortgage', 'Debt collection', 'Credit card or prepaid card', 'Vehicle loan or lease', 'Credit card or prepaid card', 'Mortgage', 'Mortgage', 'Credit card or prepaid card', 'Student loan', 'Debt collection', 'Mortgage', 'Credit card or prepaid card', 'Credit card or prepaid card', 'Mortgage', 'Mortgage', 'Debt collection', 'Debt collection', 'Debt collection', 'Debt collection', 'Debt collection', 'Credit card or prepaid card', 'Credit card or prepaid card', 'Credit card or prepaid card', 'Debt collection', 'Checking or savings account', 'Debt collection', 'Credit card or prepaid card', 'Debt collection', 'Debt collection', 'Checking or savings account', 'Credit card or prepaid card', 'Checking or savings account', 'Debt collection', 'Credit card or prepaid card', 'Mortgage', 'Debt collection', 'Credit card or prepaid card', 'Debt collection', 'Debt collection', 'Mortgage', 'Debt collection', 'Checking or savings account', 'Debt collection', 'Mortgage', 'Checking or savings account', 'Vehicle loan or lease', 'Debt collection', 'Mortgage', 'Mortgage', 'Credit card or prepaid card', 'Credit card or prepaid card', 'Credit card or prepaid card', 'Debt collection', 'Credit card or prepaid card', 'Mortgage', 'Checking or savings account', 'Debt collection', 'Credit card or prepaid card', 'Debt collection', 'Debt collection', 'Credit card or prepaid card', 'Checking or savings account', 'Credit card or prepaid card', 'Credit card or prepaid card', 'Credit card or prepaid card', 'Debt collection', 'Checking or savings account', 'Credit card or prepaid card', 'Debt collection', 'Mortgage', 'Debt collection', 'Checking or savings account', 'Mortgage', 'Credit card or prepaid card', 'Credit card or prepaid card', 'Debt collection', 'Vehicle loan or lease', 'Debt collection', 'Credit card or prepaid card', 'Debt collection', 'Debt collection', 'Credit card or prepaid card', 'Mortgage', 'Mortgage', 'Mortgage', 'Debt collection', 'Mortgage', 'Debt collection', 'Mortgage', 'Debt collection', 'Debt collection', 'Mortgage', 'Mortgage', 'Mortgage', 'Debt collection', 'Mortgage', 'Checking or savings account', 'Checking or savings account', 'Credit card or prepaid card', 'Credit card or prepaid card', 'Vehicle loan or lease', 'Debt collection', 'Mortgage', 'Credit card or prepaid card', 'Credit card or prepaid card', 'Debt collection', 'Checking or savings account', 'Student loan', 'Checking or savings account', 'Mortgage', 'Debt collection', 'Debt collection', 'Debt collection', 'Checking or savings account', 'Mortgage', 'Mortgage', 'Debt collection', 'Mortgage', 'Debt collection', 'Credit card or prepaid card', 'Mortgage', 'Debt collection', 'Debt collection', 'Debt collection', 'Credit card or prepaid card', 'Mortgage', 'Debt collection', 'Debt collection', 'Debt collection', 'Student loan', 'Vehicle loan or lease', 'Credit card or prepaid card', 'Checking or savings account', 'Credit card or prepaid card', 'Credit card or prepaid card', 'Checking or savings account', 'Credit card or prepaid card', 'Debt collection', 'Student loan', 'Debt collection', 'Checking or savings account', 'Debt collection', 'Credit card or prepaid card', 'Debt collection', 'Credit card or prepaid card', 'Credit card or prepaid card', 'Credit card or prepaid card', 'Credit card or prepaid card', 'Debt collection', 'Credit card or prepaid card', 'Debt collection', 'Debt collection', 'Mortgage', 'Debt collection', 'Credit card or prepaid card', 'Credit card or prepaid card', 'Checking or savings account', 'Student loan', 'Debt collection', 'Credit card or prepaid card', 'Debt collection', 'Debt collection', 'Mortgage', 'Debt collection', 'Debt collection', 'Checking or savings account', 'Debt collection', 'Vehicle loan or lease', 'Debt collection', 'Credit card or prepaid card', 'Student loan', 'Credit card or prepaid card', 'Debt collection', 'Credit card or prepaid card', 'Credit card or prepaid card', 'Vehicle loan or lease', 'Debt collection', 'Student loan', 'Checking or savings account', 'Mortgage', 'Debt collection', 'Debt collection', 'Credit card or prepaid card', 'Checking or savings account', 'Debt collection', 'Mortgage', 'Checking or savings account', 'Mortgage', 'Checking or savings account', 'Debt collection', 'Credit card or prepaid card', 'Vehicle loan or lease', 'Credit card or prepaid card', 'Mortgage', 'Debt collection', 'Debt collection', 'Credit card or prepaid card', 'Debt collection', 'Credit card or prepaid card', 'Debt collection', 'Debt collection', 'Mortgage', 'Credit card or prepaid card', 'Vehicle loan or lease', 'Checking or savings account', 'Credit card or prepaid card', 'Credit card or prepaid card', 'Debt collection', 'Mortgage', 'Mortgage', 'Debt collection', 'Debt collection', 'Credit card or prepaid card', 'Checking or savings account', 'Debt collection', 'Debt collection', 'Debt collection', 'Debt collection', 'Debt collection', 'Debt collection', 'Debt collection', 'Debt collection', 'Debt collection', 'Debt collection', 'Debt collection', 'Debt collection', 'Credit card or prepaid card', 'Debt collection', 'Credit card or prepaid card', 'Credit card or prepaid card', 'Credit card or prepaid card', 'Debt collection', 'Debt collection', 'Credit card or prepaid card', 'Debt collection', 'Debt collection', 'Student loan', 'Debt collection', 'Debt collection', 'Debt collection', 'Debt collection', 'Student loan', 'Mortgage', 'Debt collection', 'Debt collection', 'Credit card or prepaid card', 'Mortgage', 'Debt collection', 'Debt collection', 'Vehicle loan or lease', 'Checking or savings account', 'Debt collection', 'Checking or savings account', 'Vehicle loan or lease', 'Debt collection', 'Debt collection', 'Mortgage', 'Credit card or prepaid card', 'Mortgage', 'Debt collection', 'Checking or savings account', 'Checking or savings account', 'Mortgage', 'Mortgage', 'Credit card or prepaid card', 'Debt collection', 'Mortgage', 'Debt collection', 'Debt collection', 'Checking or savings account', 'Credit card or prepaid card', 'Debt collection', 'Credit card or prepaid card', 'Debt collection', 'Vehicle loan or lease', 'Student loan', 'Mortgage', 'Credit card or prepaid card', 'Mortgage', 'Mortgage', 'Debt collection', 'Mortgage', 'Checking or savings account', 'Mortgage', 'Debt collection', 'Mortgage', 'Debt collection', 'Mortgage', 'Mortgage', 'Credit card or prepaid card', 'Debt collection', 'Checking or savings account', 'Checking or savings account', 'Debt collection', 'Credit card or prepaid card', 'Credit card or prepaid card', 'Student loan', 'Credit card or prepaid card', 'Credit card or prepaid card', 'Mortgage', 'Mortgage', 'Credit card or prepaid card', 'Credit card or prepaid card', 'Debt collection', 'Checking or savings account', 'Debt collection', 'Mortgage', 'Checking or savings account', 'Credit card or prepaid card', 'Debt collection', 'Credit card or prepaid card', 'Mortgage', 'Debt collection', 'Debt collection', 'Checking or savings account', 'Debt collection', 'Student loan', 'Checking or savings account', 'Vehicle loan or lease', 'Debt collection', 'Credit card or prepaid card', 'Credit card or prepaid card', 'Credit card or prepaid card', 'Mortgage', 'Credit card or prepaid card', 'Checking or savings account', 'Checking or savings account', 'Credit card or prepaid card', 'Debt collection', 'Mortgage', 'Credit card or prepaid card', 'Checking or savings account', 'Debt collection', 'Credit card or prepaid card', 'Debt collection', 'Debt collection', 'Credit card or prepaid card', 'Checking or savings account', 'Credit card or prepaid card', 'Mortgage', 'Checking or savings account', 'Debt collection', 'Debt collection', 'Credit card or prepaid card', 'Mortgage', 'Credit card or prepaid card', 'Credit card or prepaid card', 'Mortgage', 'Checking or savings account', 'Credit card or prepaid card', 'Debt collection', 'Debt collection', 'Checking or savings account', 'Debt collection', 'Credit card or prepaid card', 'Checking or savings account', 'Debt collection', 'Checking or savings account', 'Debt collection', 'Debt collection', 'Vehicle loan or lease', 'Credit card or prepaid card', 'Debt collection', 'Checking or savings account', 'Mortgage', 'Checking or savings account', 'Credit card or prepaid card', 'Credit card or prepaid card', 'Checking or savings account', 'Credit card or prepaid card', 'Mortgage', 'Credit card or prepaid card', 'Mortgage', 'Vehicle loan or lease', 'Debt collection', 'Debt collection', 'Debt collection', 'Debt collection', 'Debt collection', 'Mortgage', 'Mortgage', 'Vehicle loan or lease', 'Debt collection', 'Checking or savings account', 'Mortgage', 'Mortgage', 'Credit card or prepaid card', 'Debt collection', 'Credit card or prepaid card', 'Debt collection', 'Checking or savings account', 'Debt collection', 'Credit card or prepaid card', 'Debt collection', 'Student loan', 'Mortgage', 'Debt collection', 'Debt collection', 'Credit card or prepaid card', 'Debt collection', 'Checking or savings account', 'Debt collection', 'Debt collection', 'Credit card or prepaid card', 'Credit card or prepaid card', 'Credit card or prepaid card', 'Checking or savings account', 'Credit card or prepaid card', 'Debt collection', 'Debt collection', 'Debt collection', 'Debt collection', 'Debt collection', 'Debt collection', 'Debt collection', 'Mortgage', 'Debt collection', 'Debt collection', 'Credit card or prepaid card', 'Debt collection', 'Debt collection', 'Credit card or prepaid card', 'Debt collection', 'Debt collection', 'Debt collection', 'Vehicle loan or lease', 'Credit card or prepaid card', 'Credit card or prepaid card', 'Credit card or prepaid card', 'Debt collection', 'Debt collection', 'Credit card or prepaid card', 'Mortgage', 'Credit card or prepaid card', 'Debt collection', 'Debt collection', 'Debt collection', 'Credit card or prepaid card', 'Debt collection', 'Credit card or prepaid card', 'Checking or savings account', 'Credit card or prepaid card', 'Vehicle loan or lease', 'Vehicle loan or lease', 'Credit card or prepaid card', 'Mortgage', 'Vehicle loan or lease', 'Credit card or prepaid card', 'Credit card or prepaid card', 'Credit card or prepaid card', 'Debt collection', 'Debt collection', 'Checking or savings account', 'Credit card or prepaid card', 'Debt collection', 'Student loan', 'Credit card or prepaid card', 'Vehicle loan or lease', 'Credit card or prepaid card', 'Debt collection', 'Credit card or prepaid card', 'Credit card or prepaid card', 'Debt collection', 'Debt collection', 'Checking or savings account', 'Mortgage', 'Debt collection', 'Mortgage', 'Credit card or prepaid card', 'Checking or savings account', 'Credit card or prepaid card', 'Mortgage', 'Debt collection', 'Debt collection', 'Mortgage', 'Mortgage', 'Debt collection', 'Student loan', 'Checking or savings account', 'Debt collection', 'Student loan', 'Credit card or prepaid card', 'Debt collection', 'Mortgage', 'Checking or savings account', 'Student loan', 'Mortgage', 'Debt collection', 'Checking or savings account', 'Checking or savings account', 'Debt collection', 'Debt collection', 'Checking or savings account', 'Debt collection', 'Debt collection', 'Debt collection', 'Credit card or prepaid card', 'Vehicle loan or lease', 'Credit card or prepaid card', 'Debt collection', 'Checking or savings account', 'Checking or savings account', 'Student loan', 'Student loan', 'Checking or savings account', 'Debt collection', 'Mortgage', 'Checking or savings account', 'Debt collection', 'Credit card or prepaid card', 'Mortgage', 'Debt collection', 'Credit card or prepaid card', 'Checking or savings account', 'Student loan', 'Debt collection', 'Checking or savings account', 'Debt collection', 'Debt collection', 'Debt collection', 'Vehicle loan or lease', 'Debt collection', 'Debt collection', 'Debt collection', 'Debt collection', 'Credit card or prepaid card', 'Mortgage', 'Credit card or prepaid card', 'Credit card or prepaid card', 'Debt collection', 'Student loan', 'Mortgage', 'Credit card or prepaid card', 'Mortgage', 'Debt collection', 'Debt collection', 'Debt collection', 'Vehicle loan or lease', 'Credit card or prepaid card', 'Checking or savings account', 'Mortgage', 'Debt collection', 'Student loan', 'Credit card or prepaid card', 'Mortgage', 'Credit card or prepaid card', 'Mortgage', 'Debt collection', 'Debt collection', 'Mortgage', 'Checking or savings account', 'Credit card or prepaid card', 'Checking or savings account', 'Mortgage', 'Mortgage', 'Debt collection', 'Mortgage', 'Debt collection', 'Debt collection', 'Debt collection', 'Credit card or prepaid card', 'Debt collection', 'Checking or savings account', 'Mortgage', 'Credit card or prepaid card', 'Debt collection', 'Debt collection', 'Mortgage', 'Debt collection', 'Credit card or prepaid card', 'Debt collection', 'Debt collection', 'Debt collection', 'Debt collection', 'Debt collection', 'Credit card or prepaid card', 'Debt collection', 'Mortgage', 'Checking or savings account', 'Student loan', 'Mortgage', 'Credit card or prepaid card', 'Checking or savings account', 'Debt collection', 'Vehicle loan or lease', 'Mortgage', 'Credit card or prepaid card', 'Checking or savings account', 'Mortgage', 'Credit card or prepaid card', 'Mortgage', 'Credit card or prepaid card', 'Mortgage', 'Checking or savings account', 'Mortgage', 'Credit card or prepaid card', 'Credit card or prepaid card', 'Credit card or prepaid card', 'Checking or savings account', 'Checking or savings account', 'Debt collection', 'Credit card or prepaid card', 'Credit card or prepaid card', 'Debt collection', 'Mortgage', 'Checking or savings account', 'Debt collection', 'Vehicle loan or lease', 'Mortgage', 'Debt collection', 'Debt collection', 'Mortgage', 'Credit card or prepaid card', 'Debt collection', 'Credit card or prepaid card', 'Credit card or prepaid card', 'Mortgage', 'Debt collection', 'Mortgage', 'Debt collection', 'Debt collection', 'Debt collection', 'Debt collection', 'Credit card or prepaid card', 'Mortgage', 'Vehicle loan or lease', 'Credit card or prepaid card', 'Credit card or prepaid card', 'Student loan', 'Credit card or prepaid card', 'Debt collection', 'Credit card or prepaid card', 'Credit card or prepaid card', 'Debt collection', 'Mortgage', 'Debt collection', 'Debt collection', 'Student loan', 'Mortgage', 'Mortgage', 'Credit card or prepaid card', 'Credit card or prepaid card', 'Student loan', 'Credit card or prepaid card', 'Mortgage', 'Debt collection', 'Debt collection', 'Checking or savings account', 'Vehicle loan or lease', 'Mortgage', 'Debt collection', 'Debt collection', 'Credit card or prepaid card', 'Debt collection', 'Mortgage', 'Debt collection', 'Credit card or prepaid card', 'Credit card or prepaid card', 'Checking or savings account', 'Debt collection', 'Mortgage', 'Debt collection', 'Debt collection', 'Mortgage', 'Vehicle loan or lease', 'Debt collection', 'Debt collection', 'Mortgage', 'Credit card or prepaid card', 'Debt collection', 'Checking or savings account', 'Mortgage', 'Debt collection', 'Debt collection', 'Credit card or prepaid card', 'Checking or savings account', 'Credit card or prepaid card', 'Credit card or prepaid card', 'Debt collection', 'Checking or savings account', 'Student loan', 'Mortgage', 'Vehicle loan or lease', 'Credit card or prepaid card', 'Credit card or prepaid card', 'Credit card or prepaid card', 'Credit card or prepaid card', 'Student loan', 'Debt collection', 'Debt collection', 'Mortgage', 'Debt collection', 'Student loan', 'Credit card or prepaid card', 'Vehicle loan or lease', 'Debt collection', 'Credit card or prepaid card', 'Debt collection', 'Mortgage', 'Checking or savings account', 'Credit card or prepaid card', 'Credit card or prepaid card', 'Student loan', 'Debt collection', 'Debt collection', 'Mortgage', 'Credit card or prepaid card', 'Student loan', 'Credit card or prepaid card', 'Checking or savings account', 'Credit card or prepaid card', 'Debt collection', 'Mortgage', 'Debt collection', 'Debt collection', 'Checking or savings account', 'Credit card or prepaid card', 'Mortgage', 'Vehicle loan or lease', 'Student loan', 'Mortgage', 'Credit card or prepaid card', 'Checking or savings account', 'Debt collection', 'Debt collection', 'Mortgage', 'Debt collection', 'Checking or savings account', 'Mortgage', 'Mortgage', 'Mortgage', 'Credit card or prepaid card', 'Mortgage', 'Debt collection', 'Debt collection', 'Mortgage', 'Checking or savings account', 'Vehicle loan or lease', 'Credit card or prepaid card', 'Credit card or prepaid card', 'Debt collection', 'Credit card or prepaid card', 'Credit card or prepaid card', 'Debt collection', 'Debt collection', 'Debt collection', 'Mortgage', 'Checking or savings account', 'Student loan', 'Credit card or prepaid card', 'Debt collection', 'Credit card or prepaid card', 'Debt collection', 'Vehicle loan or lease', 'Checking or savings account', 'Credit card or prepaid card', 'Credit card or prepaid card', 'Checking or savings account', 'Debt collection', 'Credit card or prepaid card', 'Debt collection', 'Student loan', 'Checking or savings account', 'Credit card or prepaid card', 'Mortgage', 'Checking or savings account', 'Mortgage', 'Debt collection', 'Debt collection', 'Debt collection', 'Debt collection', 'Checking or savings account', 'Vehicle loan or lease', 'Debt collection', 'Mortgage', 'Debt collection', 'Checking or savings account', 'Credit card or prepaid card', 'Credit card or prepaid card', 'Credit card or prepaid card', 'Debt collection', 'Checking or savings account', 'Mortgage', 'Debt collection', 'Mortgage', 'Credit card or prepaid card', 'Mortgage', 'Debt collection', 'Mortgage', 'Mortgage', 'Mortgage', 'Debt collection', 'Debt collection', 'Debt collection', 'Credit card or prepaid card', 'Debt collection', 'Student loan', 'Vehicle loan or lease', 'Credit card or prepaid card', 'Credit card or prepaid card', 'Debt collection', 'Debt collection', 'Credit card or prepaid card', 'Vehicle loan or lease', 'Mortgage', 'Checking or savings account', 'Mortgage', 'Checking or savings account', 'Credit card or prepaid card', 'Credit card or prepaid card', 'Credit card or prepaid card', 'Mortgage', 'Debt collection', 'Debt collection', 'Debt collection', 'Debt collection', 'Mortgage', 'Debt collection', 'Checking or savings account', 'Debt collection', 'Credit card or prepaid card', 'Debt collection', 'Debt collection', 'Debt collection', 'Checking or savings account', 'Debt collection', 'Debt collection', 'Checking or savings account', 'Debt collection', 'Debt collection', 'Debt collection', 'Credit card or prepaid card', 'Debt collection', 'Debt collection', 'Mortgage', 'Checking or savings account', 'Mortgage', 'Debt collection', 'Credit card or prepaid card', 'Credit card or prepaid card', 'Debt collection', 'Debt collection', 'Student loan', 'Vehicle loan or lease', 'Student loan', 'Student loan', 'Debt collection', 'Checking or savings account', 'Mortgage', 'Debt collection', 'Credit card or prepaid card', 'Mortgage', 'Debt collection', 'Credit card or prepaid card', 'Checking or savings account', 'Mortgage', 'Checking or savings account', 'Debt collection', 'Debt collection', 'Mortgage', 'Mortgage', 'Mortgage', 'Debt collection', 'Debt collection', 'Checking or savings account', 'Credit card or prepaid card', 'Mortgage', 'Mortgage', 'Credit card or prepaid card', 'Credit card or prepaid card', 'Debt collection', 'Mortgage', 'Vehicle loan or lease', 'Debt collection', 'Credit card or prepaid card', 'Credit card or prepaid card', 'Credit card or prepaid card', 'Credit card or prepaid card', 'Debt collection', 'Credit card or prepaid card', 'Credit card or prepaid card', 'Credit card or prepaid card', 'Student loan', 'Vehicle loan or lease', 'Checking or savings account', 'Credit card or prepaid card', 'Debt collection', 'Debt collection', 'Debt collection', 'Checking or savings account', 'Mortgage', 'Debt collection', 'Checking or savings account', 'Debt collection', 'Checking or savings account', 'Checking or savings account', 'Checking or savings account', 'Mortgage', 'Checking or savings account', 'Credit card or prepaid card', 'Debt collection', 'Credit card or prepaid card', 'Debt collection', 'Debt collection', 'Debt collection', 'Checking or savings account', 'Checking or savings account', 'Checking or savings account', 'Debt collection', 'Credit card or prepaid card', 'Credit card or prepaid card', 'Debt collection', 'Debt collection', 'Debt collection', 'Debt collection', 'Debt collection', 'Mortgage', 'Credit card or prepaid card', 'Student loan', 'Checking or savings account', 'Credit card or prepaid card', 'Debt collection', 'Credit card or prepaid card', 'Credit card or prepaid card', 'Vehicle loan or lease', 'Credit card or prepaid card', 'Checking or savings account', 'Credit card or prepaid card', 'Debt collection', 'Checking or savings account', 'Debt collection', 'Debt collection', 'Debt collection', 'Vehicle loan or lease', 'Student loan', 'Mortgage', 'Debt collection', 'Checking or savings account', 'Debt collection', 'Mortgage', 'Checking or savings account', 'Mortgage', 'Debt collection', 'Credit card or prepaid card', 'Mortgage', 'Debt collection', 'Debt collection', 'Credit card or prepaid card', 'Debt collection', 'Debt collection', 'Credit card or prepaid card', 'Debt collection', 'Credit card or prepaid card', 'Mortgage', 'Debt collection', 'Mortgage', 'Debt collection', 'Student loan', 'Debt collection', 'Debt collection', 'Credit card or prepaid card', 'Credit card or prepaid card', 'Mortgage', 'Student loan', 'Checking or savings account', 'Credit card or prepaid card', 'Mortgage', 'Checking or savings account', 'Credit card or prepaid card', 'Debt collection', 'Credit card or prepaid card', 'Debt collection', 'Mortgage', 'Credit card or prepaid card', 'Mortgage', 'Mortgage', 'Debt collection', 'Vehicle loan or lease', 'Vehicle loan or lease', 'Credit card or prepaid card', 'Mortgage', 'Mortgage', 'Debt collection', 'Checking or savings account', 'Credit card or prepaid card', 'Debt collection', 'Credit card or prepaid card', 'Student loan', 'Checking or savings account', 'Credit card or prepaid card', 'Credit card or prepaid card', 'Credit card or prepaid card', 'Credit card or prepaid card', 'Credit card or prepaid card', 'Mortgage', 'Debt collection', 'Credit card or prepaid card', 'Credit card or prepaid card', 'Debt collection', 'Debt collection', 'Checking or savings account', 'Debt collection', 'Credit card or prepaid card', 'Checking or savings account', 'Debt collection', 'Mortgage', 'Mortgage', 'Mortgage', 'Checking or savings account', 'Debt collection', 'Student loan', 'Vehicle loan or lease', 'Debt collection', 'Credit card or prepaid card', 'Debt collection', 'Checking or savings account', 'Mortgage', 'Mortgage', 'Debt collection', 'Debt collection', 'Debt collection', 'Debt collection', 'Mortgage', 'Debt collection', 'Debt collection', 'Debt collection', 'Debt collection', 'Mortgage', 'Credit card or prepaid card', 'Student loan', 'Credit card or prepaid card', 'Mortgage', 'Mortgage', 'Credit card or prepaid card', 'Credit card or prepaid card', 'Mortgage', 'Debt collection', 'Credit card or prepaid card', 'Debt collection', 'Vehicle loan or lease', 'Checking or savings account', 'Debt collection', 'Debt collection', 'Credit card or prepaid card', 'Debt collection', 'Credit card or prepaid card', 'Credit card or prepaid card', 'Debt collection', 'Vehicle loan or lease', 'Debt collection', 'Debt collection', 'Debt collection', 'Credit card or prepaid card', 'Mortgage', 'Credit card or prepaid card', 'Credit card or prepaid card', 'Mortgage', 'Debt collection', 'Checking or savings account', 'Credit card or prepaid card', 'Vehicle loan or lease', 'Checking or savings account', 'Credit card or prepaid card', 'Student loan', 'Debt collection', 'Credit card or prepaid card', 'Mortgage', 'Credit card or prepaid card', 'Credit card or prepaid card', 'Mortgage', 'Checking or savings account', 'Student loan', 'Mortgage', 'Debt collection', 'Debt collection', 'Debt collection', 'Debt collection', 'Debt collection', 'Credit card or prepaid card', 'Credit card or prepaid card', 'Student loan', 'Mortgage', 'Credit card or prepaid card', 'Mortgage', 'Debt collection', 'Checking or savings account', 'Credit card or prepaid card', 'Mortgage', 'Credit card or prepaid card', 'Credit card or prepaid card', 'Debt collection', 'Debt collection', 'Debt collection', 'Debt collection', 'Vehicle loan or lease', 'Mortgage', 'Debt collection', 'Credit card or prepaid card', 'Credit card or prepaid card', 'Credit card or prepaid card', 'Debt collection', 'Mortgage', 'Credit card or prepaid card', 'Checking or savings account', 'Mortgage', 'Student loan', 'Student loan', 'Debt collection', 'Debt collection', 'Mortgage', 'Credit card or prepaid card', 'Checking or savings account', 'Checking or savings account', 'Debt collection', 'Student loan', 'Vehicle loan or lease', 'Vehicle loan or lease', 'Credit card or prepaid card', 'Debt collection', 'Debt collection', 'Credit card or prepaid card', 'Checking or savings account', 'Mortgage', 'Checking or savings account', 'Vehicle loan or lease', 'Debt collection', 'Mortgage', 'Credit card or prepaid card', 'Credit card or prepaid card', 'Debt collection', 'Checking or savings account', 'Student loan', 'Debt collection', 'Credit card or prepaid card', 'Credit card or prepaid card', 'Debt collection', 'Checking or savings account', 'Debt collection', 'Debt collection', 'Mortgage', 'Student loan', 'Debt collection', 'Credit card or prepaid card', 'Debt collection', 'Credit card or prepaid card', 'Mortgage', 'Debt collection', 'Credit card or prepaid card', 'Debt collection', 'Debt collection', 'Checking or savings account', 'Debt collection', 'Debt collection', 'Student loan', 'Debt collection', 'Checking or savings account', 'Debt collection', 'Vehicle loan or lease', 'Debt collection', 'Credit card or prepaid card', 'Checking or savings account', 'Checking or savings account', 'Mortgage', 'Student loan', 'Mortgage', 'Credit card or prepaid card', 'Credit card or prepaid card', 'Credit card or prepaid card', 'Debt collection', 'Student loan', 'Mortgage', 'Mortgage', 'Credit card or prepaid card', 'Mortgage', 'Mortgage', 'Debt collection', 'Credit card or prepaid card', 'Vehicle loan or lease', 'Credit card or prepaid card', 'Vehicle loan or lease', 'Credit card or prepaid card', 'Credit card or prepaid card', 'Mortgage', 'Mortgage', 'Credit card or prepaid card', 'Student loan', 'Mortgage', 'Credit card or prepaid card', 'Student loan', 'Debt collection', 'Debt collection', 'Checking or savings account', 'Credit card or prepaid card', 'Checking or savings account', 'Debt collection', 'Debt collection', 'Checking or savings account', 'Debt collection', 'Debt collection', 'Vehicle loan or lease', 'Vehicle loan or lease', 'Mortgage', 'Debt collection', 'Vehicle loan or lease', 'Debt collection', 'Debt collection', 'Student loan', 'Debt collection', 'Debt collection', 'Debt collection', 'Debt collection', 'Debt collection', 'Credit card or prepaid card', 'Debt collection', 'Debt collection', 'Debt collection', 'Debt collection', 'Debt collection', 'Checking or savings account', 'Debt collection', 'Mortgage', 'Debt collection', 'Vehicle loan or lease', 'Vehicle loan or lease', 'Credit card or prepaid card', 'Mortgage', 'Checking or savings account', 'Mortgage', 'Credit card or prepaid card', 'Mortgage', 'Debt collection', 'Debt collection', 'Credit card or prepaid card', 'Credit card or prepaid card', 'Mortgage', 'Debt collection', 'Checking or savings account', 'Debt collection', 'Debt collection', 'Vehicle loan or lease', 'Debt collection', 'Checking or savings account', 'Mortgage', 'Checking or savings account', 'Debt collection', 'Credit card or prepaid card', 'Mortgage', 'Credit card or prepaid card', 'Credit card or prepaid card', 'Debt collection', 'Checking or savings account', 'Debt collection', 'Vehicle loan or lease', 'Credit card or prepaid card', 'Credit card or prepaid card', 'Debt collection', 'Student loan', 'Debt collection', 'Credit card or prepaid card', 'Debt collection', 'Debt collection', 'Debt collection', 'Credit card or prepaid card', 'Debt collection', 'Mortgage', 'Debt collection', 'Debt collection', 'Mortgage', 'Credit card or prepaid card', 'Debt collection', 'Debt collection', 'Mortgage', 'Student loan', 'Debt collection', 'Debt collection', 'Credit card or prepaid card', 'Debt collection', 'Mortgage', 'Checking or savings account', 'Credit card or prepaid card', 'Vehicle loan or lease', 'Vehicle loan or lease', 'Debt collection', 'Credit card or prepaid card', 'Mortgage', 'Mortgage', 'Mortgage', 'Debt collection', 'Debt collection', 'Mortgage', 'Debt collection', 'Credit card or prepaid card', 'Credit card or prepaid card', 'Mortgage', 'Debt collection', 'Debt collection', 'Credit card or prepaid card', 'Debt collection', 'Credit card or prepaid card', 'Checking or savings account', 'Debt collection', 'Credit card or prepaid card', 'Credit card or prepaid card', 'Debt collection', 'Checking or savings account', 'Credit card or prepaid card', 'Credit card or prepaid card', 'Mortgage', 'Debt collection', 'Credit card or prepaid card', 'Mortgage', 'Debt collection', 'Debt collection', 'Checking or savings account', 'Debt collection', 'Checking or savings account', 'Credit card or prepaid card', 'Checking or savings account', 'Credit card or prepaid card', 'Student loan', 'Checking or savings account', 'Debt collection', 'Checking or savings account', 'Debt collection', 'Credit card or prepaid card', 'Debt collection', 'Checking or savings account', 'Mortgage', 'Student loan', 'Student loan', 'Debt collection', 'Credit card or prepaid card', 'Debt collection', 'Mortgage', 'Credit card or prepaid card', 'Debt collection', 'Debt collection', 'Debt collection', 'Credit card or prepaid card', 'Mortgage', 'Debt collection', 'Debt collection', 'Checking or savings account', 'Debt collection', 'Checking or savings account', 'Debt collection', 'Checking or savings account', 'Credit card or prepaid card', 'Credit card or prepaid card', 'Student loan', 'Vehicle loan or lease', 'Debt collection', 'Student loan', 'Mortgage', 'Credit card or prepaid card', 'Debt collection', 'Debt collection', 'Debt collection', 'Credit card or prepaid card', 'Credit card or prepaid card', 'Mortgage', 'Debt collection', 'Checking or savings account', 'Debt collection', 'Debt collection', 'Debt collection', 'Credit card or prepaid card', 'Student loan', 'Vehicle loan or lease', 'Credit card or prepaid card', 'Mortgage', 'Checking or savings account', 'Mortgage', 'Credit card or prepaid card', 'Debt collection', 'Credit card or prepaid card', 'Checking or savings account', 'Mortgage', 'Credit card or prepaid card', 'Credit card or prepaid card', 'Checking or savings account', 'Vehicle loan or lease', 'Vehicle loan or lease', 'Mortgage', 'Credit card or prepaid card', 'Credit card or prepaid card', 'Credit card or prepaid card', 'Credit card or prepaid card', 'Debt collection', 'Debt collection', 'Debt collection', 'Mortgage', 'Checking or savings account', 'Mortgage', 'Credit card or prepaid card', 'Credit card or prepaid card', 'Checking or savings account', 'Mortgage', 'Debt collection', 'Credit card or prepaid card', 'Debt collection', 'Debt collection', 'Debt collection', 'Mortgage', 'Vehicle loan or lease', 'Checking or savings account', 'Checking or savings account', 'Credit card or prepaid card', 'Debt collection', 'Debt collection', 'Debt collection', 'Credit card or prepaid card', 'Credit card or prepaid card', 'Debt collection', 'Mortgage', 'Credit card or prepaid card', 'Credit card or prepaid card', 'Credit card or prepaid card', 'Checking or savings account', 'Checking or savings account', 'Checking or savings account', 'Debt collection', 'Debt collection', 'Mortgage', 'Debt collection', 'Checking or savings account', 'Mortgage', 'Debt collection', 'Credit card or prepaid card', 'Debt collection', 'Debt collection', 'Debt collection', 'Debt collection', 'Debt collection', 'Mortgage', 'Mortgage', 'Checking or savings account', 'Checking or savings account', 'Credit card or prepaid card', 'Vehicle loan or lease', 'Credit card or prepaid card', 'Credit card or prepaid card', 'Checking or savings account', 'Credit card or prepaid card', 'Mortgage', 'Student loan', 'Credit card or prepaid card', 'Mortgage', 'Debt collection', 'Mortgage', 'Checking or savings account', 'Debt collection', 'Debt collection', 'Checking or savings account', 'Vehicle loan or lease', 'Credit card or prepaid card', 'Checking or savings account', 'Credit card or prepaid card', 'Mortgage', 'Debt collection', 'Debt collection', 'Mortgage', 'Mortgage', 'Student loan', 'Debt collection', 'Debt collection', 'Mortgage', 'Mortgage', 'Mortgage', 'Debt collection', 'Vehicle loan or lease', 'Credit card or prepaid card', 'Credit card or prepaid card', 'Debt collection', 'Checking or savings account', 'Debt collection', 'Debt collection', 'Mortgage', 'Debt collection', 'Mortgage', 'Credit card or prepaid card', 'Debt collection', 'Checking or savings account', 'Student loan', 'Credit card or prepaid card', 'Debt collection', 'Mortgage', 'Checking or savings account', 'Mortgage', 'Credit card or prepaid card', 'Checking or savings account', 'Mortgage', 'Credit card or prepaid card', 'Mortgage', 'Debt collection', 'Debt collection', 'Debt collection', 'Credit card or prepaid card', 'Student loan', 'Student loan', 'Credit card or prepaid card', 'Credit card or prepaid card', 'Credit card or prepaid card', 'Mortgage', 'Credit card or prepaid card', 'Vehicle loan or lease', 'Debt collection', 'Debt collection', 'Credit card or prepaid card', 'Debt collection', 'Credit card or prepaid card', 'Credit card or prepaid card', 'Debt collection', 'Debt collection', 'Checking or savings account', 'Debt collection', 'Mortgage', 'Credit card or prepaid card', 'Debt collection', 'Student loan', 'Mortgage', 'Credit card or prepaid card', 'Checking or savings account', 'Checking or savings account', 'Debt collection', 'Credit card or prepaid card', 'Checking or savings account', 'Credit card or prepaid card', 'Mortgage', 'Mortgage', 'Mortgage', 'Debt collection', 'Debt collection', 'Debt collection', 'Debt collection', 'Checking or savings account', 'Debt collection', 'Student loan', 'Debt collection', 'Debt collection', 'Debt collection', 'Mortgage', 'Debt collection', 'Mortgage', 'Mortgage', 'Mortgage', 'Credit card or prepaid card', 'Checking or savings account', 'Credit card or prepaid card', 'Debt collection', 'Debt collection', 'Student loan', 'Debt collection', 'Checking or savings account', 'Mortgage', 'Mortgage', 'Mortgage', 'Debt collection', 'Mortgage', 'Credit card or prepaid card', 'Credit card or prepaid card', 'Student loan', 'Credit card or prepaid card', 'Debt collection', 'Debt collection', 'Credit card or prepaid card', 'Debt collection', 'Student loan', 'Student loan', 'Debt collection', 'Debt collection', 'Checking or savings account', 'Vehicle loan or lease', 'Checking or savings account', 'Checking or savings account', 'Debt collection', 'Checking or savings account', 'Vehicle loan or lease', 'Credit card or prepaid card', 'Credit card or prepaid card', 'Debt collection', 'Checking or savings account', 'Debt collection', 'Mortgage', 'Debt collection', 'Debt collection', 'Mortgage', 'Debt collection', 'Mortgage', 'Debt collection', 'Debt collection', 'Checking or savings account', 'Debt collection', 'Debt collection', 'Credit card or prepaid card', 'Debt collection', 'Debt collection', 'Debt collection', 'Credit card or prepaid card', 'Mortgage', 'Mortgage', 'Student loan', 'Checking or savings account', 'Credit card or prepaid card', 'Credit card or prepaid card', 'Mortgage', 'Debt collection', 'Vehicle loan or lease', 'Mortgage', 'Debt collection', 'Debt collection', 'Student loan', 'Credit card or prepaid card', 'Debt collection', 'Vehicle loan or lease', 'Mortgage', 'Debt collection', 'Debt collection', 'Debt collection', 'Credit card or prepaid card', 'Mortgage', 'Debt collection', 'Credit card or prepaid card', 'Credit card or prepaid card', 'Credit card or prepaid card', 'Mortgage', 'Debt collection', 'Vehicle loan or lease', 'Checking or savings account', 'Mortgage', 'Student loan', 'Debt collection', 'Student loan', 'Mortgage', 'Debt collection', 'Debt collection', 'Student loan', 'Vehicle loan or lease', 'Mortgage', 'Checking or savings account', 'Debt collection', 'Mortgage', 'Debt collection', 'Debt collection', 'Debt collection', 'Credit card or prepaid card', 'Debt collection', 'Debt collection', 'Mortgage', 'Student loan', 'Credit card or prepaid card', 'Mortgage', 'Mortgage', 'Mortgage', 'Mortgage', 'Mortgage', 'Vehicle loan or lease', 'Credit card or prepaid card', 'Mortgage', 'Credit card or prepaid card', 'Student loan', 'Debt collection', 'Debt collection', 'Student loan', 'Credit card or prepaid card', 'Debt collection', 'Mortgage', 'Mortgage', 'Checking or savings account', 'Credit card or prepaid card', 'Mortgage', 'Mortgage', 'Checking or savings account', 'Debt collection', 'Debt collection', 'Credit card or prepaid card', 'Mortgage', 'Credit card or prepaid card', 'Mortgage', 'Checking or savings account', 'Credit card or prepaid card', 'Debt collection', 'Debt collection', 'Debt collection', 'Vehicle loan or lease', 'Credit card or prepaid card', 'Checking or savings account', 'Credit card or prepaid card', 'Checking or savings account', 'Mortgage', 'Debt collection', 'Debt collection', 'Debt collection', 'Mortgage', 'Mortgage', 'Debt collection', 'Checking or savings account', 'Debt collection', 'Checking or savings account', 'Debt collection', 'Debt collection', 'Credit card or prepaid card', 'Credit card or prepaid card', 'Debt collection', 'Mortgage', 'Debt collection', 'Debt collection', 'Credit card or prepaid card', 'Debt collection', 'Mortgage', 'Vehicle loan or lease', 'Mortgage', 'Debt collection', 'Credit card or prepaid card', 'Credit card or prepaid card', 'Credit card or prepaid card', 'Credit card or prepaid card', 'Checking or savings account', 'Student loan', 'Debt collection', 'Credit card or prepaid card', 'Debt collection', 'Debt collection', 'Credit card or prepaid card', 'Debt collection', 'Debt collection', 'Credit card or prepaid card', 'Vehicle loan or lease', 'Debt collection', 'Checking or savings account', 'Debt collection', 'Student loan', 'Vehicle loan or lease', 'Debt collection', 'Checking or savings account', 'Debt collection', 'Debt collection', 'Mortgage', 'Checking or savings account', 'Debt collection', 'Vehicle loan or lease', 'Debt collection', 'Debt collection', 'Vehicle loan or lease', 'Student loan', 'Mortgage', 'Debt collection', 'Student loan', 'Debt collection', 'Debt collection', 'Credit card or prepaid card', 'Checking or savings account', 'Vehicle loan or lease', 'Debt collection', 'Debt collection', 'Debt collection', 'Mortgage', 'Checking or savings account', 'Debt collection', 'Credit card or prepaid card', 'Credit card or prepaid card', 'Debt collection', 'Vehicle loan or lease', 'Vehicle loan or lease', 'Checking or savings account', 'Credit card or prepaid card', 'Checking or savings account', 'Credit card or prepaid card', 'Credit card or prepaid card', 'Credit card or prepaid card', 'Checking or savings account', 'Mortgage', 'Debt collection', 'Mortgage', 'Student loan', 'Credit card or prepaid card', 'Debt collection', 'Credit card or prepaid card', 'Debt collection', 'Debt collection', 'Debt collection', 'Credit card or prepaid card', 'Credit card or prepaid card', 'Student loan', 'Debt collection', 'Checking or savings account', 'Debt collection', 'Mortgage', 'Checking or savings account', 'Mortgage', 'Mortgage', 'Mortgage', 'Mortgage', 'Student loan', 'Mortgage', 'Debt collection', 'Mortgage', 'Mortgage', 'Credit card or prepaid card', 'Credit card or prepaid card', 'Credit card or prepaid card', 'Credit card or prepaid card', 'Credit card or prepaid card', 'Credit card or prepaid card', 'Debt collection', 'Mortgage', 'Debt collection', 'Debt collection', 'Student loan', 'Credit card or prepaid card', 'Mortgage', 'Debt collection', 'Debt collection', 'Mortgage', 'Debt collection', 'Credit card or prepaid card', 'Debt collection', 'Mortgage', 'Credit card or prepaid card', 'Checking or savings account', 'Debt collection', 'Credit card or prepaid card', 'Debt collection', 'Mortgage', 'Debt collection', 'Credit card or prepaid card', 'Checking or savings account', 'Debt collection', 'Debt collection', 'Debt collection', 'Checking or savings account', 'Debt collection', 'Mortgage', 'Mortgage', 'Student loan', 'Vehicle loan or lease', 'Debt collection', 'Debt collection', 'Credit card or prepaid card', 'Checking or savings account', 'Debt collection', 'Debt collection', 'Debt collection', 'Debt collection', 'Mortgage', 'Vehicle loan or lease', 'Credit card or prepaid card', 'Debt collection', 'Student loan', 'Checking or savings account', 'Student loan', 'Checking or savings account', 'Credit card or prepaid card', 'Debt collection', 'Mortgage', 'Mortgage', 'Debt collection', 'Mortgage', 'Credit card or prepaid card', 'Credit card or prepaid card', 'Debt collection', 'Mortgage', 'Debt collection', 'Credit card or prepaid card', 'Debt collection', 'Credit card or prepaid card', 'Checking or savings account', 'Credit card or prepaid card', 'Checking or savings account', 'Checking or savings account', 'Debt collection', 'Debt collection', 'Credit card or prepaid card', 'Debt collection', 'Student loan', 'Checking or savings account', 'Checking or savings account', 'Credit card or prepaid card', 'Debt collection', 'Debt collection', 'Mortgage', 'Credit card or prepaid card', 'Mortgage', 'Mortgage', 'Checking or savings account', 'Debt collection', 'Debt collection', 'Vehicle loan or lease', 'Checking or savings account', 'Checking or savings account', 'Debt collection', 'Credit card or prepaid card', 'Debt collection', 'Debt collection', 'Mortgage', 'Credit card or prepaid card', 'Debt collection', 'Debt collection', 'Credit card or prepaid card', 'Debt collection', 'Debt collection', 'Debt collection', 'Checking or savings account', 'Vehicle loan or lease', 'Mortgage', 'Debt collection', 'Mortgage', 'Checking or savings account', 'Checking or savings account', 'Credit card or prepaid card', 'Debt collection', 'Debt collection', 'Debt collection', 'Student loan', 'Credit card or prepaid card', 'Mortgage', 'Debt collection', 'Credit card or prepaid card', 'Credit card or prepaid card', 'Debt collection', 'Debt collection', 'Student loan', 'Credit card or prepaid card', 'Mortgage', 'Credit card or prepaid card', 'Checking or savings account', 'Debt collection', 'Debt collection', 'Student loan', 'Debt collection', 'Student loan', 'Debt collection', 'Credit card or prepaid card', 'Debt collection', 'Debt collection', 'Credit card or prepaid card', 'Mortgage', 'Vehicle loan or lease', 'Credit card or prepaid card', 'Debt collection', 'Checking or savings account', 'Mortgage', 'Credit card or prepaid card', 'Debt collection', 'Credit card or prepaid card', 'Debt collection', 'Credit card or prepaid card', 'Checking or savings account', 'Credit card or prepaid card', 'Checking or savings account', 'Checking or savings account', 'Debt collection', 'Debt collection', 'Credit card or prepaid card', 'Debt collection', 'Student loan', 'Checking or savings account', 'Credit card or prepaid card', 'Debt collection', 'Vehicle loan or lease', 'Checking or savings account', 'Credit card or prepaid card', 'Mortgage', 'Checking or savings account', 'Mortgage', 'Debt collection', 'Credit card or prepaid card', 'Checking or savings account', 'Mortgage', 'Debt collection', 'Debt collection', 'Mortgage', 'Mortgage', 'Credit card or prepaid card', 'Debt collection', 'Vehicle loan or lease', 'Credit card or prepaid card', 'Checking or savings account', 'Credit card or prepaid card', 'Debt collection', 'Credit card or prepaid card', 'Debt collection', 'Checking or savings account', 'Debt collection', 'Student loan', 'Debt collection', 'Debt collection', 'Debt collection', 'Mortgage', 'Debt collection', 'Credit card or prepaid card', 'Debt collection', 'Debt collection', 'Credit card or prepaid card', 'Debt collection', 'Debt collection', 'Debt collection', 'Debt collection', 'Checking or savings account', 'Mortgage', 'Mortgage', 'Checking or savings account', 'Credit card or prepaid card', 'Debt collection', 'Mortgage', 'Mortgage', 'Debt collection', 'Mortgage', 'Mortgage', 'Mortgage', 'Debt collection', 'Checking or savings account', 'Mortgage', 'Student loan', 'Credit card or prepaid card', 'Debt collection', 'Debt collection', 'Checking or savings account', 'Debt collection', 'Mortgage', 'Mortgage', 'Credit card or prepaid card', 'Credit card or prepaid card', 'Debt collection', 'Mortgage', 'Credit card or prepaid card', 'Debt collection', 'Credit card or prepaid card', 'Debt collection', 'Debt collection', 'Mortgage', 'Debt collection', 'Debt collection', 'Mortgage', 'Debt collection', 'Mortgage', 'Debt collection', 'Checking or savings account', 'Credit card or prepaid card', 'Debt collection', 'Mortgage', 'Debt collection', 'Debt collection', 'Vehicle loan or lease', 'Mortgage', 'Credit card or prepaid card', 'Mortgage', 'Debt collection', 'Mortgage', 'Mortgage', 'Mortgage', 'Credit card or prepaid card', 'Checking or savings account', 'Debt collection', 'Credit card or prepaid card', 'Debt collection', 'Mortgage', 'Debt collection', 'Student loan', 'Mortgage', 'Checking or savings account', 'Debt collection', 'Mortgage', 'Debt collection', 'Checking or savings account', 'Mortgage', 'Credit card or prepaid card', 'Credit card or prepaid card', 'Debt collection', 'Checking or savings account', 'Credit card or prepaid card', 'Mortgage', 'Credit card or prepaid card', 'Debt collection', 'Debt collection', 'Credit card or prepaid card', 'Debt collection', 'Debt collection', 'Credit card or prepaid card', 'Checking or savings account', 'Checking or savings account', 'Mortgage', 'Credit card or prepaid card', 'Mortgage', 'Checking or savings account', 'Credit card or prepaid card', 'Debt collection', 'Credit card or prepaid card', 'Credit card or prepaid card', 'Debt collection', 'Debt collection', 'Credit card or prepaid card', 'Credit card or prepaid card', 'Mortgage', 'Debt collection', 'Credit card or prepaid card', 'Vehicle loan or lease', 'Credit card or prepaid card', 'Checking or savings account', 'Debt collection', 'Credit card or prepaid card', 'Vehicle loan or lease', 'Mortgage', 'Debt collection', 'Debt collection', 'Debt collection', 'Debt collection', 'Debt collection', 'Debt collection', 'Mortgage', 'Mortgage', 'Mortgage', 'Checking or savings account', 'Debt collection', 'Mortgage', 'Debt collection', 'Debt collection', 'Debt collection', 'Credit card or prepaid card', 'Mortgage', 'Checking or savings account', 'Mortgage', 'Checking or savings account', 'Debt collection', 'Credit card or prepaid card', 'Mortgage', 'Mortgage', 'Debt collection', 'Mortgage', 'Debt collection', 'Debt collection', 'Mortgage', 'Debt collection', 'Credit card or prepaid card', 'Student loan', 'Checking or savings account', 'Debt collection', 'Debt collection', 'Mortgage', 'Debt collection', 'Checking or savings account', 'Credit card or prepaid card', 'Credit card or prepaid card', 'Debt collection', 'Mortgage', 'Checking or savings account', 'Mortgage', 'Mortgage', 'Mortgage', 'Mortgage', 'Debt collection', 'Debt collection', 'Debt collection', 'Mortgage', 'Checking or savings account', 'Credit card or prepaid card', 'Credit card or prepaid card', 'Vehicle loan or lease', 'Debt collection', 'Credit card or prepaid card', 'Debt collection', 'Debt collection', 'Mortgage', 'Credit card or prepaid card', 'Checking or savings account', 'Student loan', 'Debt collection', 'Credit card or prepaid card', 'Student loan', 'Student loan', 'Credit card or prepaid card', 'Vehicle loan or lease', 'Debt collection', 'Mortgage', 'Debt collection', 'Debt collection', 'Debt collection', 'Mortgage', 'Mortgage', 'Mortgage', 'Checking or savings account', 'Debt collection', 'Mortgage', 'Debt collection', 'Mortgage', 'Debt collection', 'Debt collection', 'Debt collection', 'Credit card or prepaid card', 'Debt collection', 'Mortgage', 'Credit card or prepaid card', 'Credit card or prepaid card', 'Credit card or prepaid card', 'Credit card or prepaid card', 'Credit card or prepaid card', 'Credit card or prepaid card', 'Mortgage', 'Debt collection', 'Debt collection', 'Credit card or prepaid card', 'Student loan', 'Mortgage', 'Credit card or prepaid card', 'Mortgage', 'Debt collection', 'Debt collection', 'Credit card or prepaid card', 'Checking or savings account', 'Checking or savings account', 'Mortgage', 'Mortgage', 'Credit card or prepaid card', 'Credit card or prepaid card', 'Debt collection', 'Credit card or prepaid card', 'Mortgage', 'Checking or savings account', 'Debt collection', 'Credit card or prepaid card', 'Debt collection', 'Debt collection', 'Debt collection', 'Student loan', 'Student loan', 'Credit card or prepaid card', 'Credit card or prepaid card', 'Credit card or prepaid card', 'Vehicle loan or lease', 'Debt collection', 'Vehicle loan or lease', 'Credit card or prepaid card', 'Credit card or prepaid card', 'Checking or savings account', 'Mortgage', 'Debt collection', 'Credit card or prepaid card', 'Debt collection', 'Student loan', 'Mortgage', 'Credit card or prepaid card', 'Mortgage', 'Debt collection', 'Debt collection', 'Credit card or prepaid card', 'Debt collection', 'Mortgage', 'Credit card or prepaid card', 'Vehicle loan or lease', 'Vehicle loan or lease', 'Checking or savings account', 'Debt collection', 'Debt collection', 'Debt collection', 'Debt collection', 'Credit card or prepaid card', 'Debt collection', 'Checking or savings account', 'Credit card or prepaid card', 'Mortgage', 'Debt collection', 'Credit card or prepaid card', 'Credit card or prepaid card', 'Mortgage', 'Credit card or prepaid card', 'Mortgage', 'Credit card or prepaid card', 'Debt collection', 'Mortgage', 'Debt collection', 'Credit card or prepaid card', 'Credit card or prepaid card', 'Debt collection', 'Debt collection', 'Debt collection', 'Debt collection', 'Credit card or prepaid card', 'Credit card or prepaid card', 'Mortgage', 'Mortgage', 'Credit card or prepaid card', 'Mortgage', 'Debt collection', 'Credit card or prepaid card', 'Credit card or prepaid card', 'Debt collection', 'Debt collection', 'Debt collection', 'Credit card or prepaid card', 'Debt collection', 'Checking or savings account', 'Credit card or prepaid card', 'Debt collection', 'Debt collection', 'Mortgage', 'Debt collection', 'Mortgage', 'Debt collection', 'Mortgage', 'Credit card or prepaid card', 'Credit card or prepaid card', 'Mortgage', 'Credit card or prepaid card', 'Debt collection', 'Debt collection', 'Credit card or prepaid card', 'Mortgage', 'Debt collection', 'Credit card or prepaid card', 'Debt collection', 'Vehicle loan or lease', 'Mortgage', 'Mortgage', 'Debt collection', 'Credit card or prepaid card', 'Debt collection', 'Debt collection', 'Debt collection', 'Debt collection', 'Mortgage', 'Credit card or prepaid card', 'Debt collection', 'Mortgage', 'Student loan', 'Debt collection', 'Credit card or prepaid card', 'Debt collection', 'Debt collection', 'Mortgage', 'Debt collection', 'Debt collection', 'Debt collection', 'Debt collection', 'Credit card or prepaid card', 'Debt collection', 'Checking or savings account', 'Student loan', 'Debt collection', 'Mortgage', 'Debt collection', 'Debt collection', 'Debt collection', 'Debt collection', 'Credit card or prepaid card', 'Checking or savings account', 'Credit card or prepaid card', 'Student loan', 'Credit card or prepaid card', 'Debt collection', 'Student loan', 'Credit card or prepaid card', 'Credit card or prepaid card', 'Mortgage', 'Checking or savings account', 'Vehicle loan or lease', 'Credit card or prepaid card', 'Vehicle loan or lease', 'Mortgage', 'Mortgage', 'Credit card or prepaid card', 'Mortgage', 'Mortgage', 'Checking or savings account', 'Debt collection', 'Vehicle loan or lease', 'Mortgage', 'Credit card or prepaid card', 'Mortgage', 'Credit card or prepaid card', 'Mortgage', 'Vehicle loan or lease', 'Debt collection', 'Debt collection', 'Credit card or prepaid card', 'Debt collection', 'Student loan', 'Debt collection', 'Debt collection', 'Checking or savings account', 'Checking or savings account', 'Debt collection', 'Mortgage', 'Debt collection', 'Debt collection', 'Credit card or prepaid card', 'Checking or savings account', 'Debt collection', 'Debt collection', 'Student loan', 'Debt collection', 'Debt collection', 'Mortgage', 'Credit card or prepaid card', 'Mortgage', 'Debt collection', 'Debt collection', 'Debt collection', 'Credit card or prepaid card', 'Debt collection', 'Mortgage', 'Debt collection', 'Checking or savings account', 'Student loan', 'Debt collection', 'Mortgage', 'Checking or savings account', 'Credit card or prepaid card', 'Debt collection', 'Credit card or prepaid card', 'Mortgage', 'Debt collection', 'Student loan', 'Credit card or prepaid card', 'Debt collection', 'Debt collection', 'Credit card or prepaid card', 'Mortgage', 'Debt collection', 'Debt collection', 'Credit card or prepaid card', 'Debt collection', 'Credit card or prepaid card', 'Vehicle loan or lease', 'Student loan', 'Debt collection', 'Vehicle loan or lease', 'Mortgage', 'Debt collection', 'Mortgage', 'Debt collection', 'Debt collection', 'Debt collection', 'Vehicle loan or lease', 'Credit card or prepaid card', 'Checking or savings account', 'Debt collection', 'Mortgage', 'Student loan', 'Debt collection', 'Credit card or prepaid card', 'Debt collection', 'Mortgage', 'Debt collection', 'Checking or savings account', 'Debt collection', 'Checking or savings account', 'Credit card or prepaid card', 'Checking or savings account', 'Credit card or prepaid card', 'Credit card or prepaid card', 'Credit card or prepaid card', 'Mortgage', 'Credit card or prepaid card', 'Debt collection', 'Debt collection', 'Debt collection', 'Debt collection', 'Debt collection', 'Debt collection', 'Debt collection', 'Credit card or prepaid card', 'Debt collection', 'Debt collection', 'Checking or savings account', 'Debt collection', 'Debt collection', 'Credit card or prepaid card', 'Credit card or prepaid card', 'Vehicle loan or lease', 'Mortgage', 'Credit card or prepaid card', 'Credit card or prepaid card', 'Debt collection', 'Checking or savings account', 'Mortgage', 'Debt collection', 'Debt collection', 'Debt collection', 'Debt collection', 'Checking or savings account', 'Debt collection', 'Debt collection', 'Debt collection', 'Debt collection', 'Debt collection', 'Vehicle loan or lease', 'Mortgage', 'Mortgage', 'Debt collection', 'Debt collection', 'Mortgage', 'Mortgage', 'Mortgage', 'Debt collection', 'Checking or savings account', 'Student loan', 'Credit card or prepaid card', 'Credit card or prepaid card', 'Checking or savings account', 'Credit card or prepaid card', 'Credit card or prepaid card', 'Debt collection', 'Debt collection', 'Credit card or prepaid card', 'Vehicle loan or lease', 'Checking or savings account', 'Mortgage', 'Vehicle loan or lease', 'Checking or savings account', 'Credit card or prepaid card', 'Checking or savings account', 'Mortgage', 'Checking or savings account', 'Debt collection', 'Credit card or prepaid card', 'Credit card or prepaid card', 'Mortgage', 'Debt collection', 'Debt collection', 'Debt collection', 'Vehicle loan or lease', 'Debt collection', 'Credit card or prepaid card', 'Debt collection', 'Debt collection', 'Mortgage', 'Credit card or prepaid card', 'Debt collection', 'Vehicle loan or lease', 'Debt collection', 'Mortgage', 'Credit card or prepaid card', 'Checking or savings account', 'Credit card or prepaid card', 'Debt collection', 'Mortgage', 'Debt collection', 'Student loan', 'Student loan', 'Credit card or prepaid card', 'Debt collection', 'Debt collection', 'Vehicle loan or lease', 'Student loan', 'Debt collection', 'Mortgage', 'Credit card or prepaid card', 'Mortgage', 'Debt collection', 'Debt collection', 'Debt collection', 'Mortgage', 'Mortgage', 'Mortgage', 'Mortgage', 'Credit card or prepaid card', 'Debt collection', 'Credit card or prepaid card', 'Checking or savings account', 'Vehicle loan or lease', 'Checking or savings account', 'Debt collection', 'Credit card or prepaid card', 'Debt collection', 'Mortgage', 'Credit card or prepaid card', 'Debt collection', 'Debt collection', 'Mortgage', 'Mortgage', 'Debt collection', 'Credit card or prepaid card', 'Credit card or prepaid card', 'Debt collection', 'Debt collection', 'Debt collection', 'Credit card or prepaid card', 'Credit card or prepaid card', 'Mortgage', 'Vehicle loan or lease', 'Checking or savings account', 'Debt collection', 'Debt collection', 'Mortgage', 'Checking or savings account', 'Debt collection', 'Debt collection', 'Debt collection', 'Credit card or prepaid card', 'Student loan', 'Debt collection', 'Credit card or prepaid card', 'Debt collection', 'Debt collection', 'Credit card or prepaid card', 'Mortgage', 'Mortgage', 'Mortgage', 'Checking or savings account', 'Debt collection', 'Checking or savings account', 'Debt collection', 'Mortgage', 'Mortgage', 'Debt collection', 'Checking or savings account', 'Debt collection', 'Vehicle loan or lease', 'Debt collection', 'Debt collection', 'Debt collection', 'Debt collection', 'Debt collection', 'Mortgage', 'Debt collection', 'Debt collection', 'Debt collection', 'Credit card or prepaid card', 'Checking or savings account', 'Mortgage', 'Debt collection', 'Debt collection', 'Debt collection', 'Debt collection', 'Credit card or prepaid card', 'Vehicle loan or lease', 'Debt collection', 'Debt collection', 'Mortgage', 'Debt collection', 'Student loan', 'Vehicle loan or lease', 'Debt collection', 'Debt collection', 'Mortgage', 'Debt collection', 'Debt collection', 'Debt collection', 'Debt collection', 'Debt collection', 'Mortgage', 'Mortgage', 'Student loan', 'Student loan', 'Credit card or prepaid card', 'Credit card or prepaid card', 'Debt collection', 'Checking or savings account', 'Debt collection', 'Checking or savings account', 'Vehicle loan or lease', 'Mortgage', 'Checking or savings account', 'Credit card or prepaid card', 'Mortgage', 'Debt collection', 'Credit card or prepaid card', 'Debt collection', 'Debt collection', 'Vehicle loan or lease', 'Debt collection', 'Debt collection', 'Debt collection', 'Debt collection', 'Debt collection', 'Mortgage', 'Debt collection', 'Checking or savings account', 'Mortgage', 'Debt collection', 'Mortgage', 'Checking or savings account', 'Checking or savings account', 'Credit card or prepaid card', 'Debt collection', 'Vehicle loan or lease', 'Credit card or prepaid card', 'Mortgage', 'Student loan', 'Vehicle loan or lease', 'Debt collection', 'Debt collection', 'Debt collection', 'Credit card or prepaid card', 'Checking or savings account', 'Debt collection', 'Credit card or prepaid card', 'Checking or savings account', 'Checking or savings account', 'Debt collection', 'Mortgage', 'Credit card or prepaid card', 'Credit card or prepaid card', 'Debt collection', 'Debt collection', 'Vehicle loan or lease', 'Debt collection', 'Credit card or prepaid card', 'Mortgage', 'Mortgage', 'Debt collection', 'Debt collection', 'Credit card or prepaid card', 'Checking or savings account', 'Mortgage', 'Mortgage', 'Mortgage', 'Debt collection', 'Debt collection', 'Debt collection', 'Checking or savings account', 'Mortgage', 'Mortgage', 'Checking or savings account', 'Debt collection', 'Vehicle loan or lease', 'Credit card or prepaid card', 'Debt collection', 'Debt collection', 'Debt collection', 'Mortgage', 'Student loan', 'Debt collection', 'Debt collection', 'Debt collection', 'Mortgage', 'Checking or savings account', 'Debt collection', 'Credit card or prepaid card', 'Checking or savings account', 'Debt collection', 'Debt collection', 'Student loan', 'Credit card or prepaid card', 'Credit card or prepaid card', 'Credit card or prepaid card', 'Credit card or prepaid card', 'Debt collection', 'Debt collection', 'Checking or savings account', 'Credit card or prepaid card', 'Mortgage', 'Debt collection', 'Mortgage', 'Checking or savings account', 'Debt collection', 'Credit card or prepaid card', 'Debt collection', 'Debt collection', 'Debt collection', 'Debt collection', 'Mortgage', 'Debt collection', 'Debt collection', 'Debt collection', 'Debt collection', 'Vehicle loan or lease', 'Debt collection', 'Debt collection', 'Debt collection', 'Debt collection', 'Credit card or prepaid card', 'Credit card or prepaid card', 'Student loan', 'Credit card or prepaid card', 'Mortgage', 'Debt collection', 'Credit card or prepaid card', 'Mortgage', 'Debt collection', 'Credit card or prepaid card', 'Mortgage', 'Debt collection', 'Mortgage', 'Credit card or prepaid card', 'Debt collection', 'Debt collection', 'Debt collection', 'Debt collection', 'Student loan', 'Mortgage', 'Debt collection', 'Debt collection', 'Checking or savings account', 'Debt collection', 'Checking or savings account', 'Mortgage', 'Vehicle loan or lease', 'Debt collection', 'Credit card or prepaid card', 'Credit card or prepaid card', 'Debt collection', 'Debt collection', 'Student loan', 'Mortgage', 'Mortgage', 'Debt collection', 'Credit card or prepaid card', 'Vehicle loan or lease', 'Credit card or prepaid card', 'Credit card or prepaid card', 'Mortgage', 'Debt collection', 'Debt collection', 'Debt collection', 'Credit card or prepaid card', 'Debt collection', 'Debt collection', 'Mortgage', 'Student loan', 'Debt collection', 'Debt collection', 'Mortgage', 'Debt collection', 'Credit card or prepaid card', 'Debt collection', 'Student loan', 'Credit card or prepaid card', 'Debt collection', 'Debt collection', 'Debt collection', 'Mortgage', 'Checking or savings account', 'Checking or savings account', 'Debt collection', 'Checking or savings account', 'Credit card or prepaid card', 'Credit card or prepaid card', 'Debt collection', 'Debt collection', 'Debt collection', 'Debt collection', 'Mortgage', 'Credit card or prepaid card', 'Credit card or prepaid card', 'Mortgage', 'Credit card or prepaid card', 'Mortgage', 'Student loan', 'Debt collection', 'Debt collection', 'Debt collection', 'Debt collection', 'Debt collection', 'Credit card or prepaid card', 'Vehicle loan or lease', 'Debt collection', 'Debt collection', 'Credit card or prepaid card', 'Debt collection', 'Student loan', 'Debt collection', 'Debt collection', 'Debt collection', 'Credit card or prepaid card', 'Checking or savings account', 'Credit card or prepaid card', 'Debt collection', 'Student loan', 'Credit card or prepaid card', 'Credit card or prepaid card', 'Vehicle loan or lease', 'Checking or savings account', 'Credit card or prepaid card', 'Credit card or prepaid card', 'Debt collection', 'Debt collection', 'Checking or savings account', 'Debt collection', 'Student loan', 'Mortgage', 'Debt collection', 'Debt collection', 'Credit card or prepaid card', 'Checking or savings account', 'Credit card or prepaid card', 'Mortgage', 'Mortgage', 'Debt collection', 'Credit card or prepaid card', 'Checking or savings account', 'Debt collection', 'Student loan', 'Debt collection', 'Credit card or prepaid card', 'Checking or savings account', 'Debt collection', 'Checking or savings account', 'Student loan', 'Mortgage', 'Credit card or prepaid card', 'Vehicle loan or lease', 'Mortgage', 'Debt collection', 'Credit card or prepaid card', 'Credit card or prepaid card', 'Credit card or prepaid card', 'Debt collection', 'Checking or savings account', 'Mortgage', 'Vehicle loan or lease', 'Debt collection', 'Debt collection', 'Credit card or prepaid card', 'Debt collection', 'Vehicle loan or lease', 'Debt collection', 'Credit card or prepaid card', 'Student loan', 'Credit card or prepaid card', 'Student loan', 'Mortgage', 'Checking or savings account', 'Mortgage', 'Credit card or prepaid card', 'Debt collection', 'Student loan', 'Credit card or prepaid card', 'Checking or savings account', 'Credit card or prepaid card', 'Debt collection', 'Debt collection', 'Credit card or prepaid card', 'Debt collection', 'Vehicle loan or lease', 'Mortgage', 'Debt collection', 'Debt collection', 'Mortgage', 'Student loan', 'Debt collection', 'Debt collection', 'Student loan', 'Credit card or prepaid card', 'Credit card or prepaid card', 'Debt collection', 'Debt collection', 'Checking or savings account', 'Debt collection', 'Credit card or prepaid card', 'Debt collection', 'Credit card or prepaid card', 'Debt collection', 'Debt collection', 'Checking or savings account', 'Debt collection', 'Credit card or prepaid card', 'Credit card or prepaid card', 'Vehicle loan or lease', 'Debt collection', 'Credit card or prepaid card', 'Debt collection', 'Vehicle loan or lease', 'Debt collection', 'Checking or savings account', 'Student loan', 'Debt collection', 'Mortgage', 'Debt collection', 'Checking or savings account', 'Debt collection', 'Debt collection', 'Debt collection', 'Debt collection', 'Mortgage', 'Credit card or prepaid card', 'Debt collection', 'Debt collection', 'Credit card or prepaid card', 'Debt collection', 'Mortgage', 'Credit card or prepaid card', 'Debt collection', 'Credit card or prepaid card', 'Mortgage', 'Debt collection', 'Student loan', 'Credit card or prepaid card', 'Mortgage', 'Debt collection', 'Debt collection', 'Vehicle loan or lease', 'Credit card or prepaid card', 'Debt collection', 'Checking or savings account', 'Checking or savings account', 'Debt collection', 'Credit card or prepaid card', 'Mortgage', 'Debt collection', 'Debt collection', 'Mortgage', 'Credit card or prepaid card', 'Debt collection', 'Debt collection', 'Debt collection', 'Student loan', 'Credit card or prepaid card', 'Mortgage', 'Debt collection', 'Debt collection', 'Mortgage', 'Credit card or prepaid card', 'Credit card or prepaid card', 'Credit card or prepaid card', 'Student loan', 'Debt collection', 'Checking or savings account', 'Student loan', 'Checking or savings account', 'Debt collection', 'Debt collection', 'Checking or savings account', 'Mortgage', 'Debt collection', 'Debt collection', 'Debt collection', 'Debt collection', 'Debt collection', 'Debt collection', 'Debt collection', 'Debt collection', 'Credit card or prepaid card', 'Credit card or prepaid card', 'Debt collection', 'Mortgage', 'Mortgage', 'Debt collection', 'Credit card or prepaid card', 'Checking or savings account', 'Mortgage', 'Debt collection', 'Credit card or prepaid card', 'Checking or savings account', 'Debt collection', 'Student loan', 'Debt collection', 'Debt collection', 'Vehicle loan or lease', 'Debt collection', 'Debt collection', 'Checking or savings account', 'Debt collection', 'Debt collection', 'Credit card or prepaid card', 'Mortgage', 'Mortgage', 'Checking or savings account', 'Vehicle loan or lease', 'Debt collection', 'Debt collection', 'Mortgage', 'Debt collection', 'Mortgage', 'Credit card or prepaid card', 'Debt collection', 'Checking or savings account', 'Credit card or prepaid card', 'Checking or savings account', 'Debt collection', 'Checking or savings account', 'Debt collection', 'Credit card or prepaid card', 'Mortgage', 'Credit card or prepaid card', 'Credit card or prepaid card', 'Checking or savings account', 'Debt collection', 'Checking or savings account', 'Mortgage', 'Credit card or prepaid card', 'Vehicle loan or lease', 'Debt collection', 'Mortgage', 'Debt collection', 'Debt collection', 'Debt collection', 'Credit card or prepaid card', 'Mortgage', 'Debt collection', 'Debt collection', 'Credit card or prepaid card', 'Debt collection', 'Mortgage', 'Mortgage', 'Debt collection', 'Checking or savings account', 'Mortgage', 'Student loan', 'Debt collection', 'Debt collection', 'Student loan', 'Debt collection', 'Mortgage', 'Debt collection', 'Debt collection', 'Checking or savings account', 'Debt collection', 'Debt collection', 'Debt collection', 'Debt collection', 'Checking or savings account', 'Vehicle loan or lease', 'Debt collection', 'Checking or savings account', 'Credit card or prepaid card', 'Credit card or prepaid card', 'Credit card or prepaid card', 'Student loan', 'Debt collection', 'Debt collection', 'Credit card or prepaid card', 'Student loan', 'Checking or savings account', 'Credit card or prepaid card', 'Debt collection', 'Vehicle loan or lease', 'Vehicle loan or lease', 'Student loan', 'Vehicle loan or lease', 'Debt collection', 'Debt collection', 'Credit card or prepaid card', 'Checking or savings account', 'Debt collection', 'Credit card or prepaid card', 'Debt collection', 'Debt collection', 'Checking or savings account', 'Debt collection', 'Debt collection', 'Debt collection', 'Credit card or prepaid card', 'Debt collection', 'Credit card or prepaid card', 'Mortgage', 'Debt collection', 'Mortgage', 'Credit card or prepaid card', 'Debt collection', 'Credit card or prepaid card', 'Student loan', 'Debt collection', 'Credit card or prepaid card', 'Debt collection', 'Mortgage', 'Checking or savings account', 'Student loan', 'Debt collection', 'Checking or savings account', 'Credit card or prepaid card', 'Credit card or prepaid card', 'Student loan', 'Checking or savings account', 'Debt collection', 'Checking or savings account', 'Debt collection', 'Vehicle loan or lease', 'Debt collection', 'Debt collection', 'Credit card or prepaid card', 'Debt collection', 'Debt collection', 'Debt collection', 'Debt collection', 'Credit card or prepaid card', 'Debt collection', 'Vehicle loan or lease', 'Credit card or prepaid card', 'Debt collection', 'Vehicle loan or lease', 'Checking or savings account', 'Debt collection', 'Debt collection', 'Debt collection', 'Vehicle loan or lease', 'Checking or savings account', 'Debt collection', 'Credit card or prepaid card', 'Credit card or prepaid card', 'Mortgage', 'Debt collection', 'Checking or savings account', 'Checking or savings account', 'Mortgage', 'Checking or savings account', 'Credit card or prepaid card', 'Credit card or prepaid card', 'Credit card or prepaid card', 'Vehicle loan or lease', 'Student loan', 'Vehicle loan or lease', 'Credit card or prepaid card', 'Debt collection', 'Mortgage', 'Credit card or prepaid card', 'Debt collection', 'Debt collection', 'Credit card or prepaid card', 'Mortgage', 'Mortgage', 'Credit card or prepaid card', 'Checking or savings account', 'Debt collection', 'Checking or savings account', 'Mortgage', 'Checking or savings account', 'Checking or savings account', 'Debt collection', 'Checking or savings account', 'Debt collection', 'Mortgage', 'Debt collection', 'Student loan', 'Vehicle loan or lease', 'Debt collection', 'Vehicle loan or lease', 'Credit card or prepaid card', 'Credit card or prepaid card', 'Credit card or prepaid card', 'Mortgage', 'Credit card or prepaid card', 'Debt collection', 'Debt collection', 'Credit card or prepaid card', 'Checking or savings account', 'Student loan', 'Debt collection', 'Debt collection', 'Student loan', 'Credit card or prepaid card', 'Credit card or prepaid card', 'Checking or savings account', 'Debt collection', 'Mortgage', 'Student loan', 'Credit card or prepaid card', 'Debt collection', 'Debt collection', 'Checking or savings account', 'Debt collection', 'Mortgage', 'Mortgage', 'Vehicle loan or lease', 'Debt collection', 'Checking or savings account', 'Checking or savings account', 'Credit card or prepaid card', 'Mortgage', 'Debt collection', 'Debt collection', 'Credit card or prepaid card', 'Credit card or prepaid card', 'Debt collection', 'Debt collection', 'Mortgage', 'Credit card or prepaid card', 'Debt collection', 'Credit card or prepaid card', 'Debt collection', 'Debt collection', 'Checking or savings account', 'Credit card or prepaid card', 'Debt collection', 'Debt collection', 'Vehicle loan or lease', 'Mortgage', 'Checking or savings account', 'Debt collection', 'Mortgage', 'Debt collection', 'Debt collection', 'Mortgage', 'Credit card or prepaid card', 'Credit card or prepaid card', 'Mortgage', 'Credit card or prepaid card', 'Debt collection', 'Debt collection', 'Credit card or prepaid card', 'Checking or savings account', 'Student loan', 'Debt collection', 'Mortgage', 'Credit card or prepaid card', 'Debt collection', 'Debt collection', 'Debt collection', 'Credit card or prepaid card', 'Debt collection', 'Vehicle loan or lease', 'Debt collection', 'Checking or savings account', 'Debt collection', 'Debt collection', 'Debt collection', 'Credit card or prepaid card', 'Vehicle loan or lease', 'Debt collection', 'Mortgage', 'Debt collection', 'Debt collection', 'Mortgage', 'Credit card or prepaid card', 'Student loan', 'Mortgage', 'Debt collection', 'Vehicle loan or lease', 'Debt collection', 'Debt collection', 'Checking or savings account', 'Debt collection', 'Checking or savings account', 'Mortgage', 'Credit card or prepaid card', 'Checking or savings account', 'Mortgage', 'Debt collection', 'Checking or savings account', 'Mortgage', 'Credit card or prepaid card', 'Debt collection', 'Checking or savings account', 'Debt collection', 'Credit card or prepaid card', 'Credit card or prepaid card', 'Credit card or prepaid card', 'Debt collection', 'Debt collection', 'Debt collection', 'Debt collection', 'Debt collection', 'Debt collection', 'Student loan', 'Credit card or prepaid card', 'Debt collection', 'Credit card or prepaid card', 'Credit card or prepaid card', 'Debt collection', 'Mortgage', 'Mortgage', 'Credit card or prepaid card', 'Mortgage', 'Mortgage', 'Mortgage', 'Mortgage', 'Debt collection', 'Vehicle loan or lease', 'Debt collection', 'Credit card or prepaid card', 'Debt collection', 'Debt collection', 'Checking or savings account', 'Credit card or prepaid card', 'Credit card or prepaid card', 'Credit card or prepaid card', 'Checking or savings account', 'Mortgage', 'Credit card or prepaid card', 'Credit card or prepaid card', 'Vehicle loan or lease', 'Checking or savings account', 'Credit card or prepaid card', 'Debt collection', 'Checking or savings account', 'Debt collection', 'Student loan', 'Debt collection', 'Credit card or prepaid card', 'Credit card or prepaid card', 'Debt collection', 'Checking or savings account', 'Credit card or prepaid card', 'Credit card or prepaid card', 'Debt collection', 'Credit card or prepaid card', 'Checking or savings account', 'Debt collection', 'Credit card or prepaid card', 'Mortgage', 'Credit card or prepaid card', 'Debt collection', 'Vehicle loan or lease', 'Credit card or prepaid card', 'Mortgage', 'Mortgage', 'Checking or savings account', 'Debt collection', 'Credit card or prepaid card', 'Credit card or prepaid card', 'Debt collection', 'Debt collection', 'Debt collection', 'Student loan', 'Debt collection', 'Debt collection', 'Debt collection', 'Credit card or prepaid card', 'Mortgage', 'Debt collection', 'Student loan', 'Debt collection', 'Credit card or prepaid card', 'Debt collection', 'Checking or savings account', 'Credit card or prepaid card', 'Debt collection', 'Debt collection', 'Credit card or prepaid card', 'Credit card or prepaid card', 'Debt collection', 'Mortgage', 'Debt collection', 'Checking or savings account', 'Checking or savings account', 'Debt collection', 'Checking or savings account', 'Student loan', 'Debt collection', 'Mortgage', 'Mortgage', 'Mortgage', 'Checking or savings account', 'Debt collection', 'Debt collection', 'Debt collection', 'Mortgage', 'Student loan', 'Credit card or prepaid card', 'Vehicle loan or lease', 'Debt collection', 'Credit card or prepaid card', 'Checking or savings account', 'Credit card or prepaid card', 'Credit card or prepaid card', 'Student loan', 'Credit card or prepaid card', 'Debt collection', 'Debt collection', 'Debt collection', 'Student loan', 'Credit card or prepaid card', 'Checking or savings account', 'Mortgage', 'Credit card or prepaid card', 'Debt collection', 'Mortgage', 'Credit card or prepaid card', 'Vehicle loan or lease', 'Credit card or prepaid card', 'Checking or savings account', 'Student loan', 'Debt collection', 'Debt collection', 'Debt collection', 'Debt collection', 'Vehicle loan or lease', 'Debt collection', 'Credit card or prepaid card', 'Credit card or prepaid card', 'Student loan', 'Vehicle loan or lease', 'Credit card or prepaid card', 'Debt collection', 'Credit card or prepaid card', 'Debt collection', 'Vehicle loan or lease', 'Debt collection', 'Debt collection', 'Checking or savings account', 'Debt collection', 'Mortgage', 'Debt collection', 'Checking or savings account', 'Mortgage', 'Checking or savings account', 'Checking or savings account', 'Debt collection', 'Mortgage', 'Checking or savings account', 'Debt collection', 'Checking or savings account', 'Credit card or prepaid card', 'Mortgage', 'Mortgage', 'Vehicle loan or lease', 'Debt collection', 'Student loan', 'Credit card or prepaid card', 'Credit card or prepaid card', 'Vehicle loan or lease', 'Credit card or prepaid card', 'Credit card or prepaid card', 'Debt collection', 'Checking or savings account', 'Mortgage', 'Checking or savings account', 'Mortgage', 'Credit card or prepaid card', 'Debt collection', 'Debt collection', 'Mortgage', 'Debt collection', 'Checking or savings account', 'Mortgage', 'Mortgage', 'Student loan', 'Debt collection', 'Debt collection', 'Debt collection', 'Vehicle loan or lease', 'Debt collection', 'Mortgage', 'Mortgage', 'Mortgage', 'Credit card or prepaid card', 'Debt collection', 'Debt collection', 'Debt collection', 'Debt collection', 'Vehicle loan or lease', 'Debt collection', 'Credit card or prepaid card', 'Checking or savings account', 'Debt collection', 'Vehicle loan or lease', 'Mortgage', 'Debt collection', 'Mortgage', 'Checking or savings account', 'Checking or savings account', 'Credit card or prepaid card', 'Student loan', 'Debt collection', 'Debt collection', 'Checking or savings account', 'Mortgage', 'Credit card or prepaid card', 'Credit card or prepaid card', 'Mortgage', 'Debt collection', 'Mortgage', 'Debt collection', 'Debt collection', 'Debt collection', 'Student loan', 'Mortgage', 'Debt collection', 'Credit card or prepaid card', 'Debt collection', 'Debt collection', 'Student loan', 'Credit card or prepaid card', 'Debt collection', 'Checking or savings account', 'Checking or savings account', 'Debt collection', 'Vehicle loan or lease', 'Debt collection', 'Mortgage', 'Debt collection', 'Debt collection', 'Debt collection', 'Student loan', 'Debt collection', 'Debt collection', 'Debt collection', 'Mortgage', 'Mortgage', 'Checking or savings account', 'Credit card or prepaid card', 'Mortgage', 'Mortgage', 'Debt collection', 'Checking or savings account', 'Credit card or prepaid card', 'Mortgage', 'Checking or savings account', 'Debt collection', 'Credit card or prepaid card', 'Debt collection', 'Mortgage', 'Mortgage', 'Debt collection', 'Debt collection', 'Mortgage', 'Credit card or prepaid card', 'Credit card or prepaid card', 'Debt collection', 'Checking or savings account', 'Credit card or prepaid card', 'Checking or savings account', 'Debt collection', 'Debt collection', 'Debt collection', 'Mortgage', 'Debt collection', 'Checking or savings account', 'Mortgage', 'Debt collection', 'Debt collection', 'Debt collection', 'Student loan', 'Debt collection', 'Credit card or prepaid card', 'Mortgage', 'Credit card or prepaid card', 'Mortgage', 'Checking or savings account', 'Vehicle loan or lease', 'Debt collection', 'Debt collection', 'Mortgage', 'Debt collection', 'Debt collection', 'Credit card or prepaid card', 'Credit card or prepaid card', 'Debt collection', 'Debt collection', 'Checking or savings account', 'Credit card or prepaid card', 'Credit card or prepaid card', 'Debt collection', 'Credit card or prepaid card', 'Mortgage', 'Credit card or prepaid card', 'Credit card or prepaid card', 'Credit card or prepaid card', 'Debt collection', 'Checking or savings account', 'Debt collection', 'Student loan', 'Debt collection', 'Debt collection', 'Credit card or prepaid card', 'Mortgage', 'Debt collection', 'Checking or savings account', 'Credit card or prepaid card', 'Checking or savings account', 'Checking or savings account', 'Mortgage', 'Credit card or prepaid card', 'Debt collection', 'Vehicle loan or lease', 'Debt collection', 'Credit card or prepaid card', 'Checking or savings account', 'Debt collection', 'Credit card or prepaid card', 'Credit card or prepaid card', 'Debt collection', 'Mortgage', 'Student loan', 'Debt collection', 'Mortgage', 'Mortgage', 'Credit card or prepaid card', 'Checking or savings account', 'Debt collection', 'Credit card or prepaid card', 'Debt collection', 'Checking or savings account', 'Mortgage', 'Mortgage', 'Mortgage', 'Debt collection', 'Debt collection', 'Credit card or prepaid card', 'Vehicle loan or lease', 'Credit card or prepaid card', 'Mortgage', 'Credit card or prepaid card', 'Mortgage', 'Debt collection', 'Mortgage', 'Credit card or prepaid card', 'Credit card or prepaid card', 'Credit card or prepaid card', 'Debt collection', 'Debt collection', 'Checking or savings account', 'Credit card or prepaid card', 'Checking or savings account', 'Vehicle loan or lease', 'Debt collection', 'Debt collection', 'Debt collection', 'Mortgage', 'Debt collection', 'Debt collection', 'Checking or savings account', 'Debt collection', 'Mortgage', 'Credit card or prepaid card', 'Vehicle loan or lease', 'Checking or savings account', 'Debt collection', 'Credit card or prepaid card', 'Debt collection', 'Student loan', 'Student loan', 'Debt collection', 'Debt collection', 'Debt collection', 'Debt collection', 'Credit card or prepaid card', 'Credit card or prepaid card', 'Debt collection', 'Mortgage', 'Debt collection', 'Mortgage', 'Debt collection', 'Credit card or prepaid card', 'Mortgage', 'Debt collection', 'Mortgage', 'Checking or savings account', 'Credit card or prepaid card', 'Credit card or prepaid card', 'Checking or savings account', 'Credit card or prepaid card', 'Debt collection', 'Credit card or prepaid card', 'Credit card or prepaid card', 'Debt collection', 'Checking or savings account', 'Student loan', 'Credit card or prepaid card', 'Mortgage', 'Debt collection', 'Student loan', 'Mortgage', 'Credit card or prepaid card', 'Mortgage', 'Debt collection', 'Debt collection', 'Checking or savings account', 'Checking or savings account', 'Credit card or prepaid card', 'Debt collection', 'Mortgage', 'Credit card or prepaid card', 'Debt collection', 'Mortgage', 'Checking or savings account', 'Credit card or prepaid card', 'Credit card or prepaid card', 'Debt collection', 'Debt collection', 'Student loan', 'Mortgage', 'Vehicle loan or lease', 'Debt collection', 'Vehicle loan or lease', 'Debt collection', 'Debt collection', 'Debt collection', 'Credit card or prepaid card', 'Credit card or prepaid card', 'Mortgage', 'Credit card or prepaid card', 'Debt collection', 'Student loan', 'Credit card or prepaid card', 'Credit card or prepaid card', 'Debt collection', 'Debt collection', 'Mortgage', 'Checking or savings account', 'Debt collection', 'Credit card or prepaid card', 'Debt collection', 'Debt collection', 'Credit card or prepaid card', 'Mortgage', 'Debt collection', 'Credit card or prepaid card', 'Debt collection', 'Debt collection', 'Checking or savings account', 'Debt collection', 'Debt collection', 'Mortgage', 'Debt collection', 'Debt collection', 'Vehicle loan or lease', 'Debt collection', 'Vehicle loan or lease', 'Debt collection', 'Debt collection', 'Checking or savings account', 'Mortgage', 'Debt collection', 'Mortgage', 'Debt collection', 'Debt collection', 'Debt collection', 'Credit card or prepaid card', 'Debt collection', 'Debt collection', 'Debt collection', 'Credit card or prepaid card', 'Student loan', 'Credit card or prepaid card', 'Checking or savings account', 'Debt collection', 'Credit card or prepaid card', 'Debt collection', 'Mortgage', 'Student loan', 'Debt collection', 'Credit card or prepaid card', 'Mortgage', 'Debt collection', 'Debt collection', 'Vehicle loan or lease', 'Credit card or prepaid card', 'Debt collection', 'Vehicle loan or lease', 'Vehicle loan or lease', 'Mortgage', 'Credit card or prepaid card', 'Debt collection', 'Credit card or prepaid card', 'Debt collection', 'Mortgage', 'Debt collection', 'Credit card or prepaid card', 'Debt collection', 'Credit card or prepaid card', 'Student loan', 'Debt collection', 'Credit card or prepaid card', 'Debt collection', 'Credit card or prepaid card', 'Credit card or prepaid card', 'Credit card or prepaid card', 'Debt collection', 'Debt collection', 'Checking or savings account', 'Debt collection', 'Debt collection', 'Debt collection', 'Debt collection', 'Debt collection', 'Credit card or prepaid card', 'Checking or savings account', 'Debt collection', 'Mortgage', 'Debt collection', 'Debt collection', 'Checking or savings account', 'Debt collection', 'Credit card or prepaid card', 'Checking or savings account', 'Debt collection', 'Checking or savings account', 'Credit card or prepaid card', 'Credit card or prepaid card', 'Debt collection', 'Checking or savings account', 'Debt collection', 'Debt collection', 'Mortgage', 'Debt collection', 'Student loan', 'Credit card or prepaid card', 'Mortgage', 'Debt collection', 'Debt collection', 'Student loan', 'Debt collection', 'Vehicle loan or lease', 'Credit card or prepaid card', 'Debt collection', 'Mortgage', 'Vehicle loan or lease', 'Debt collection', 'Debt collection', 'Vehicle loan or lease', 'Debt collection', 'Credit card or prepaid card', 'Credit card or prepaid card', 'Mortgage', 'Debt collection', 'Debt collection', 'Mortgage', 'Credit card or prepaid card', 'Credit card or prepaid card', 'Credit card or prepaid card', 'Debt collection', 'Vehicle loan or lease', 'Checking or savings account', 'Debt collection', 'Debt collection', 'Credit card or prepaid card', 'Debt collection', 'Checking or savings account', 'Mortgage', 'Credit card or prepaid card', 'Checking or savings account', 'Debt collection', 'Credit card or prepaid card', 'Mortgage', 'Debt collection', 'Student loan', 'Credit card or prepaid card', 'Credit card or prepaid card', 'Debt collection', 'Student loan', 'Credit card or prepaid card', 'Student loan', 'Checking or savings account', 'Debt collection', 'Credit card or prepaid card', 'Debt collection', 'Debt collection', 'Credit card or prepaid card', 'Debt collection', 'Checking or savings account', 'Credit card or prepaid card', 'Debt collection', 'Debt collection', 'Debt collection', 'Debt collection', 'Credit card or prepaid card', 'Student loan', 'Debt collection', 'Mortgage', 'Debt collection', 'Student loan', 'Student loan', 'Credit card or prepaid card', 'Credit card or prepaid card', 'Debt collection', 'Debt collection', 'Debt collection', 'Mortgage', 'Checking or savings account', 'Credit card or prepaid card', 'Vehicle loan or lease', 'Debt collection', 'Student loan', 'Credit card or prepaid card', 'Checking or savings account', 'Checking or savings account', 'Credit card or prepaid card', 'Mortgage', 'Vehicle loan or lease', 'Debt collection', 'Mortgage', 'Credit card or prepaid card', 'Mortgage', 'Debt collection', 'Credit card or prepaid card', 'Checking or savings account', 'Credit card or prepaid card', 'Debt collection', 'Vehicle loan or lease', 'Student loan', 'Credit card or prepaid card', 'Debt collection', 'Checking or savings account', 'Credit card or prepaid card', 'Credit card or prepaid card', 'Checking or savings account', 'Student loan', 'Student loan', 'Debt collection', 'Vehicle loan or lease', 'Student loan', 'Credit card or prepaid card', 'Debt collection', 'Credit card or prepaid card', 'Debt collection', 'Debt collection', 'Credit card or prepaid card', 'Debt collection', 'Credit card or prepaid card', 'Mortgage', 'Credit card or prepaid card', 'Credit card or prepaid card', 'Checking or savings account', 'Mortgage', 'Credit card or prepaid card', 'Debt collection', 'Debt collection', 'Debt collection', 'Mortgage', 'Debt collection', 'Credit card or prepaid card', 'Credit card or prepaid card', 'Credit card or prepaid card', 'Mortgage', 'Mortgage', 'Checking or savings account', 'Mortgage', 'Debt collection', 'Debt collection', 'Mortgage', 'Credit card or prepaid card', 'Mortgage', 'Checking or savings account', 'Credit card or prepaid card', 'Mortgage', 'Vehicle loan or lease', 'Mortgage', 'Student loan', 'Credit card or prepaid card', 'Debt collection', 'Debt collection', 'Debt collection', 'Vehicle loan or lease', 'Checking or savings account', 'Debt collection', 'Debt collection', 'Debt collection', 'Mortgage', 'Credit card or prepaid card', 'Mortgage', 'Debt collection', 'Credit card or prepaid card', 'Credit card or prepaid card', 'Checking or savings account', 'Debt collection', 'Mortgage', 'Mortgage', 'Debt collection', 'Credit card or prepaid card', 'Checking or savings account', 'Debt collection', 'Mortgage', 'Mortgage', 'Checking or savings account', 'Credit card or prepaid card', 'Debt collection', 'Mortgage', 'Vehicle loan or lease', 'Credit card or prepaid card', 'Credit card or prepaid card', 'Debt collection', 'Credit card or prepaid card', 'Credit card or prepaid card', 'Student loan', 'Checking or savings account', 'Credit card or prepaid card', 'Mortgage', 'Credit card or prepaid card', 'Debt collection', 'Credit card or prepaid card', 'Vehicle loan or lease', 'Debt collection', 'Debt collection', 'Debt collection', 'Debt collection', 'Credit card or prepaid card', 'Debt collection', 'Credit card or prepaid card', 'Debt collection', 'Credit card or prepaid card', 'Mortgage', 'Debt collection', 'Credit card or prepaid card', 'Debt collection', 'Mortgage', 'Credit card or prepaid card', 'Mortgage', 'Credit card or prepaid card', 'Credit card or prepaid card', 'Mortgage', 'Credit card or prepaid card', 'Checking or savings account', 'Debt collection', 'Debt collection', 'Credit card or prepaid card', 'Credit card or prepaid card', 'Credit card or prepaid card', 'Debt collection', 'Debt collection', 'Debt collection', 'Debt collection', 'Debt collection', 'Mortgage', 'Student loan', 'Credit card or prepaid card', 'Checking or savings account', 'Debt collection', 'Checking or savings account', 'Mortgage', 'Credit card or prepaid card', 'Mortgage', 'Debt collection', 'Credit card or prepaid card', 'Mortgage', 'Debt collection', 'Checking or savings account', 'Debt collection', 'Credit card or prepaid card', 'Credit card or prepaid card', 'Checking or savings account', 'Mortgage', 'Debt collection', 'Debt collection', 'Mortgage', 'Debt collection', 'Debt collection', 'Checking or savings account', 'Checking or savings account', 'Debt collection', 'Debt collection', 'Debt collection', 'Credit card or prepaid card', 'Debt collection', 'Mortgage', 'Mortgage', 'Debt collection', 'Mortgage', 'Mortgage', 'Debt collection', 'Student loan', 'Checking or savings account', 'Checking or savings account', 'Debt collection', 'Debt collection', 'Debt collection', 'Credit card or prepaid card', 'Credit card or prepaid card', 'Checking or savings account', 'Credit card or prepaid card', 'Debt collection', 'Mortgage', 'Mortgage', 'Credit card or prepaid card', 'Checking or savings account', 'Mortgage', 'Debt collection', 'Credit card or prepaid card', 'Credit card or prepaid card', 'Debt collection', 'Credit card or prepaid card', 'Credit card or prepaid card', 'Debt collection', 'Mortgage', 'Debt collection', 'Debt collection', 'Student loan', 'Debt collection', 'Checking or savings account', 'Credit card or prepaid card', 'Debt collection', 'Mortgage', 'Debt collection', 'Checking or savings account', 'Debt collection', 'Checking or savings account', 'Checking or savings account', 'Debt collection', 'Debt collection', 'Checking or savings account', 'Checking or savings account', 'Student loan', 'Credit card or prepaid card', 'Credit card or prepaid card', 'Mortgage', 'Mortgage', 'Credit card or prepaid card', 'Credit card or prepaid card', 'Debt collection', 'Debt collection', 'Credit card or prepaid card', 'Mortgage', 'Debt collection', 'Mortgage', 'Debt collection', 'Checking or savings account', 'Checking or savings account', 'Checking or savings account', 'Debt collection', 'Checking or savings account', 'Debt collection', 'Debt collection', 'Debt collection', 'Debt collection', 'Debt collection', 'Checking or savings account', 'Mortgage', 'Credit card or prepaid card', 'Credit card or prepaid card', 'Credit card or prepaid card', 'Mortgage', 'Mortgage', 'Checking or savings account', 'Mortgage', 'Debt collection', 'Debt collection', 'Credit card or prepaid card', 'Credit card or prepaid card', 'Debt collection', 'Mortgage', 'Debt collection', 'Checking or savings account', 'Credit card or prepaid card', 'Vehicle loan or lease', 'Debt collection', 'Debt collection', 'Debt collection', 'Mortgage', 'Vehicle loan or lease', 'Credit card or prepaid card', 'Mortgage', 'Debt collection', 'Debt collection', 'Debt collection', 'Debt collection', 'Credit card or prepaid card', 'Debt collection', 'Mortgage', 'Mortgage', 'Debt collection', 'Debt collection', 'Credit card or prepaid card', 'Checking or savings account', 'Vehicle loan or lease', 'Debt collection', 'Credit card or prepaid card', 'Credit card or prepaid card', 'Mortgage', 'Debt collection', 'Checking or savings account', 'Debt collection', 'Debt collection', 'Debt collection', 'Vehicle loan or lease', 'Checking or savings account', 'Debt collection', 'Debt collection', 'Debt collection', 'Mortgage', 'Credit card or prepaid card', 'Debt collection', 'Mortgage', 'Credit card or prepaid card', 'Credit card or prepaid card', 'Debt collection', 'Checking or savings account', 'Debt collection', 'Student loan', 'Credit card or prepaid card', 'Debt collection', 'Debt collection', 'Credit card or prepaid card', 'Vehicle loan or lease', 'Student loan', 'Debt collection', 'Mortgage', 'Credit card or prepaid card', 'Debt collection', 'Mortgage', 'Credit card or prepaid card', 'Credit card or prepaid card', 'Credit card or prepaid card', 'Mortgage', 'Mortgage', 'Credit card or prepaid card', 'Credit card or prepaid card', 'Debt collection', 'Debt collection', 'Credit card or prepaid card', 'Debt collection', 'Mortgage', 'Vehicle loan or lease', 'Debt collection', 'Credit card or prepaid card', 'Checking or savings account', 'Checking or savings account', 'Debt collection', 'Debt collection', 'Debt collection', 'Mortgage', 'Credit card or prepaid card', 'Debt collection', 'Debt collection', 'Debt collection', 'Mortgage', 'Credit card or prepaid card', 'Checking or savings account', 'Mortgage', 'Mortgage', 'Debt collection', 'Checking or savings account', 'Debt collection', 'Debt collection', 'Credit card or prepaid card', 'Debt collection', 'Mortgage', 'Debt collection', 'Debt collection', 'Credit card or prepaid card', 'Mortgage', 'Debt collection', 'Mortgage', 'Debt collection', 'Mortgage', 'Credit card or prepaid card', 'Credit card or prepaid card', 'Checking or savings account', 'Mortgage', 'Credit card or prepaid card', 'Student loan', 'Debt collection', 'Credit card or prepaid card', 'Debt collection', 'Debt collection', 'Student loan', 'Checking or savings account', 'Debt collection', 'Credit card or prepaid card', 'Credit card or prepaid card', 'Mortgage', 'Student loan', 'Debt collection', 'Debt collection', 'Debt collection', 'Checking or savings account', 'Checking or savings account', 'Debt collection', 'Debt collection', 'Student loan', 'Mortgage', 'Mortgage', 'Debt collection', 'Mortgage', 'Credit card or prepaid card', 'Credit card or prepaid card', 'Mortgage', 'Debt collection', 'Credit card or prepaid card', 'Student loan', 'Credit card or prepaid card', 'Credit card or prepaid card', 'Credit card or prepaid card', 'Debt collection', 'Mortgage', 'Credit card or prepaid card', 'Debt collection', 'Student loan', 'Credit card or prepaid card', 'Vehicle loan or lease', 'Credit card or prepaid card', 'Debt collection', 'Student loan', 'Vehicle loan or lease', 'Debt collection', 'Mortgage', 'Debt collection', 'Credit card or prepaid card', 'Checking or savings account', 'Vehicle loan or lease', 'Debt collection', 'Checking or savings account', 'Credit card or prepaid card', 'Debt collection', 'Credit card or prepaid card', 'Debt collection', 'Debt collection', 'Mortgage', 'Debt collection', 'Mortgage', 'Debt collection', 'Credit card or prepaid card', 'Student loan', 'Debt collection', 'Credit card or prepaid card', 'Debt collection', 'Debt collection', 'Credit card or prepaid card', 'Credit card or prepaid card', 'Mortgage', 'Credit card or prepaid card', 'Checking or savings account', 'Debt collection', 'Debt collection', 'Mortgage', 'Credit card or prepaid card', 'Credit card or prepaid card', 'Debt collection', 'Credit card or prepaid card', 'Debt collection', 'Checking or savings account', 'Debt collection', 'Debt collection', 'Credit card or prepaid card', 'Mortgage', 'Checking or savings account', 'Checking or savings account', 'Checking or savings account', 'Debt collection', 'Mortgage', 'Checking or savings account', 'Debt collection', 'Vehicle loan or lease', 'Debt collection', 'Debt collection', 'Vehicle loan or lease', 'Debt collection', 'Mortgage', 'Credit card or prepaid card', 'Credit card or prepaid card', 'Credit card or prepaid card', 'Credit card or prepaid card', 'Debt collection', 'Debt collection', 'Credit card or prepaid card', 'Debt collection', 'Student loan', 'Debt collection', 'Debt collection', 'Credit card or prepaid card', 'Credit card or prepaid card', 'Mortgage', 'Debt collection', 'Debt collection', 'Mortgage', 'Mortgage', 'Mortgage', 'Mortgage', 'Mortgage', 'Debt collection', 'Debt collection', 'Debt collection', 'Mortgage', 'Credit card or prepaid card', 'Mortgage', 'Credit card or prepaid card', 'Mortgage', 'Mortgage', 'Credit card or prepaid card', 'Debt collection', 'Credit card or prepaid card', 'Checking or savings account', 'Debt collection', 'Credit card or prepaid card', 'Checking or savings account', 'Debt collection', 'Credit card or prepaid card', 'Credit card or prepaid card', 'Credit card or prepaid card', 'Checking or savings account', 'Credit card or prepaid card', 'Credit card or prepaid card', 'Checking or savings account', 'Debt collection', 'Debt collection', 'Debt collection', 'Checking or savings account', 'Vehicle loan or lease', 'Mortgage', 'Mortgage', 'Student loan', 'Credit card or prepaid card', 'Student loan', 'Debt collection', 'Debt collection', 'Debt collection', 'Debt collection', 'Debt collection', 'Mortgage', 'Credit card or prepaid card', 'Checking or savings account', 'Checking or savings account', 'Debt collection', 'Debt collection', 'Checking or savings account', 'Checking or savings account', 'Debt collection', 'Checking or savings account', 'Debt collection', 'Debt collection', 'Mortgage', 'Checking or savings account', 'Credit card or prepaid card', 'Debt collection', 'Student loan', 'Debt collection', 'Checking or savings account', 'Vehicle loan or lease', 'Debt collection', 'Debt collection', 'Debt collection', 'Checking or savings account', 'Mortgage', 'Credit card or prepaid card', 'Checking or savings account', 'Debt collection', 'Debt collection', 'Debt collection', 'Mortgage', 'Debt collection', 'Debt collection', 'Mortgage', 'Checking or savings account', 'Mortgage', 'Mortgage', 'Credit card or prepaid card', 'Debt collection', 'Credit card or prepaid card', 'Debt collection', 'Debt collection', 'Checking or savings account', 'Credit card or prepaid card', 'Debt collection', 'Debt collection', 'Credit card or prepaid card', 'Debt collection', 'Checking or savings account', 'Student loan', 'Credit card or prepaid card', 'Credit card or prepaid card', 'Checking or savings account', 'Mortgage', 'Debt collection', 'Checking or savings account', 'Debt collection', 'Credit card or prepaid card', 'Debt collection', 'Credit card or prepaid card', 'Mortgage', 'Debt collection', 'Credit card or prepaid card', 'Debt collection', 'Mortgage', 'Debt collection', 'Credit card or prepaid card', 'Debt collection', 'Mortgage', 'Debt collection', 'Credit card or prepaid card', 'Credit card or prepaid card', 'Vehicle loan or lease', 'Checking or savings account', 'Checking or savings account', 'Mortgage', 'Debt collection', 'Debt collection', 'Checking or savings account', 'Vehicle loan or lease', 'Checking or savings account', 'Vehicle loan or lease', 'Debt collection', 'Debt collection', 'Credit card or prepaid card', 'Checking or savings account', 'Debt collection', 'Mortgage', 'Debt collection', 'Student loan', 'Mortgage', 'Credit card or prepaid card', 'Mortgage', 'Debt collection', 'Debt collection', 'Credit card or prepaid card', 'Debt collection', 'Debt collection', 'Debt collection', 'Mortgage', 'Debt collection', 'Debt collection', 'Checking or savings account', 'Debt collection', 'Debt collection', 'Credit card or prepaid card', 'Debt collection', 'Debt collection', 'Debt collection', 'Debt collection', 'Credit card or prepaid card', 'Debt collection', 'Credit card or prepaid card', 'Debt collection', 'Debt collection', 'Debt collection', 'Debt collection', 'Debt collection', 'Checking or savings account', 'Debt collection', 'Debt collection', 'Vehicle loan or lease', 'Debt collection', 'Checking or savings account', 'Mortgage', 'Vehicle loan or lease', 'Checking or savings account', 'Mortgage', 'Mortgage', 'Credit card or prepaid card', 'Debt collection', 'Debt collection', 'Debt collection', 'Debt collection', 'Vehicle loan or lease', 'Vehicle loan or lease', 'Debt collection', 'Credit card or prepaid card', 'Debt collection', 'Student loan', 'Credit card or prepaid card', 'Credit card or prepaid card', 'Student loan', 'Student loan', 'Debt collection', 'Credit card or prepaid card', 'Debt collection', 'Checking or savings account', 'Debt collection', 'Debt collection', 'Debt collection', 'Credit card or prepaid card', 'Debt collection', 'Mortgage', 'Mortgage', 'Debt collection', 'Debt collection', 'Mortgage', 'Debt collection', 'Credit card or prepaid card', 'Checking or savings account', 'Debt collection', 'Mortgage', 'Mortgage', 'Debt collection', 'Debt collection', 'Debt collection', 'Debt collection', 'Debt collection', 'Credit card or prepaid card', 'Debt collection', 'Credit card or prepaid card', 'Debt collection', 'Mortgage', 'Debt collection', 'Checking or savings account', 'Debt collection', 'Credit card or prepaid card', 'Mortgage', 'Mortgage', 'Mortgage', 'Debt collection', 'Checking or savings account', 'Debt collection', 'Debt collection', 'Mortgage', 'Checking or savings account', 'Debt collection', 'Debt collection', 'Debt collection', 'Checking or savings account', 'Debt collection', 'Checking or savings account', 'Debt collection', 'Debt collection', 'Debt collection', 'Vehicle loan or lease', 'Mortgage', 'Debt collection', 'Credit card or prepaid card', 'Checking or savings account', 'Debt collection', 'Mortgage', 'Debt collection', 'Debt collection', 'Credit card or prepaid card', 'Debt collection', 'Credit card or prepaid card', 'Checking or savings account', 'Debt collection', 'Credit card or prepaid card', 'Debt collection', 'Debt collection', 'Debt collection', 'Debt collection', 'Mortgage', 'Mortgage', 'Checking or savings account', 'Debt collection', 'Debt collection', 'Debt collection', 'Debt collection', 'Checking or savings account', 'Credit card or prepaid card', 'Debt collection', 'Debt collection', 'Debt collection', 'Checking or savings account', 'Mortgage', 'Debt collection', 'Debt collection', 'Credit card or prepaid card', 'Checking or savings account', 'Debt collection']\n"
     ]
    }
   ],
   "source": [
    "# Print the product groups in the dataset\n",
    "print(list(mydata_train.Product))"
   ]
  },
  {
   "cell_type": "code",
   "execution_count": 5,
   "metadata": {
    "colab": {
     "base_uri": "https://localhost:8080/"
    },
    "id": "JvQb2r0aDR_J",
    "outputId": "94ee3701-308d-4254-d5e6-c908f964c89c"
   },
   "outputs": [
    {
     "name": "stdout",
     "output_type": "stream",
     "text": [
      "<class 'pandas.core.frame.DataFrame'>\n"
     ]
    }
   ],
   "source": [
    "# What is the type of 'mydata_train'\n",
    "print(type(mydata_train))"
   ]
  },
  {
   "cell_type": "code",
   "execution_count": 6,
   "metadata": {
    "colab": {
     "base_uri": "https://localhost:8080/"
    },
    "id": "ozzwyREhDaMK",
    "outputId": "f52f90bf-eab4-41f1-d2ef-c423ca48c088"
   },
   "outputs": [
    {
     "name": "stdout",
     "output_type": "stream",
     "text": [
      "5000\n",
      "5000\n"
     ]
    }
   ],
   "source": [
    "# Check the length of the data\n",
    "print(len(mydata_train.Product))\n",
    "print(len(mydata_train.Consumer_complaint_narrative))\n",
    "\n",
    "\n"
   ]
  },
  {
   "cell_type": "markdown",
   "metadata": {
    "id": "BlipMuEpDz-K"
   },
   "source": [
    "### Expected Output: \n",
    "5000\n",
    "\n",
    "5000\n"
   ]
  },
  {
   "cell_type": "markdown",
   "metadata": {
    "id": "55FKOBBuEDI2"
   },
   "source": [
    "## Extracting Features from the Dataset                        (20 Points)"
   ]
  },
  {
   "cell_type": "markdown",
   "metadata": {
    "id": "u4GDENzmEEkG"
   },
   "source": [
    "In order to perform machine learning on text documents, we first need to turn the text content into numerical feature vectors."
   ]
  },
  {
   "cell_type": "markdown",
   "metadata": {
    "id": "OgxfDXmxEHid"
   },
   "source": [
    "### TF-IDF Vectorization"
   ]
  },
  {
   "cell_type": "markdown",
   "metadata": {
    "id": "Q8qNFFYyEKsa"
   },
   "source": [
    "Our model cannot simply read the text data so we convert it into numerical format. In order to convert the data into numerical format we create vectors from text.\n",
    "\n",
    "For this particular purpose we could either employ Bag of Words or TF-IDF Vectorization\n",
    "\n",
    "Bag of Words just creates a set of vectors containing the count of word occurrences in the document (reviews), while the TF-IDF model contains information on the more important words and the less important ones as well.\n",
    "\n",
    "TF-IDF stands for Term Frequency-Inverse Document Frequency, which instead of giving more weight to words that occur more frequently, it gives a higher weight to words that occur less frequently.\n",
    "\n",
    "Ref: 6.5 TF-IDF: Weighing terms in the vector section of Dan Jurafsky book\n",
    "https://web.stanford.edu/~jurafsky/slp3/6.pdf"
   ]
  },
  {
   "cell_type": "markdown",
   "metadata": {
    "id": "dLzgRJRZEP3k"
   },
   "source": [
    "TF-IDF = Term Frequency (TF) * Inverse Document Frequency (IDF)"
   ]
  },
  {
   "cell_type": "markdown",
   "metadata": {
    "id": "xe5lHi3NE1QJ"
   },
   "source": [
    "Term Frequency is the measure of the frequency of words in a document. It is the ratio of the number of times the word appears in a document compared to the total number of words in that document.\n",
    "\n",
    "The words that occur rarely in the corpus have a high IDF score. It is the log of the ratio of the number of documents to the number of documents containing the word."
   ]
  },
  {
   "cell_type": "markdown",
   "metadata": {
    "id": "HXotAER_EQ8T"
   },
   "source": [
    "idf(t) = log(N/(df + 1))"
   ]
  },
  {
   "cell_type": "code",
   "execution_count": 7,
   "metadata": {
    "colab": {
     "base_uri": "https://localhost:8080/"
    },
    "id": "2vzVI8ylFAEl",
    "outputId": "c1d7ce3d-ef9d-4e72-8d8e-0de9e3a243ec"
   },
   "outputs": [
    {
     "data": {
      "text/plain": [
       "0    I lost my credit card ( a Chase Sapphire Reser...\n",
       "1    Having problems finding out LTV from mortgage ...\n",
       "2    I am a victim of identity theft and this debt ...\n",
       "3    Yesterday evening I spoke to a rep in regards ...\n",
       "4    I opened a prepaid bank account with REVOLUT i...\n",
       "5    I had a payment with American Honda Finance sc...\n",
       "6    My husband and I owed a balance to XXXX XXXX X...\n",
       "7    On XX/XX/19 I received a phone call from an un...\n",
       "8    I am the seller of a property and the buyers a...\n",
       "9    Why is the federal government letting these lo...\n",
       "Name: Consumer_complaint_narrative, dtype: object"
      ]
     },
     "execution_count": 7,
     "metadata": {},
     "output_type": "execute_result"
    }
   ],
   "source": [
    "text = mydata_train.Consumer_complaint_narrative\n",
    "text[:10]"
   ]
  },
  {
   "cell_type": "markdown",
   "metadata": {
    "id": "HZ2AatmvFtE-"
   },
   "source": [
    "## Preprocessing the Corpus"
   ]
  },
  {
   "cell_type": "code",
   "execution_count": 9,
   "metadata": {
    "colab": {
     "base_uri": "https://localhost:8080/"
    },
    "id": "XyJbe42AFuHp",
    "outputId": "cf99eea1-6301-45a4-8cbb-78d051413315"
   },
   "outputs": [
    {
     "name": "stderr",
     "output_type": "stream",
     "text": [
      "[nltk_data] Downloading package omw-1.4 to /root/nltk_data...\n",
      "[nltk_data] Downloading package stopwords to /root/nltk_data...\n",
      "[nltk_data]   Package stopwords is already up-to-date!\n",
      "[nltk_data] Downloading package wordnet to /root/nltk_data...\n",
      "[nltk_data]   Package wordnet is already up-to-date!\n"
     ]
    }
   ],
   "source": [
    "from nltk.corpus import stopwords\n",
    "import re\n",
    "from nltk.stem import WordNetLemmatizer\n",
    "import nltk\n",
    "nltk.download('omw-1.4')\n",
    "nltk.download('stopwords')\n",
    "nltk.download('wordnet')\n",
    "\n",
    "# Preprocessing the data\n",
    "\n",
    "lines = [] \n",
    "word_list = [] \n",
    " \n",
    "for line in text:\n",
    "    #tokenize the text documents and update the lists word_list and lines\n",
    "    punc='''...!~`@%^&$#*()?-_+={}[]|'\\/<>,.;:\"'''\n",
    "    \n",
    "    #Removing punctuations and special characters\n",
    "    line_no_punc = [ch for ch in list(line) if ch not in punc]\n",
    "    line_no_punc = \"\".join(line_no_punc)\n",
    "    \n",
    "    #Removing hyperlinks\n",
    "    line_no_punc_h = re.sub(r'https?://\\S+|www\\.\\S+|ftp://\\S+|(<br />)','',line_no_punc)\n",
    "    \n",
    "    #Removing stop words\n",
    "    words_list = [word.lower() for word in line_no_punc_h.split() if word.lower() not in stopwords.words('english')]\n",
    "    \n",
    "    #REplacing all similar words with its stem word\n",
    "    lemmatizer = WordNetLemmatizer()\n",
    "    stem_tokens = [lemmatizer.lemmatize(word) for word in words_list]\n",
    "    \n",
    "    word_list = word_list + stem_tokens\n",
    "        \n",
    "    line_cleaned = \" \".join(stem_tokens)\n",
    "    lines.append(line_cleaned)\n",
    "    \n",
    "#word_list contains unique tokens\n",
    "word_list = list(set(word_list))\n",
    "    \n",
    "# Calculate the total documents present in the corpus\n",
    "total_docs = len(text)\n",
    " \n",
    "#Create a dictionary to keep track of index of each word\n",
    "dict_idx = {}\n",
    "for index, word in zip(list(range(len(word_list))),word_list):\n",
    "    dict_idx[index] = word"
   ]
  },
  {
   "cell_type": "code",
   "execution_count": 10,
   "metadata": {
    "id": "E6M_CoI9FxYb"
   },
   "outputs": [],
   "source": [
    "# Create a frequency dictionary\n",
    " \n",
    "def frequency_dict(lines):\n",
    "    '''\n",
    "    lines: list containing all the tokens\n",
    "    ---\n",
    "    freq_word: returns a dictionary which keeps the count of the number of documents containing the given word\n",
    "    '''\n",
    "    freq_word = {}\n",
    "    for word in word_list:\n",
    "        word_no_of_docs = 0\n",
    "        for line in lines:\n",
    "            if word in line:\n",
    "                word_no_of_docs += 1\n",
    "        freq_word[word] = word_no_of_docs\n",
    "    \n",
    "    return freq_word"
   ]
  },
  {
   "cell_type": "code",
   "execution_count": 11,
   "metadata": {
    "id": "qFkt9KBgFz43"
   },
   "outputs": [],
   "source": [
    "# Create a dictionary containing the frequency of words utilizing the 'frequency_dict' function\n",
    "\n",
    "# Expect this chunk to take a comparatively longer time to execute since our dataset is large\n",
    "\n",
    "freq_word = frequency_dict(lines)\n",
    "\n",
    "#freq_word"
   ]
  },
  {
   "cell_type": "code",
   "execution_count": 12,
   "metadata": {
    "id": "m4KJf7C151zz"
   },
   "outputs": [],
   "source": [
    "# Create a function to calculate the Term Frequency\n",
    "\n",
    "def term_frequency(document, word):\n",
    "    '''\n",
    "    document: list containing the entire corpus\n",
    "    word: word whose term frequency is to be calculated\n",
    "    ---\n",
    "    tf: returns term frequency value\n",
    "    '''\n",
    "    tf = document.count(word) / len(document.split())     \n",
    "    \n",
    "    return tf"
   ]
  },
  {
   "cell_type": "code",
   "execution_count": 13,
   "metadata": {
    "colab": {
     "base_uri": "https://localhost:8080/"
    },
    "id": "3P6_g8J451zz",
    "outputId": "331b996b-d75d-455a-c5e9-9bae90696a31"
   },
   "outputs": [
    {
     "data": {
      "text/plain": [
       "['lost credit card chase sapphire reserve late night xxxx2020 early morning xxxx2020 made one purchase time xxxx xxxx xxxx amount 1900 called chase soon found card lost xxxx2020 also realized fraud charge 4300 xxxx xxxx xxxx xxxx posted account xxxx2020 informed chase unauthorized helped take statement however received letter early xxxx responsible transaction according single sheet letter chase sent received benefit transaction proof using card transaction even bother ask store signed copy receipt thing like security surveillance prove using card disputed transaction agent took seriously sent stuff like signed receipt back claim called chase xxxx2020 nice lady picked phone said pas concern fraud department let reinvestigate however two week passed response heard disappointed chase treating one loyal customer taking money good guy instead fraud',\n",
       " 'problem finding ltv mortgage servicer trying find pmi removed']"
      ]
     },
     "execution_count": 13,
     "metadata": {},
     "output_type": "execute_result"
    }
   ],
   "source": [
    "\n",
    "\n",
    "lines[:2]"
   ]
  },
  {
   "cell_type": "code",
   "execution_count": 14,
   "metadata": {
    "id": "HA99G_yAGLCC"
   },
   "outputs": [],
   "source": [
    "# Create a function to calculate the Inverse Document Frequency\n",
    "import numpy as np\n",
    "def inverse_df(word):\n",
    "    '''\n",
    "    word: word whose inverse document frequency is to be calculated\n",
    "    ---\n",
    "    idf: return inverse document frequency value\n",
    "    '''\n",
    "    idf = np.log(total_docs/(freq_word[word]))\n",
    "    \n",
    "    return idf"
   ]
  },
  {
   "cell_type": "code",
   "execution_count": 15,
   "metadata": {
    "id": "F0irgwv2GRfE"
   },
   "outputs": [],
   "source": [
    "#Create a function to combine the term frequencies (TF) and inverse document (IDF) frequencies calculated above to get TF-IDF\n",
    "\n",
    "def tfidf(sentence,dict_idx):\n",
    "    '''\n",
    "    sentence: list containing the entire corpus\n",
    "    dict: dictionary keeping track of index of each word\n",
    "    ---\n",
    "    tf_idf_vec: returns computed tf-idf\n",
    "    '''\n",
    "    tf_idf_list = []\n",
    "    for index in dict_idx.keys():\n",
    "        tf = term_frequency(sentence,dict_idx[index])\n",
    "        idf = inverse_df(dict_idx[index])\n",
    "        tf_idf_list.append(tf*idf)\n",
    "    tf_idf_vec = tf_idf_list\n",
    "        \n",
    "    return tf_idf_vec"
   ]
  },
  {
   "cell_type": "code",
   "execution_count": 18,
   "metadata": {
    "colab": {
     "base_uri": "https://localhost:8080/",
     "height": 159
    },
    "id": "_VKJhqatGWpV",
    "outputId": "f50bc99b-9366-4aac-892f-eea496d6134f"
   },
   "outputs": [
    {
     "name": "stdout",
     "output_type": "stream",
     "text": [
      "15640 15640\n"
     ]
    },
    {
     "data": {
      "text/html": [
       "\n",
       "  <div id=\"df-197a6a39-0402-49c7-93ff-f44938448686\">\n",
       "    <div class=\"colab-df-container\">\n",
       "      <div>\n",
       "<style scoped>\n",
       "    .dataframe tbody tr th:only-of-type {\n",
       "        vertical-align: middle;\n",
       "    }\n",
       "\n",
       "    .dataframe tbody tr th {\n",
       "        vertical-align: top;\n",
       "    }\n",
       "\n",
       "    .dataframe thead th {\n",
       "        text-align: right;\n",
       "    }\n",
       "</style>\n",
       "<table border=\"1\" class=\"dataframe\">\n",
       "  <thead>\n",
       "    <tr style=\"text-align: right;\">\n",
       "      <th></th>\n",
       "      <th>0</th>\n",
       "      <th>1</th>\n",
       "      <th>2</th>\n",
       "      <th>3</th>\n",
       "      <th>4</th>\n",
       "      <th>5</th>\n",
       "      <th>6</th>\n",
       "      <th>7</th>\n",
       "      <th>8</th>\n",
       "      <th>9</th>\n",
       "      <th>...</th>\n",
       "      <th>15630</th>\n",
       "      <th>15631</th>\n",
       "      <th>15632</th>\n",
       "      <th>15633</th>\n",
       "      <th>15634</th>\n",
       "      <th>15635</th>\n",
       "      <th>15636</th>\n",
       "      <th>15637</th>\n",
       "      <th>15638</th>\n",
       "      <th>15639</th>\n",
       "    </tr>\n",
       "  </thead>\n",
       "  <tbody>\n",
       "    <tr>\n",
       "      <th>0</th>\n",
       "      <td>0.025878</td>\n",
       "      <td>0.0</td>\n",
       "      <td>0.0</td>\n",
       "      <td>0.0</td>\n",
       "      <td>0.0</td>\n",
       "      <td>0.0</td>\n",
       "      <td>0.0</td>\n",
       "      <td>0.0</td>\n",
       "      <td>0.0</td>\n",
       "      <td>0.0</td>\n",
       "      <td>...</td>\n",
       "      <td>0.0</td>\n",
       "      <td>0.0</td>\n",
       "      <td>0.0</td>\n",
       "      <td>0.0</td>\n",
       "      <td>0.0</td>\n",
       "      <td>0.0</td>\n",
       "      <td>0.0</td>\n",
       "      <td>0.0</td>\n",
       "      <td>0.0</td>\n",
       "      <td>0.0</td>\n",
       "    </tr>\n",
       "    <tr>\n",
       "      <th>1</th>\n",
       "      <td>0.000000</td>\n",
       "      <td>0.0</td>\n",
       "      <td>0.0</td>\n",
       "      <td>0.0</td>\n",
       "      <td>0.0</td>\n",
       "      <td>0.0</td>\n",
       "      <td>0.0</td>\n",
       "      <td>0.0</td>\n",
       "      <td>0.0</td>\n",
       "      <td>0.0</td>\n",
       "      <td>...</td>\n",
       "      <td>0.0</td>\n",
       "      <td>0.0</td>\n",
       "      <td>0.0</td>\n",
       "      <td>0.0</td>\n",
       "      <td>0.0</td>\n",
       "      <td>0.0</td>\n",
       "      <td>0.0</td>\n",
       "      <td>0.0</td>\n",
       "      <td>0.0</td>\n",
       "      <td>0.0</td>\n",
       "    </tr>\n",
       "  </tbody>\n",
       "</table>\n",
       "<p>2 rows × 15640 columns</p>\n",
       "</div>\n",
       "      <button class=\"colab-df-convert\" onclick=\"convertToInteractive('df-197a6a39-0402-49c7-93ff-f44938448686')\"\n",
       "              title=\"Convert this dataframe to an interactive table.\"\n",
       "              style=\"display:none;\">\n",
       "        \n",
       "  <svg xmlns=\"http://www.w3.org/2000/svg\" height=\"24px\"viewBox=\"0 0 24 24\"\n",
       "       width=\"24px\">\n",
       "    <path d=\"M0 0h24v24H0V0z\" fill=\"none\"/>\n",
       "    <path d=\"M18.56 5.44l.94 2.06.94-2.06 2.06-.94-2.06-.94-.94-2.06-.94 2.06-2.06.94zm-11 1L8.5 8.5l.94-2.06 2.06-.94-2.06-.94L8.5 2.5l-.94 2.06-2.06.94zm10 10l.94 2.06.94-2.06 2.06-.94-2.06-.94-.94-2.06-.94 2.06-2.06.94z\"/><path d=\"M17.41 7.96l-1.37-1.37c-.4-.4-.92-.59-1.43-.59-.52 0-1.04.2-1.43.59L10.3 9.45l-7.72 7.72c-.78.78-.78 2.05 0 2.83L4 21.41c.39.39.9.59 1.41.59.51 0 1.02-.2 1.41-.59l7.78-7.78 2.81-2.81c.8-.78.8-2.07 0-2.86zM5.41 20L4 18.59l7.72-7.72 1.47 1.35L5.41 20z\"/>\n",
       "  </svg>\n",
       "      </button>\n",
       "      \n",
       "  <style>\n",
       "    .colab-df-container {\n",
       "      display:flex;\n",
       "      flex-wrap:wrap;\n",
       "      gap: 12px;\n",
       "    }\n",
       "\n",
       "    .colab-df-convert {\n",
       "      background-color: #E8F0FE;\n",
       "      border: none;\n",
       "      border-radius: 50%;\n",
       "      cursor: pointer;\n",
       "      display: none;\n",
       "      fill: #1967D2;\n",
       "      height: 32px;\n",
       "      padding: 0 0 0 0;\n",
       "      width: 32px;\n",
       "    }\n",
       "\n",
       "    .colab-df-convert:hover {\n",
       "      background-color: #E2EBFA;\n",
       "      box-shadow: 0px 1px 2px rgba(60, 64, 67, 0.3), 0px 1px 3px 1px rgba(60, 64, 67, 0.15);\n",
       "      fill: #174EA6;\n",
       "    }\n",
       "\n",
       "    [theme=dark] .colab-df-convert {\n",
       "      background-color: #3B4455;\n",
       "      fill: #D2E3FC;\n",
       "    }\n",
       "\n",
       "    [theme=dark] .colab-df-convert:hover {\n",
       "      background-color: #434B5C;\n",
       "      box-shadow: 0px 1px 3px 1px rgba(0, 0, 0, 0.15);\n",
       "      filter: drop-shadow(0px 1px 2px rgba(0, 0, 0, 0.3));\n",
       "      fill: #FFFFFF;\n",
       "    }\n",
       "  </style>\n",
       "\n",
       "      <script>\n",
       "        const buttonEl =\n",
       "          document.querySelector('#df-197a6a39-0402-49c7-93ff-f44938448686 button.colab-df-convert');\n",
       "        buttonEl.style.display =\n",
       "          google.colab.kernel.accessAllowed ? 'block' : 'none';\n",
       "\n",
       "        async function convertToInteractive(key) {\n",
       "          const element = document.querySelector('#df-197a6a39-0402-49c7-93ff-f44938448686');\n",
       "          const dataTable =\n",
       "            await google.colab.kernel.invokeFunction('convertToInteractive',\n",
       "                                                     [key], {});\n",
       "          if (!dataTable) return;\n",
       "\n",
       "          const docLinkHtml = 'Like what you see? Visit the ' +\n",
       "            '<a target=\"_blank\" href=https://colab.research.google.com/notebooks/data_table.ipynb>data table notebook</a>'\n",
       "            + ' to learn more about interactive tables.';\n",
       "          element.innerHTML = '';\n",
       "          dataTable['output_type'] = 'display_data';\n",
       "          await google.colab.output.renderOutput(dataTable, element);\n",
       "          const docLink = document.createElement('div');\n",
       "          docLink.innerHTML = docLinkHtml;\n",
       "          element.appendChild(docLink);\n",
       "        }\n",
       "      </script>\n",
       "    </div>\n",
       "  </div>\n",
       "  "
      ],
      "text/plain": [
       "      0      1      2      3      4      5      6      7      8      9      \\\n",
       "0  0.025878    0.0    0.0    0.0    0.0    0.0    0.0    0.0    0.0    0.0   \n",
       "1  0.000000    0.0    0.0    0.0    0.0    0.0    0.0    0.0    0.0    0.0   \n",
       "\n",
       "   ...  15630  15631  15632  15633  15634  15635  15636  15637  15638  15639  \n",
       "0  ...    0.0    0.0    0.0    0.0    0.0    0.0    0.0    0.0    0.0    0.0  \n",
       "1  ...    0.0    0.0    0.0    0.0    0.0    0.0    0.0    0.0    0.0    0.0  \n",
       "\n",
       "[2 rows x 15640 columns]"
      ]
     },
     "execution_count": 18,
     "metadata": {},
     "output_type": "execute_result"
    }
   ],
   "source": [
    "import pandas as pd\n",
    "\n",
    "#Compute the vectors utilizing the 'tfidf' function created above to obtain a TF-IDF Encoded text corpus\n",
    "corpus_tf_idf_encoding=[]\n",
    "for line in lines:\n",
    "    tf_idf_vec = tfidf(line,dict_idx)\n",
    "    corpus_tf_idf_encoding.append(tf_idf_vec)\n",
    "    \n",
    "#To check the number of columns in training dataset after its vectoriztion\n",
    "print(len(corpus_tf_idf_encoding[0]),len(word_list))\n",
    "corpus_tf_idf_encoding = pd.DataFrame(corpus_tf_idf_encoding)\n",
    "corpus_tf_idf_encoding[:2]"
   ]
  },
  {
   "cell_type": "markdown",
   "metadata": {
    "id": "LE0UGUaSGb8I"
   },
   "source": [
    "## Multinomial Naive Bayes (10 Points)"
   ]
  },
  {
   "cell_type": "code",
   "execution_count": 19,
   "metadata": {
    "id": "yWYcxrdJGfDC"
   },
   "outputs": [],
   "source": [
    "#Fit a Multinomial Naive Bayes Model on our dataset\n",
    "from sklearn.naive_bayes import MultinomialNB\n",
    "\n",
    "product = pd.DataFrame(mydata_train.Product)\n",
    "\n",
    "clf = MultinomialNB(alpha=0.1)\n",
    "model = clf.fit(corpus_tf_idf_encoding,mydata_train.Product)\n",
    "\n"
   ]
  },
  {
   "cell_type": "code",
   "execution_count": 20,
   "metadata": {
    "id": "G6CiQB4qGfqH"
   },
   "outputs": [],
   "source": [
    "#Perform testing on the train dataset\n",
    "\n",
    "predicted_prod = model.predict(corpus_tf_idf_encoding)\n",
    "\n"
   ]
  },
  {
   "cell_type": "code",
   "execution_count": 22,
   "metadata": {
    "colab": {
     "base_uri": "https://localhost:8080/",
     "height": 315
    },
    "id": "yCLagGu6Gh6T",
    "outputId": "5b795802-8163-460a-cd6e-dbb9c0336bf5"
   },
   "outputs": [
    {
     "data": {
      "image/png": "[encoded data removed]",
      "text/plain": [
       "<Figure size 432x288 with 2 Axes>"
      ]
     },
     "metadata": {
      "needs_background": "light"
     },
     "output_type": "display_data"
    },
    {
     "name": "stdout",
     "output_type": "stream",
     "text": [
      "F1 Score:  0.8512000000000001\n",
      "Accuracy:  0.8512\n"
     ]
    }
   ],
   "source": [
    "#Calculate the F1 Score and the Accuracy\n",
    "from sklearn import metrics\n",
    "import matplotlib.pyplot as plt\n",
    "from sklearn.metrics import accuracy_score, f1_score\n",
    "\n",
    "confusion_mat = metrics.confusion_matrix(mydata_train.Product,predicted_prod)\n",
    "confusionMatrixDisplay = metrics.ConfusionMatrixDisplay(confusion_matrix=confusion_mat)\n",
    "\n",
    "confusionMatrixDisplay.plot()\n",
    "plt.show()\n",
    "\n",
    "#FI score is the harmonic mean of Precision and Recall\n",
    "#PRecision - is the proportion of true positives(product) out of all predicted positives \n",
    "#Recall - is the proportion of true positives(product) out of all actual positives \n",
    "F1_score = f1_score(mydata_train.Product,predicted_prod,average='micro')\n",
    "Accuracy = accuracy_score(mydata_train.Product,predicted_prod)\n",
    "print(\"F1 Score: \", F1_score)\n",
    "print(\"Accuracy: \", Accuracy)"
   ]
  },
  {
   "cell_type": "markdown",
   "metadata": {
    "id": "bbMRqJv5Gl2F"
   },
   "source": [
    "### Expected Output:\n",
    "F1 Score: 0.8081311697005633\n",
    "\n",
    "Accuracy: 0.826"
   ]
  },
  {
   "cell_type": "markdown",
   "metadata": {
    "id": "AWRDuUqU-taV"
   },
   "source": [
    "Your accuracy does not have to be exactly the same. This is just to give you an estimate of what could you expect your accuracy to be around."
   ]
  },
  {
   "cell_type": "markdown",
   "metadata": {
    "id": "UfMc8cz93Cc0"
   },
   "source": [
    "## Question 2 Vector Visualization"
   ]
  },
  {
   "cell_type": "markdown",
   "metadata": {
    "id": "70iwEeL23F7K"
   },
   "source": [
    "In this unsupervised learning task we are going to cluster wikipedia articles into groups using T-SNE visualization after vectorization."
   ]
  },
  {
   "cell_type": "markdown",
   "metadata": {
    "id": "UHx4YuxW36oM"
   },
   "source": [
    "### Collect articles from Wikipedia (10 points)\n",
    "\n",
    "In this section we will download articles from wikipedia and then vectorize them in the next step. You can select somewhat related topics or fetch the articles randomly. \n",
    "(Use dir() and help() functions or refer wikipedia documentation)\n",
    "You may also pick any other data source of your choice instead of wikipedia."
   ]
  },
  {
   "cell_type": "code",
   "execution_count": null,
   "metadata": {
    "colab": {
     "base_uri": "https://localhost:8080/"
    },
    "id": "jA419x6__mjg",
    "outputId": "d49a9bc8-97e0-4d93-a837-cdce939f7385"
   },
   "outputs": [
    {
     "name": "stdout",
     "output_type": "stream",
     "text": [
      "Looking in indexes: https://pypi.org/simple, https://us-python.pkg.dev/colab-wheels/public/simple/\n",
      "Collecting wikipedia\n",
      "  Downloading wikipedia-1.4.0.tar.gz (27 kB)\n",
      "Requirement already satisfied: beautifulsoup4 in /usr/local/lib/python3.7/dist-packages (from wikipedia) (4.6.3)\n",
      "Requirement already satisfied: requests<3.0.0,>=2.0.0 in /usr/local/lib/python3.7/dist-packages (from wikipedia) (2.23.0)\n",
      "Requirement already satisfied: idna<3,>=2.5 in /usr/local/lib/python3.7/dist-packages (from requests<3.0.0,>=2.0.0->wikipedia) (2.10)\n",
      "Requirement already satisfied: certifi>=2017.4.17 in /usr/local/lib/python3.7/dist-packages (from requests<3.0.0,>=2.0.0->wikipedia) (2022.9.24)\n",
      "Requirement already satisfied: urllib3!=1.25.0,!=1.25.1,<1.26,>=1.21.1 in /usr/local/lib/python3.7/dist-packages (from requests<3.0.0,>=2.0.0->wikipedia) (1.24.3)\n",
      "Requirement already satisfied: chardet<4,>=3.0.2 in /usr/local/lib/python3.7/dist-packages (from requests<3.0.0,>=2.0.0->wikipedia) (3.0.4)\n",
      "Building wheels for collected packages: wikipedia\n",
      "  Building wheel for wikipedia (setup.py) ... \u001b[?25l\u001b[?25hdone\n",
      "  Created wheel for wikipedia: filename=wikipedia-1.4.0-py3-none-any.whl size=11695 sha256=d9cf7c97a8d5ba945c6b9963a9faee3e959504b4d1fdfc6d1549169a8b0c2073\n",
      "  Stored in directory: /root/.cache/pip/wheels/15/93/6d/5b2c68b8a64c7a7a04947b4ed6d89fb557dcc6bc27d1d7f3ba\n",
      "Successfully built wikipedia\n",
      "Installing collected packages: wikipedia\n",
      "Successfully installed wikipedia-1.4.0\n"
     ]
    }
   ],
   "source": [
    "#install libraries\n",
    "%pip install wikipedia\n"
   ]
  },
  {
   "cell_type": "code",
   "execution_count": null,
   "metadata": {
    "colab": {
     "base_uri": "https://localhost:8080/"
    },
    "id": "vLMLk4K84Zbn",
    "outputId": "76ef42de-b56e-44bd-f6d1-fc0c7942a40f"
   },
   "outputs": [
    {
     "name": "stderr",
     "output_type": "stream",
     "text": [
      "/usr/local/lib/python3.7/dist-packages/wikipedia/wikipedia.py:389: UserWarning: No parser was explicitly specified, so I'm using the best available HTML parser for this system (\"lxml\"). This usually isn't a problem, but if you run this code on another system, or in a different virtual environment, it may use a different parser and behave differently.\n",
      "\n",
      "The code that caused this warning is on line 389 of the file /usr/local/lib/python3.7/dist-packages/wikipedia/wikipedia.py. To get rid of this warning, pass the additional argument 'features=\"lxml\"' to the BeautifulSoup constructor.\n",
      "\n",
      "  lis = BeautifulSoup(html).find_all('li')\n"
     ]
    }
   ],
   "source": [
    "import wikipedia\n",
    "from wikipedia.exceptions import WikipediaException\n",
    "import random \n",
    "\n",
    "'''\n",
    " Generate a list of wikipedia article to cluster \n",
    " You can maintain a static list of titles or generate them randomly using wikipedia library\n",
    " Some topics include:\n",
    " [\"Northeastern Unversity\", \"Natural language processing\", \"Machine learning\", \"Quantum machine learning\", \"Artificial intelligence\", \"Data science\", \"Master in Data Science\", \n",
    " \"Bank of America\", \"Visa Inc.\", \"European Central Bank\", \"Bank\", \"Financial technology\",\"International Monetary Fund\", \n",
    " \"Basketball\", \"Swimming\", \"Tennis\", \"Football\", \"College Football\", \"Association Football\"]\n",
    "\n",
    " You can add more topics from different categories so that we have a diverse dataset to work with. \n",
    " Ex- About 3+ categories(groups), 3+ topics in each category, 3+ articles in each topic\n",
    "'''\n",
    "\n",
    "# selected topics\n",
    "topics = [\"Northeastern University\", \"Natural language processing\", \"Artificial intelligence\",  \"Data science\",\n",
    "          \"Bank of America\", \"Visa Inc.\", \"European Central Bank\", \"Financial technology\",\n",
    "         \"Basketball\", \"Volleyball\", \"Softball\", \"Football\",\n",
    "         \"tuv\",\"suv\",\"xuv\",\"muv\"]\n",
    "\n",
    "# list of articles to be downloaded\n",
    "articles = []\n",
    "data_dict = {'category':[],\n",
    "             'topic':[],\n",
    "             'article':[],\n",
    "            'summary':[]}\n",
    "\n",
    "# download and store articles (summaries) in this variable\n",
    "data = []\n",
    "\n",
    "for topic in topics:\n",
    "    try:\n",
    "        topic_articles_title_list = wikipedia.page(topic).links\n",
    "        random.shuffle(topic_articles_title_list)\n",
    "        for article in topic_articles_title_list[:4]:\n",
    "            try:\n",
    "                article_content = wikipedia.page(article).summary\n",
    "                data.append(article_content)\n",
    "                articles.append(article)\n",
    "                if topic in [\"Northeastern University\", \"Natural language processing\", \"Artificial intelligence\", \"Data science\"]:\n",
    "                    data_dict['category'].append('Academics')\n",
    "                elif topic in [\"Bank of America\", \"Visa Inc.\", \"European Central Bank\", \"Financial technology\"]:\n",
    "                    data_dict['category'].append('Banks')\n",
    "                elif topic in [\"Basketball\", \"Volleyball\", \"Softball\", \"Football\"]:\n",
    "                    data_dict['category'].append('Sports')\n",
    "                elif topic in [\"tuv\",\"suv\",\"xuv\",\"muv\"]:\n",
    "                    data_dict['category'].append('Cars')\n",
    "                data_dict['topic'].append(topic)\n",
    "                data_dict['article'].append(article)\n",
    "                data_dict['summary'].append(article_content)\n",
    "            except WikipediaException:\n",
    "                continue\n",
    "    except WikipediaException:\n",
    "        continue\n",
    "        \n",
    "\n",
    "\n",
    "\n"
   ]
  },
  {
   "cell_type": "markdown",
   "metadata": {
    "id": "IgpRv7wQ4Dpm"
   },
   "source": [
    "### Cleaning the Data (5 points)\n",
    "In this step you will decide whether to clean the data or not. If you choose to clean, you may utilize the clean function from assignment 1.\n",
    "\n",
    "**Question:** Why are you (not) choosing to clean the data? Think in terms of whether cleaning data will help in the clustering or not."
   ]
  },
  {
   "cell_type": "markdown",
   "metadata": {
    "id": "PnZpDKcaHTGq"
   },
   "source": [
    "**Answer(1-3 sentences):** \n",
    "\n",
    "1) Cleaning the data helps in obtaining the good quality grouping of the similar data points when we dont know the output labels. \n",
    "\n",
    "2) Cleaned data will always improve the overall productivity and most-quality data is  used in the decision-making to determine the similarity between the articles(data-points). \n",
    "\n",
    "3) By cleaning the data we are having the tokens which are stemmed in the corpus, because of which we are improving the overall performance and run time of the clustering algorithm."
   ]
  },
  {
   "cell_type": "code",
   "execution_count": null,
   "metadata": {
    "id": "lNj53Pxr963N"
   },
   "outputs": [],
   "source": [
    "# You can use Assignment 1's clean message function\n",
    "import re\n",
    "import nltk\n",
    "import string\n",
    "#nltk.download('punkt')\n",
    "#nltk.download('stopwords')\n",
    "\n",
    "def clean_message(message):\n",
    "    punc='''...!~`@%^&$#*()?-_+={}[]|'\\/<>,.;:\"'''\n",
    "    \n",
    "    #Removing all special characters\n",
    "    rev_no_punc=[ch for ch in list(message) if ch not in punc]\n",
    "    rev_nopunc_st=\"\".join(rev_no_punc)\n",
    "    \n",
    "    #Removing links of websites\n",
    "    rev_nopunc_st=re.sub(r'https?://\\S+|www\\.\\S+|ftp://\\S+|(<br />)','',rev_nopunc_st)\n",
    "    \n",
    "    #Removing stopwords\n",
    "    rev_nopunc_words_list=rev_nopunc_st.split()\n",
    "    tokens=[word.lower() for word in rev_nopunc_words_list if word.lower() not in stopwords.words(\"english\")]\n",
    "\n",
    "    #Reducing the number of tokens by keeping only stem words\n",
    "    lemmatizer=WordNetLemmatizer()\n",
    "    stem_tokens=[lemmatizer.lemmatize(token) for token in tokens]\n",
    "    \n",
    "    #should we need to remove duplicate words?\n",
    "    message=\" \".join(stem_tokens)\n",
    "\n",
    "    return message\n",
    "\n"
   ]
  },
  {
   "cell_type": "markdown",
   "metadata": {
    "id": "bvRZUpmq-DmT"
   },
   "source": [
    "### Vectorize the articles (5 points)\n",
    "\n",
    "In this step, we will vectorize the text data. You can use TfidfVectorizer() or countVectorizer() from sklearn library."
   ]
  },
  {
   "cell_type": "code",
   "execution_count": null,
   "metadata": {
    "id": "gJk8YY89-OU4"
   },
   "outputs": [],
   "source": [
    "from sklearn.feature_extraction.text import TfidfVectorizer\n",
    "\n",
    "data_cleaned = [clean_message(article_content) for article_content in data]\n",
    "tf_vect = TfidfVectorizer()\n",
    "X = tf_vect.fit_transform(data_cleaned)\n"
   ]
  },
  {
   "cell_type": "code",
   "execution_count": null,
   "metadata": {
    "colab": {
     "base_uri": "https://localhost:8080/"
    },
    "id": "DAIGlqEuINWA",
    "outputId": "f19e8d73-f577-4742-9840-26a2d1eb7c9d"
   },
   "outputs": [
    {
     "name": "stdout",
     "output_type": "stream",
     "text": [
      "(35, 1984)\n"
     ]
    }
   ],
   "source": [
    "print(X.shape)"
   ]
  },
  {
   "cell_type": "markdown",
   "metadata": {
    "id": "PKLvrKHRQaQq"
   },
   "source": [
    "### Sample Output:\n",
    "(36, 1552)"
   ]
  },
  {
   "cell_type": "markdown",
   "metadata": {
    "id": "M5ZrGrzD_G8d"
   },
   "source": [
    "### Plot Articles (10 points)\n",
    "Now we will try to verify the groups of articles using T-SNE from sklearn library."
   ]
  },
  {
   "cell_type": "code",
   "execution_count": null,
   "metadata": {
    "colab": {
     "base_uri": "https://localhost:8080/"
    },
    "id": "SjcuZBOe-oZq",
    "outputId": "0cbe668e-4068-4ac3-df9a-76c213bec7ab"
   },
   "outputs": [
    {
     "data": {
      "text/plain": [
       "35"
      ]
     },
     "execution_count": 89,
     "metadata": {},
     "output_type": "execute_result"
    }
   ],
   "source": [
    " from sklearn.manifold import TSNE\n",
    "\n",
    "# call TSNE() to fit the data\n",
    "tsn = TSNE(n_components=2,perplexity=9,n_iter=500,init='random',learning_rate=30)\n",
    "#tsn = TSNE()\n",
    "tsn_model = tsn.fit_transform(X)\n",
    "\n",
    "len(tsn_model[:,1])"
   ]
  },
  {
   "cell_type": "code",
   "execution_count": null,
   "metadata": {
    "colab": {
     "base_uri": "https://localhost:8080/"
    },
    "id": "RYs6g45n51z2",
    "outputId": "258e4d9a-61dd-443c-d9f2-b8da3f0d672f"
   },
   "outputs": [
    {
     "name": "stdout",
     "output_type": "stream",
     "text": [
      "{'Financial technology', 'Basketball', 'Artificial intelligence', 'Volleyball', 'Football', 'Softball', 'xuv', 'Data science', 'European Central Bank', 'Natural language processing'}\n"
     ]
    },
    {
     "data": {
      "text/plain": [
       "35"
      ]
     },
     "execution_count": 90,
     "metadata": {},
     "output_type": "execute_result"
    }
   ],
   "source": [
    "data_dict['x']=tsn_model[:,0]\n",
    "data_dict['y']=tsn_model[:,1]\n",
    "print(set(data_dict['topic']))\n",
    "\n",
    "len(data_dict['x'])"
   ]
  },
  {
   "cell_type": "markdown",
   "metadata": {
    "id": "iCY_blxjO1bs"
   },
   "source": [
    "Plot and annotate the points with different markers for different expected groups."
   ]
  },
  {
   "cell_type": "code",
   "execution_count": null,
   "metadata": {
    "colab": {
     "base_uri": "https://localhost:8080/",
     "height": 497
    },
    "id": "3ODUA1Vf-rRd",
    "outputId": "84d2d66b-3802-48f2-8109-e7aaf05b58a2"
   },
   "outputs": [
    {
     "data": {
      "image/png": "[encoded data removed]",
      "text/plain": [
       "<Figure size 720x576 with 1 Axes>"
      ]
     },
     "metadata": {
      "needs_background": "light"
     },
     "output_type": "display_data"
    }
   ],
   "source": [
    "import matplotlib.pyplot as plt\n",
    "import seaborn as sns\n",
    "from matplotlib import markers\n",
    "\n",
    "#all_shapes = list(markers.MarkerStyle.markers.keys())\n",
    "\n",
    "all_shapes = [',', 'D', 'o', '^', 'H', '<', '>', 'v', 's', 'p', '*', 'h', '8', 'P', 'd', '.', 'X']\n",
    "\n",
    "n=len(set(data_dict['category']))\n",
    "\n",
    "palette=sns.color_palette(\"bright\",n)\n",
    "\n",
    "# get a figure handle\n",
    "fig,ax = plt.subplots(figsize=(10,8))\n",
    "sns.scatterplot(x='x', \n",
    "                y='y', \n",
    "                s=70,\n",
    "                hue='category', \n",
    "                style='category',\n",
    "                markers=all_shapes[:n],\n",
    "                data=data_dict,\n",
    "                palette=palette)\n",
    "\n",
    "for article_index in range(len(data_dict['x'])):\n",
    "    #Annotating the point - pass x-cord, y-coord, and the annotate-text\n",
    "    plt.text(data_dict['x'][article_index],data_dict['y'][article_index],data_dict['topic'][article_index])\n",
    "    plt.legend(title=\"Category\")\n",
    "\n",
    "plt.show()\n"
   ]
  },
  {
   "cell_type": "code",
   "execution_count": null,
   "metadata": {
    "id": "ekKd0CGH51z2"
   },
   "outputs": [],
   "source": [
    "len(set(data_dict['topic']))\n",
    "\n",
    "len(set([21,4,5,6,6,7,7]))"
   ]
  },
  {
   "cell_type": "markdown",
   "metadata": {
    "id": "dYcEi1EC_UGO"
   },
   "source": [
    "**Question:** Comment about the categorizion done by T-SNE. Do the articles of related topics cluster together? (5 points)"
   ]
  },
  {
   "cell_type": "markdown",
   "metadata": {
    "id": "tde1Wu5HI6AA"
   },
   "source": [
    "**Answer(1-3 sentences):**  \n",
    "  \n",
    "  1. The categorization done by T-SNE is determined by the size of the dataset we are working on and the parameters we pass while building T-SNE model. \n",
    "\n",
    "2. Specifically, Perplexity is related to determine the nearest neighbours for a data point. And it should not be more than the number of samples. And it can vary from 5 to 50. As in our dataset the number of samples are around 40 to 60. I chose to give 9 as perplexity. \n",
    "\n",
    "3. Yes, **mostly the articles of related topics are clustered together**, except few of Bank related topics mixed up with the Academics of Data Science related. As we could see that although 'Financial technology' is belonged to Banks category,  its related articles might mention about using Data Science to provide the banking-solution , So few of the topics from Bank category is mixed up in the cluster of Academics category.\n"
   ]
  },
  {
   "cell_type": "markdown",
   "metadata": {
    "id": "U2xrJddIpSsd"
   },
   "source": [
    "# Question 3. Building Multinomial Naive Bayes and Neural Networks on Countvectors\n",
    "\n",
    "### We are gonna use Disaster Tweets Datasset for this task. We need to Predict which Tweets are about real disasters and which ones are not.\n",
    "\n",
    "### We are providing data.csv file along with this notebook. "
   ]
  },
  {
   "cell_type": "markdown",
   "metadata": {
    "id": "NJYmVbkvphgX"
   },
   "source": [
    "### Library Imports and Utility functions"
   ]
  },
  {
   "cell_type": "code",
   "execution_count": 2,
   "metadata": {
    "colab": {
     "base_uri": "https://localhost:8080/"
    },
    "id": "BO-HU-7uorVX",
    "outputId": "96b20cfa-d842-4768-ffe1-48d1a3ac26a7"
   },
   "outputs": [
    {
     "name": "stderr",
     "output_type": "stream",
     "text": [
      "[nltk_data] Downloading package omw-1.4 to /root/nltk_data...\n",
      "[nltk_data]   Package omw-1.4 is already up-to-date!\n",
      "[nltk_data] Downloading package stopwords to /root/nltk_data...\n",
      "[nltk_data]   Package stopwords is already up-to-date!\n",
      "[nltk_data] Downloading package wordnet to /root/nltk_data...\n",
      "[nltk_data]   Package wordnet is already up-to-date!\n",
      "[nltk_data] Downloading package words to /root/nltk_data...\n",
      "[nltk_data]   Package words is already up-to-date!\n"
     ]
    }
   ],
   "source": [
    "from sklearn.feature_extraction.text import CountVectorizer\n",
    "from sklearn.feature_extraction.text import TfidfVectorizer\n",
    "import nltk\n",
    "nltk.download('omw-1.4')\n",
    "from nltk.corpus import stopwords\n",
    "from nltk.stem import PorterStemmer\n",
    "from nltk.tokenize import word_tokenize\n",
    "import string\n",
    "import pandas as pd\n",
    "import re\n",
    "#string.punctuation\n",
    "nltk.download('stopwords')\n",
    "nltk.download('wordnet')\n",
    "nltk.download('words')\n",
    "from sklearn.model_selection import train_test_split\n",
    "import re\n",
    "from nltk.stem import WordNetLemmatizer\n",
    "\n",
    "\n",
    "stopword = nltk.corpus.stopwords.words('english')\n",
    "wn = nltk.WordNetLemmatizer()\n",
    "ps = nltk.PorterStemmer()\n",
    "words = set(nltk.corpus.words.words())\n",
    "\n",
    "\n",
    "def clean_text(text):\n",
    "  # From the last assignment\n",
    "    text = text.lower()\n",
    "    text = re.sub(r\"http\\S+\", \"\", text)\n",
    "    text = re.sub(r\"www.\\S+\", \"\", text)\n",
    "    text_links_removed = \"\".join([char for char in text if char not in string.punctuation])\n",
    "    text_cleaned = \" \".join([word for word in re.split('\\W+', text_links_removed)\n",
    "        if word not in stopword])\n",
    "    text = \" \".join([wn.lemmatize(word) for word in re.split('\\W+', text_cleaned)])\n",
    "    return text"
   ]
  },
  {
   "cell_type": "markdown",
   "metadata": {
    "id": "B0D5wVjZw7s0"
   },
   "source": [
    "### Q) Importing the datasets and do the necessary cleaning and convert the text into the vectors which are mentioned in the below code blocks. (10 points)"
   ]
  },
  {
   "cell_type": "code",
   "execution_count": 3,
   "metadata": {
    "colab": {
     "base_uri": "https://localhost:8080/",
     "height": 92
    },
    "id": "MOMhmIlGprK9",
    "outputId": "67f3ee13-d8b1-416d-fbaf-4039f46c58aa"
   },
   "outputs": [
    {
     "data": {
      "text/html": [
       "\n",
       "     <input type=\"file\" id=\"files-d3654572-65ca-4f5c-907d-8d770e00ebac\" name=\"files[]\" multiple disabled\n",
       "        style=\"border:none\" />\n",
       "     <output id=\"result-d3654572-65ca-4f5c-907d-8d770e00ebac\">\n",
       "      Upload widget is only available when the cell has been executed in the\n",
       "      current browser session. Please rerun this cell to enable.\n",
       "      </output>\n",
       "      <script>// Copyright 2017 Google LLC\n",
       "//\n",
       "// Licensed under the Apache License, Version 2.0 (the \"License\");\n",
       "// you may not use this file except in compliance with the License.\n",
       "// You may obtain a copy of the License at\n",
       "//\n",
       "//      http://www.apache.org/licenses/LICENSE-2.0\n",
       "//\n",
       "// Unless required by applicable law or agreed to in writing, software\n",
       "// distributed under the License is distributed on an \"AS IS\" BASIS,\n",
       "// WITHOUT WARRANTIES OR CONDITIONS OF ANY KIND, either express or implied.\n",
       "// See the License for the specific language governing permissions and\n",
       "// limitations under the License.\n",
       "\n",
       "/**\n",
       " * @fileoverview Helpers for google.colab Python module.\n",
       " */\n",
       "(function(scope) {\n",
       "function span(text, styleAttributes = {}) {\n",
       "  const element = document.createElement('span');\n",
       "  element.textContent = text;\n",
       "  for (const key of Object.keys(styleAttributes)) {\n",
       "    element.style[key] = styleAttributes[key];\n",
       "  }\n",
       "  return element;\n",
       "}\n",
       "\n",
       "// Max number of bytes which will be uploaded at a time.\n",
       "const MAX_PAYLOAD_SIZE = 100 * 1024;\n",
       "\n",
       "function _uploadFiles(inputId, outputId) {\n",
       "  const steps = uploadFilesStep(inputId, outputId);\n",
       "  const outputElement = document.getElementById(outputId);\n",
       "  // Cache steps on the outputElement to make it available for the next call\n",
       "  // to uploadFilesContinue from Python.\n",
       "  outputElement.steps = steps;\n",
       "\n",
       "  return _uploadFilesContinue(outputId);\n",
       "}\n",
       "\n",
       "// This is roughly an async generator (not supported in the browser yet),\n",
       "// where there are multiple asynchronous steps and the Python side is going\n",
       "// to poll for completion of each step.\n",
       "// This uses a Promise to block the python side on completion of each step,\n",
       "// then passes the result of the previous step as the input to the next step.\n",
       "function _uploadFilesContinue(outputId) {\n",
       "  const outputElement = document.getElementById(outputId);\n",
       "  const steps = outputElement.steps;\n",
       "\n",
       "  const next = steps.next(outputElement.lastPromiseValue);\n",
       "  return Promise.resolve(next.value.promise).then((value) => {\n",
       "    // Cache the last promise value to make it available to the next\n",
       "    // step of the generator.\n",
       "    outputElement.lastPromiseValue = value;\n",
       "    return next.value.response;\n",
       "  });\n",
       "}\n",
       "\n",
       "/**\n",
       " * Generator function which is called between each async step of the upload\n",
       " * process.\n",
       " * @param {string} inputId Element ID of the input file picker element.\n",
       " * @param {string} outputId Element ID of the output display.\n",
       " * @return {!Iterable<!Object>} Iterable of next steps.\n",
       " */\n",
       "function* uploadFilesStep(inputId, outputId) {\n",
       "  const inputElement = document.getElementById(inputId);\n",
       "  inputElement.disabled = false;\n",
       "\n",
       "  const outputElement = document.getElementById(outputId);\n",
       "  outputElement.innerHTML = '';\n",
       "\n",
       "  const pickedPromise = new Promise((resolve) => {\n",
       "    inputElement.addEventListener('change', (e) => {\n",
       "      resolve(e.target.files);\n",
       "    });\n",
       "  });\n",
       "\n",
       "  const cancel = document.createElement('button');\n",
       "  inputElement.parentElement.appendChild(cancel);\n",
       "  cancel.textContent = 'Cancel upload';\n",
       "  const cancelPromise = new Promise((resolve) => {\n",
       "    cancel.onclick = () => {\n",
       "      resolve(null);\n",
       "    };\n",
       "  });\n",
       "\n",
       "  // Wait for the user to pick the files.\n",
       "  const files = yield {\n",
       "    promise: Promise.race([pickedPromise, cancelPromise]),\n",
       "    response: {\n",
       "      action: 'starting',\n",
       "    }\n",
       "  };\n",
       "\n",
       "  cancel.remove();\n",
       "\n",
       "  // Disable the input element since further picks are not allowed.\n",
       "  inputElement.disabled = true;\n",
       "\n",
       "  if (!files) {\n",
       "    return {\n",
       "      response: {\n",
       "        action: 'complete',\n",
       "      }\n",
       "    };\n",
       "  }\n",
       "\n",
       "  for (const file of files) {\n",
       "    const li = document.createElement('li');\n",
       "    li.append(span(file.name, {fontWeight: 'bold'}));\n",
       "    li.append(span(\n",
       "        `(${file.type || 'n/a'}) - ${file.size} bytes, ` +\n",
       "        `last modified: ${\n",
       "            file.lastModifiedDate ? file.lastModifiedDate.toLocaleDateString() :\n",
       "                                    'n/a'} - `));\n",
       "    const percent = span('0% done');\n",
       "    li.appendChild(percent);\n",
       "\n",
       "    outputElement.appendChild(li);\n",
       "\n",
       "    const fileDataPromise = new Promise((resolve) => {\n",
       "      const reader = new FileReader();\n",
       "      reader.onload = (e) => {\n",
       "        resolve(e.target.result);\n",
       "      };\n",
       "      reader.readAsArrayBuffer(file);\n",
       "    });\n",
       "    // Wait for the data to be ready.\n",
       "    let fileData = yield {\n",
       "      promise: fileDataPromise,\n",
       "      response: {\n",
       "        action: 'continue',\n",
       "      }\n",
       "    };\n",
       "\n",
       "    // Use a chunked sending to avoid message size limits. See b/62115660.\n",
       "    let position = 0;\n",
       "    do {\n",
       "      const length = Math.min(fileData.byteLength - position, MAX_PAYLOAD_SIZE);\n",
       "      const chunk = new Uint8Array(fileData, position, length);\n",
       "      position += length;\n",
       "\n",
       "      const base64 = btoa(String.fromCharCode.apply(null, chunk));\n",
       "      yield {\n",
       "        response: {\n",
       "          action: 'append',\n",
       "          file: file.name,\n",
       "          data: base64,\n",
       "        },\n",
       "      };\n",
       "\n",
       "      let percentDone = fileData.byteLength === 0 ?\n",
       "          100 :\n",
       "          Math.round((position / fileData.byteLength) * 100);\n",
       "      percent.textContent = `${percentDone}% done`;\n",
       "\n",
       "    } while (position < fileData.byteLength);\n",
       "  }\n",
       "\n",
       "  // All done.\n",
       "  yield {\n",
       "    response: {\n",
       "      action: 'complete',\n",
       "    }\n",
       "  };\n",
       "}\n",
       "\n",
       "scope.google = scope.google || {};\n",
       "scope.google.colab = scope.google.colab || {};\n",
       "scope.google.colab._files = {\n",
       "  _uploadFiles,\n",
       "  _uploadFilesContinue,\n",
       "};\n",
       "})(self);\n",
       "</script> "
      ],
      "text/plain": [
       "<IPython.core.display.HTML object>"
      ]
     },
     "metadata": {},
     "output_type": "display_data"
    },
    {
     "name": "stdout",
     "output_type": "stream",
     "text": [
      "Saving data.csv to data (3).csv\n",
      "(7613, 2)\n"
     ]
    }
   ],
   "source": [
    "import pandas as pd\n",
    "import io \n",
    "\n",
    "from google.colab import files\n",
    "uploaded=files.upload()\n",
    "\n",
    "# Import the data.csv only use 'text' and 'target' columns\n",
    "#data = pd.read_csv(\"/Users/bindulathabanisetti/Downloads/data.csv\")\n",
    "data = pd.read_csv(io.StringIO(uploaded['data.csv'].decode('utf-8')))\n",
    "\n",
    "# data\n",
    "data = data[['text','target']]\n",
    "\n",
    "# and printout the train.shape and validation.shape \n",
    "#text_train,text_test,target_train,target_test = train_test_split(data['text'],data['target'],test_size=0.3)\n",
    "#print(text_train.shape)\n",
    "#print(text_test.shape)\n",
    "\n",
    "# expected shape of dataset is (7613, 2)\n",
    "print(data.shape)\n",
    "\n"
   ]
  },
  {
   "cell_type": "code",
   "execution_count": 4,
   "metadata": {
    "colab": {
     "base_uri": "https://localhost:8080/"
    },
    "id": "PS7K3p7AqAI8",
    "outputId": "3b368a8d-8784-487c-980f-bb25f66ef898"
   },
   "outputs": [
    {
     "name": "stdout",
     "output_type": "stream",
     "text": [
      "7613\n"
     ]
    }
   ],
   "source": [
    "# clean the text in the dataframe using the clean_text function provided above\n",
    "text_train_cleaned = [clean_text(tweet) for tweet in data.text]\n",
    "\n",
    "    \n",
    "print(len(text_train_cleaned))\n",
    "\n"
   ]
  },
  {
   "cell_type": "code",
   "execution_count": 5,
   "metadata": {
    "id": "GxZC6RIjq3bu"
   },
   "outputs": [],
   "source": [
    "# initialise count vectorizer from sklearn module with default parameter\n",
    "cv_vector = CountVectorizer()\n",
    "\n",
    "# fit and transform on dataset\n",
    "text_train_c_v = cv_vector.fit_transform(text_train_cleaned)\n",
    "#text_test_c_v = cv_vector.fit_transform(text_test_cleaned)"
   ]
  },
  {
   "cell_type": "code",
   "execution_count": 6,
   "metadata": {
    "id": "OPLJgROsP0Mj"
   },
   "outputs": [],
   "source": [
    "# get the values of target column\n",
    "\n",
    "y = data.target"
   ]
  },
  {
   "cell_type": "markdown",
   "metadata": {
    "id": "xjsiH8YOw-Da"
   },
   "source": [
    "### Q) Build the neural networks using tensorflow keras by following the below instructions. Evaluate the model on different metrics and comment your observations. (15 points)"
   ]
  },
  {
   "cell_type": "code",
   "execution_count": 7,
   "metadata": {
    "colab": {
     "base_uri": "https://localhost:8080/"
    },
    "id": "v0tLRSHp51z3",
    "outputId": "a9bee6c6-b4ca-4acb-8469-bef264d65965"
   },
   "outputs": [
    {
     "name": "stdout",
     "output_type": "stream",
     "text": [
      "Looking in indexes: https://pypi.org/simple, https://us-python.pkg.dev/colab-wheels/public/simple/\n",
      "Requirement already satisfied: tensorflow in /usr/local/lib/python3.7/dist-packages (2.9.2)\n",
      "Requirement already satisfied: keras<2.10.0,>=2.9.0rc0 in /usr/local/lib/python3.7/dist-packages (from tensorflow) (2.9.0)\n",
      "Requirement already satisfied: typing-extensions>=3.6.6 in /usr/local/lib/python3.7/dist-packages (from tensorflow) (4.1.1)\n",
      "Requirement already satisfied: protobuf<3.20,>=3.9.2 in /usr/local/lib/python3.7/dist-packages (from tensorflow) (3.17.3)\n",
      "Requirement already satisfied: flatbuffers<2,>=1.12 in /usr/local/lib/python3.7/dist-packages (from tensorflow) (1.12)\n",
      "Requirement already satisfied: absl-py>=1.0.0 in /usr/local/lib/python3.7/dist-packages (from tensorflow) (1.3.0)\n",
      "Requirement already satisfied: astunparse>=1.6.0 in /usr/local/lib/python3.7/dist-packages (from tensorflow) (1.6.3)\n",
      "Requirement already satisfied: packaging in /usr/local/lib/python3.7/dist-packages (from tensorflow) (21.3)\n",
      "Requirement already satisfied: wrapt>=1.11.0 in /usr/local/lib/python3.7/dist-packages (from tensorflow) (1.14.1)\n",
      "Requirement already satisfied: opt-einsum>=2.3.2 in /usr/local/lib/python3.7/dist-packages (from tensorflow) (3.3.0)\n",
      "Requirement already satisfied: google-pasta>=0.1.1 in /usr/local/lib/python3.7/dist-packages (from tensorflow) (0.2.0)\n",
      "Requirement already satisfied: gast<=0.4.0,>=0.2.1 in /usr/local/lib/python3.7/dist-packages (from tensorflow) (0.4.0)\n",
      "Requirement already satisfied: tensorboard<2.10,>=2.9 in /usr/local/lib/python3.7/dist-packages (from tensorflow) (2.9.1)\n",
      "Requirement already satisfied: grpcio<2.0,>=1.24.3 in /usr/local/lib/python3.7/dist-packages (from tensorflow) (1.49.1)\n",
      "Requirement already satisfied: libclang>=13.0.0 in /usr/local/lib/python3.7/dist-packages (from tensorflow) (14.0.6)\n",
      "Requirement already satisfied: keras-preprocessing>=1.1.1 in /usr/local/lib/python3.7/dist-packages (from tensorflow) (1.1.2)\n",
      "Requirement already satisfied: h5py>=2.9.0 in /usr/local/lib/python3.7/dist-packages (from tensorflow) (3.1.0)\n",
      "Requirement already satisfied: six>=1.12.0 in /usr/local/lib/python3.7/dist-packages (from tensorflow) (1.15.0)\n",
      "Requirement already satisfied: tensorflow-estimator<2.10.0,>=2.9.0rc0 in /usr/local/lib/python3.7/dist-packages (from tensorflow) (2.9.0)\n",
      "Requirement already satisfied: setuptools in /usr/local/lib/python3.7/dist-packages (from tensorflow) (57.4.0)\n",
      "Requirement already satisfied: numpy>=1.20 in /usr/local/lib/python3.7/dist-packages (from tensorflow) (1.21.6)\n",
      "Requirement already satisfied: termcolor>=1.1.0 in /usr/local/lib/python3.7/dist-packages (from tensorflow) (2.0.1)\n",
      "Requirement already satisfied: tensorflow-io-gcs-filesystem>=0.23.1 in /usr/local/lib/python3.7/dist-packages (from tensorflow) (0.27.0)\n",
      "Requirement already satisfied: wheel<1.0,>=0.23.0 in /usr/local/lib/python3.7/dist-packages (from astunparse>=1.6.0->tensorflow) (0.37.1)\n",
      "Requirement already satisfied: cached-property in /usr/local/lib/python3.7/dist-packages (from h5py>=2.9.0->tensorflow) (1.5.2)\n",
      "Requirement already satisfied: google-auth-oauthlib<0.5,>=0.4.1 in /usr/local/lib/python3.7/dist-packages (from tensorboard<2.10,>=2.9->tensorflow) (0.4.6)\n",
      "Requirement already satisfied: tensorboard-data-server<0.7.0,>=0.6.0 in /usr/local/lib/python3.7/dist-packages (from tensorboard<2.10,>=2.9->tensorflow) (0.6.1)\n",
      "Requirement already satisfied: requests<3,>=2.21.0 in /usr/local/lib/python3.7/dist-packages (from tensorboard<2.10,>=2.9->tensorflow) (2.23.0)\n",
      "Requirement already satisfied: tensorboard-plugin-wit>=1.6.0 in /usr/local/lib/python3.7/dist-packages (from tensorboard<2.10,>=2.9->tensorflow) (1.8.1)\n",
      "Requirement already satisfied: markdown>=2.6.8 in /usr/local/lib/python3.7/dist-packages (from tensorboard<2.10,>=2.9->tensorflow) (3.4.1)\n",
      "Requirement already satisfied: google-auth<3,>=1.6.3 in /usr/local/lib/python3.7/dist-packages (from tensorboard<2.10,>=2.9->tensorflow) (1.35.0)\n",
      "Requirement already satisfied: werkzeug>=1.0.1 in /usr/local/lib/python3.7/dist-packages (from tensorboard<2.10,>=2.9->tensorflow) (1.0.1)\n",
      "Requirement already satisfied: rsa<5,>=3.1.4 in /usr/local/lib/python3.7/dist-packages (from google-auth<3,>=1.6.3->tensorboard<2.10,>=2.9->tensorflow) (4.9)\n",
      "Requirement already satisfied: pyasn1-modules>=0.2.1 in /usr/local/lib/python3.7/dist-packages (from google-auth<3,>=1.6.3->tensorboard<2.10,>=2.9->tensorflow) (0.2.8)\n",
      "Requirement already satisfied: cachetools<5.0,>=2.0.0 in /usr/local/lib/python3.7/dist-packages (from google-auth<3,>=1.6.3->tensorboard<2.10,>=2.9->tensorflow) (4.2.4)\n",
      "Requirement already satisfied: requests-oauthlib>=0.7.0 in /usr/local/lib/python3.7/dist-packages (from google-auth-oauthlib<0.5,>=0.4.1->tensorboard<2.10,>=2.9->tensorflow) (1.3.1)\n",
      "Requirement already satisfied: importlib-metadata>=4.4 in /usr/local/lib/python3.7/dist-packages (from markdown>=2.6.8->tensorboard<2.10,>=2.9->tensorflow) (4.13.0)\n",
      "Requirement already satisfied: zipp>=0.5 in /usr/local/lib/python3.7/dist-packages (from importlib-metadata>=4.4->markdown>=2.6.8->tensorboard<2.10,>=2.9->tensorflow) (3.9.0)\n",
      "Requirement already satisfied: pyasn1<0.5.0,>=0.4.6 in /usr/local/lib/python3.7/dist-packages (from pyasn1-modules>=0.2.1->google-auth<3,>=1.6.3->tensorboard<2.10,>=2.9->tensorflow) (0.4.8)\n",
      "Requirement already satisfied: chardet<4,>=3.0.2 in /usr/local/lib/python3.7/dist-packages (from requests<3,>=2.21.0->tensorboard<2.10,>=2.9->tensorflow) (3.0.4)\n",
      "Requirement already satisfied: certifi>=2017.4.17 in /usr/local/lib/python3.7/dist-packages (from requests<3,>=2.21.0->tensorboard<2.10,>=2.9->tensorflow) (2022.9.24)\n",
      "Requirement already satisfied: urllib3!=1.25.0,!=1.25.1,<1.26,>=1.21.1 in /usr/local/lib/python3.7/dist-packages (from requests<3,>=2.21.0->tensorboard<2.10,>=2.9->tensorflow) (1.24.3)\n",
      "Requirement already satisfied: idna<3,>=2.5 in /usr/local/lib/python3.7/dist-packages (from requests<3,>=2.21.0->tensorboard<2.10,>=2.9->tensorflow) (2.10)\n",
      "Requirement already satisfied: oauthlib>=3.0.0 in /usr/local/lib/python3.7/dist-packages (from requests-oauthlib>=0.7.0->google-auth-oauthlib<0.5,>=0.4.1->tensorboard<2.10,>=2.9->tensorflow) (3.2.1)\n",
      "Requirement already satisfied: pyparsing!=3.0.5,>=2.0.2 in /usr/local/lib/python3.7/dist-packages (from packaging->tensorflow) (3.0.9)\n"
     ]
    }
   ],
   "source": [
    "%pip install tensorflow"
   ]
  },
  {
   "cell_type": "code",
   "execution_count": 8,
   "metadata": {
    "colab": {
     "base_uri": "https://localhost:8080/"
    },
    "id": "InaC77bZ51z3",
    "outputId": "ba361583-7057-4bb4-a91d-1122520f2ca0"
   },
   "outputs": [
    {
     "name": "stdout",
     "output_type": "stream",
     "text": [
      "Looking in indexes: https://pypi.org/simple, https://us-python.pkg.dev/colab-wheels/public/simple/\n",
      "Requirement already satisfied: keras in /usr/local/lib/python3.7/dist-packages (2.9.0)\n"
     ]
    }
   ],
   "source": [
    "%pip install keras"
   ]
  },
  {
   "cell_type": "code",
   "execution_count": 9,
   "metadata": {
    "id": "c7aSCHwL51z4"
   },
   "outputs": [],
   "source": [
    "\n",
    "import tensorflow as tf\n",
    "from tensorflow import keras\n",
    "from tensorflow.keras import layers\n",
    "from keras.layers import Dense\n",
    "from keras.layers import Activation\n",
    "from keras.regularizers import l2"
   ]
  },
  {
   "cell_type": "code",
   "execution_count": 10,
   "metadata": {
    "id": "AQg14bkTq3KB"
   },
   "outputs": [],
   "source": [
    "\n",
    "\n",
    "tf.random.set_seed(42)\n",
    "\n",
    "\n",
    "# complete this linear model in tensorflow\n",
    "def build_model(X):\n",
    "\n",
    "    # layer 1 : input layer\n",
    "    inp = tf.keras.Input((text_train_c_v.shape[1],))\n",
    "  \n",
    "    # layer 2 : add the dense layer with 64 units and relu activation\n",
    "    layer2 = tf.keras.layers.Dense(units=64,activation='relu')(inp)\n",
    "      \n",
    "    # layer 3 : add the dropout layer with dropout rate of 0.5\n",
    "    layer3 = tf.keras.layers.Dropout(rate=0.5)(layer2)\n",
    "      \n",
    "    # layer 4 : add the dense layer with 32 units with tanh activation and with l2 regularization\n",
    "    layer4 = tf.keras.layers.Dense(units=32,activation='tanh',kernel_regularizer=tf.keras.regularizers.l2(0.01))(layer3)\n",
    "      \n",
    "    # layer 5 : add the dropout layer with dropout rate of 0.5\n",
    "    layer5 = tf.keras.layers.Dropout(rate=0.5)(layer4)\n",
    "      \n",
    "    # layer 6 : add the dense layer with 16 units with tanh activation and with l2 regularization\n",
    "    layer6 = tf.keras.layers.Dense(units=16,activation='tanh',kernel_regularizer=tf.keras.regularizers.l2(0.01))(layer5)\n",
    "      \n",
    "    # layer 7 : add the dropout layer with dropout rate of 0.5\n",
    "    layer7 = tf.keras.layers.Dropout(rate=0.5)(layer6)\n",
    "      \n",
    "    # layer 8 : output layer with units equal to 1 and activation as sigmoid\n",
    "    layer8 = tf.keras.layers.Dense(units=1,activation='sigmoid')(layer7)\n",
    "      \n",
    "    # use loss as binary crossentropy, optimizer as rmsprop and evaluate model on auc \n",
    "    tf_optimizer = tf.keras.optimizers.RMSprop()\n",
    "    model = tf.keras.models.Model(inputs=inp,outputs=layer8)\n",
    "    model.compile(optimizer=tf_optimizer, loss='BinaryCrossentropy', metrics=['AUC'])\n",
    "    return model\n"
   ]
  },
  {
   "cell_type": "code",
   "execution_count": 11,
   "metadata": {
    "colab": {
     "base_uri": "https://localhost:8080/"
    },
    "id": "BHOxLMuppFga",
    "outputId": "3a0b5fa3-8f74-40a4-b28f-5d434836549f"
   },
   "outputs": [
    {
     "name": "stdout",
     "output_type": "stream",
     "text": [
      "(7613, 16362)\n",
      "(7613,)\n"
     ]
    }
   ],
   "source": [
    "print(text_train_c_v.shape)\n",
    "print(y.shape)"
   ]
  },
  {
   "cell_type": "code",
   "execution_count": 12,
   "metadata": {
    "colab": {
     "base_uri": "https://localhost:8080/",
     "height": 1000
    },
    "id": "Q71CC1pIsx0O",
    "outputId": "476f369b-97b7-44df-be16-9bd4f1968897"
   },
   "outputs": [
    {
     "name": "stdout",
     "output_type": "stream",
     "text": [
      "Epoch 1/5\n",
      "381/381 [==============================] - 6s 12ms/step - loss: 0.7887 - auc: 0.7074 - val_loss: 0.6507 - val_auc: 0.7296\n",
      "Epoch 2/5\n",
      "381/381 [==============================] - 4s 12ms/step - loss: 0.5039 - auc: 0.8670 - val_loss: 0.6407 - val_auc: 0.7301\n",
      "Epoch 3/5\n",
      "381/381 [==============================] - 4s 12ms/step - loss: 0.4337 - auc: 0.8958 - val_loss: 0.6331 - val_auc: 0.7353\n",
      "Epoch 4/5\n",
      "381/381 [==============================] - 4s 11ms/step - loss: 0.4029 - auc: 0.9081 - val_loss: 0.6359 - val_auc: 0.7351\n",
      "Epoch 5/5\n",
      "381/381 [==============================] - 4s 12ms/step - loss: 0.3846 - auc: 0.9155 - val_loss: 0.6275 - val_auc: 0.7355\n"
     ]
    },
    {
     "data": {
      "image/png": "[encoded data removed]",
      "text/plain": [
       "<Figure size 432x288 with 1 Axes>"
      ]
     },
     "metadata": {
      "needs_background": "light"
     },
     "output_type": "display_data"
    },
    {
     "name": "stdout",
     "output_type": "stream",
     "text": [
      "Epoch 1/5\n",
      "381/381 [==============================] - 7s 16ms/step - loss: 0.7767 - auc: 0.7620 - val_loss: 0.6795 - val_auc: 0.7003\n",
      "Epoch 2/5\n",
      "381/381 [==============================] - 4s 11ms/step - loss: 0.4717 - auc: 0.8879 - val_loss: 0.6959 - val_auc: 0.7043\n",
      "Epoch 3/5\n",
      "381/381 [==============================] - 4s 11ms/step - loss: 0.4071 - auc: 0.9103 - val_loss: 0.7137 - val_auc: 0.7066\n",
      "Epoch 4/5\n",
      "381/381 [==============================] - 4s 11ms/step - loss: 0.3788 - auc: 0.9204 - val_loss: 0.7340 - val_auc: 0.7017\n",
      "Epoch 5/5\n",
      "381/381 [==============================] - 4s 12ms/step - loss: 0.3560 - auc: 0.9275 - val_loss: 0.7364 - val_auc: 0.7005\n"
     ]
    },
    {
     "data": {
      "image/png": "[encoded data removed]",
      "text/plain": [
       "<Figure size 432x288 with 1 Axes>"
      ]
     },
     "metadata": {
      "needs_background": "light"
     },
     "output_type": "display_data"
    },
    {
     "name": "stdout",
     "output_type": "stream",
     "text": [
      "Epoch 1/5\n",
      "381/381 [==============================] - 6s 14ms/step - loss: 0.7916 - auc: 0.7617 - val_loss: 0.6586 - val_auc: 0.7547\n",
      "Epoch 2/5\n",
      "381/381 [==============================] - 4s 12ms/step - loss: 0.4751 - auc: 0.8837 - val_loss: 0.6326 - val_auc: 0.7593\n",
      "Epoch 3/5\n",
      "381/381 [==============================] - 4s 11ms/step - loss: 0.4091 - auc: 0.9067 - val_loss: 0.6754 - val_auc: 0.7584\n",
      "Epoch 4/5\n",
      "381/381 [==============================] - 4s 12ms/step - loss: 0.3813 - auc: 0.9159 - val_loss: 0.6767 - val_auc: 0.7594\n",
      "Epoch 5/5\n",
      "381/381 [==============================] - 4s 12ms/step - loss: 0.3623 - auc: 0.9230 - val_loss: 0.6648 - val_auc: 0.7602\n"
     ]
    },
    {
     "data": {
      "image/png": "[encoded data removed]",
      "text/plain": [
       "<Figure size 432x288 with 1 Axes>"
      ]
     },
     "metadata": {
      "needs_background": "light"
     },
     "output_type": "display_data"
    },
    {
     "name": "stdout",
     "output_type": "stream",
     "text": [
      "Epoch 1/5\n",
      "381/381 [==============================] - 6s 12ms/step - loss: 0.7896 - auc: 0.7263 - val_loss: 0.6729 - val_auc: 0.7169\n",
      "Epoch 2/5\n",
      "381/381 [==============================] - 4s 11ms/step - loss: 0.4809 - auc: 0.8797 - val_loss: 0.6695 - val_auc: 0.7291\n",
      "Epoch 3/5\n",
      "381/381 [==============================] - 4s 11ms/step - loss: 0.4149 - auc: 0.9074 - val_loss: 0.6591 - val_auc: 0.7292\n",
      "Epoch 4/5\n",
      "381/381 [==============================] - 4s 12ms/step - loss: 0.3878 - auc: 0.9175 - val_loss: 0.6547 - val_auc: 0.7295\n",
      "Epoch 5/5\n",
      "381/381 [==============================] - 5s 12ms/step - loss: 0.3651 - auc: 0.9250 - val_loss: 0.6829 - val_auc: 0.7307\n"
     ]
    },
    {
     "data": {
      "image/png": "[encoded data removed]",
      "text/plain": [
       "<Figure size 432x288 with 1 Axes>"
      ]
     },
     "metadata": {
      "needs_background": "light"
     },
     "output_type": "display_data"
    },
    {
     "name": "stdout",
     "output_type": "stream",
     "text": [
      "Epoch 1/5\n",
      "381/381 [==============================] - 7s 16ms/step - loss: 0.7889 - auc: 0.7098 - val_loss: 0.5587 - val_auc: 0.8493\n",
      "Epoch 2/5\n",
      "381/381 [==============================] - 5s 14ms/step - loss: 0.5030 - auc: 0.8669 - val_loss: 0.5033 - val_auc: 0.8553\n",
      "Epoch 3/5\n",
      "381/381 [==============================] - 6s 15ms/step - loss: 0.4367 - auc: 0.8970 - val_loss: 0.5054 - val_auc: 0.8557\n",
      "Epoch 4/5\n",
      "381/381 [==============================] - 6s 15ms/step - loss: 0.4078 - auc: 0.9089 - val_loss: 0.4976 - val_auc: 0.8549\n",
      "Epoch 5/5\n",
      "381/381 [==============================] - 6s 15ms/step - loss: 0.3876 - auc: 0.9136 - val_loss: 0.5170 - val_auc: 0.8555\n"
     ]
    },
    {
     "data": {
      "image/png": "[encoded data removed]",
      "text/plain": [
       "<Figure size 432x288 with 1 Axes>"
      ]
     },
     "metadata": {
      "needs_background": "light"
     },
     "output_type": "display_data"
    }
   ],
   "source": [
    "# Now we will initialise the stratified K-Fold from sklearn with nsplits as 5\n",
    "from sklearn.model_selection import StratifiedKFold\n",
    "import matplotlib.pyplot as plt\n",
    "\n",
    "skf = StratifiedKFold(n_splits=5)\n",
    "\n",
    "# Now Split the countvectors and target (y)\n",
    "splits = skf.split(text_train_c_v,y)\n",
    "\n",
    "# iterate through the train and valid index in splits for 5 folds\n",
    "for train_index,valid_index in splits:\n",
    "    # Get X_train, X_valid, y_train, y_valid using indexes\n",
    "    X_train, X_valid = text_train_c_v[train_index], text_train_c_v[valid_index]\n",
    "    y_train, y_valid = y.iloc[train_index], y.iloc[valid_index]\n",
    "    X_train = X_train.toarray()\n",
    "    X_valid = X_valid.toarray()\n",
    "    \n",
    "    #call the build_model function and initialize the model\n",
    "    model = build_model(X_train)\n",
    "\n",
    "    # train and validate the model on the count vectors of text which we have created initially for 5 epochs, \n",
    "    # adjust batch size according to your computation power (suggestion use : 16)\n",
    "    train_model_fit = model.fit(x=X_train,y=y_train,epochs=5,batch_size=16,validation_data=(X_valid,y_valid))\n",
    "\n",
    "    # plot the graph between training auc and validation auc\n",
    "    plt.plot(train_model_fit.history['auc'])\n",
    "    plt.plot(train_model_fit.history['val_auc'])\n",
    "    plt.title('Training auc Vs Validation auc')\n",
    "    plt.xlabel('epoch')\n",
    "    plt.ylabel('auc')\n",
    "    plt.legend(['Training data auc','Validation data auc'],loc='upper left')\n",
    "    plt.show()"
   ]
  },
  {
   "cell_type": "markdown",
   "metadata": {
    "id": "7ZZKV7OTVKNG"
   },
   "source": [
    "### Q) Comment on the plots. How did it varied across different folds for neural networks?"
   ]
  },
  {
   "cell_type": "markdown",
   "metadata": {
    "id": "krYnhZunaJQA"
   },
   "source": [
    "**AUC and ROC - curve**: \n",
    "Receiver Operating Characteristic curve represents how well our model classifies the data.\n",
    "1. When we use the model to classify the data we construct the Confusion Matrix comprising of True postives, False positives , True negatives and False negatives\n",
    "2. In our question we are classifying whether the tweets are about disaster or not. And in general each tweet is given a probability for each class. And as per the ROC curve functionality, if the probability is higher than the likelihood-threshold will classify that tweet is about disaster. \n",
    "3. We know that False Positive Rate - out of all non-disaster tweets how many times the model mis-classified it is about diaster. FPR =  FP/(FP+TN)\n",
    "4. True Positive Rate - out of all disaster tweets how many times the model classified correctly. TPR = TP/(TP+FN)\n",
    "5. As the likelihood-threshold(discussed in pt.2) increases, the FPR and TPR will be decreased. \n",
    "6. And the graph of ROC will be drawn by taking FPR on positive axis and TPR on y-axis at different likelihood-thresholds. So  at threshold 0 - corresponds the ROC curve at (1,1). And at threshold 1 - corresponds to the ROC curve at (0,0)\n",
    "7. **AUC is area under the curve of ROC** - the higher the AUC the better the performance of the model in distinguishing the classes. \n",
    "\n",
    "So **observations** from above plots are:\n",
    "\n",
    "8. The AUC of the training-data is always significantly higher than that of \n",
    "the validation-data. Unlike the training-data , the AUC of the vallidation data is plateaued around 0.75 in first,second,third,fourth folds and around 0.85 in fifth fold.\n",
    "9. The tensor flow model gives the highest performance for classifying the tweets on validation-data at the fifth fold for which the AUC is 0.85\n",
    "10. The AUC in first fold for the training-data is 0.91 and for validation-data is 0.73\n",
    "11. The AUC in second fold for the training-data is 0.92 and for validation-data is 0.70\n",
    "12. The AUC in third fold for the training-data is 0.92 and for validation-data is 0.76\n",
    "13. The AUC in first fold for the training-data is 0.92 and for validation-data is 0.73\n",
    "14. The AUC in first fold for the training-data is 0.91 and for validation-data is 0.85\n"
   ]
  },
  {
   "cell_type": "code",
   "execution_count": null,
   "metadata": {},
   "outputs": [],
   "source": []
  },
  {
   "cell_type": "markdown",
   "metadata": {
    "id": "Z9NCC6iWVH3z"
   },
   "source": [
    "# Building Multinomial Navie Bayes on Countvectors"
   ]
  },
  {
   "cell_type": "code",
   "execution_count": 15,
   "metadata": {
    "colab": {
     "base_uri": "https://localhost:8080/",
     "height": 1000
    },
    "id": "cbtXmZ0FI6nO",
    "outputId": "4bbc8a75-396c-4f9d-a5f0-9147403a7c4b"
   },
   "outputs": [
    {
     "data": {
      "image/png": "[encoded data removed]",
      "text/plain": [
       "<Figure size 432x288 with 1 Axes>"
      ]
     },
     "metadata": {
      "needs_background": "light"
     },
     "output_type": "display_data"
    },
    {
     "data": {
      "image/png": "[encoded data removed]",
      "text/plain": [
       "<Figure size 432x288 with 1 Axes>"
      ]
     },
     "metadata": {
      "needs_background": "light"
     },
     "output_type": "display_data"
    },
    {
     "data": {
      "image/png": "[encoded data removed]",
      "text/plain": [
       "<Figure size 432x288 with 1 Axes>"
      ]
     },
     "metadata": {
      "needs_background": "light"
     },
     "output_type": "display_data"
    },
    {
     "data": {
      "image/png": "[encoded data removed]",
      "text/plain": [
       "<Figure size 432x288 with 1 Axes>"
      ]
     },
     "metadata": {
      "needs_background": "light"
     },
     "output_type": "display_data"
    },
    {
     "data": {
      "image/png": "[encoded data removed]",
      "text/plain": [
       "<Figure size 432x288 with 1 Axes>"
      ]
     },
     "metadata": {
      "needs_background": "light"
     },
     "output_type": "display_data"
    }
   ],
   "source": [
    "from sklearn.naive_bayes import MultinomialNB\n",
    "from sklearn.metrics import roc_curve,roc_auc_score\n",
    "\n",
    "# Now Split the countvectors and target (y)\n",
    "splits = skf.split(text_train_c_v,y)\n",
    "# iterate through the train and valid index in splits for 5 folds. Use the splits created above.\n",
    "for train_index, valid_index in splits:\n",
    "    # Get X_train, X_valid, y_train, y_valid using indexes\n",
    "    X_train, X_valid = text_train_c_v[train_index], text_train_c_v[valid_index]\n",
    "    y_train, y_valid = y.iloc[train_index], y.iloc[valid_index]\n",
    "    X_train = X_train.toarray()\n",
    "    X_valid = X_valid.toarray()\n",
    "\n",
    "    # intialise multinomial navie bayes with default parameters\n",
    "    mnb_model = MultinomialNB()\n",
    "    # fit the data\n",
    "    train_model_fit = mnb_model.fit(X_train,y_train)\n",
    "    y_pred = train_model_fit.predict_proba(X_valid)[::,1]\n",
    "    # plot AUC-ROC curve for validation data\n",
    "    fpr, tpr, thresholds = roc_curve(y_valid,y_pred)\n",
    "    roc_auc = roc_auc_score(y_valid,y_pred)\n",
    "    plt.plot(fpr,tpr,label=\"ROC_AUC=\"+str(roc_auc))\n",
    "    plt.xlabel(\"False Positive Rate\")\n",
    "    plt.ylabel(\"True Positive Rate\")\n",
    "    plt.legend(loc=\"lower right\")\n",
    "    plt.title(\"False Vs True Positive Rates\")\n",
    "    plt.show()\n",
    "    \n",
    "    "
   ]
  },
  {
   "cell_type": "markdown",
   "metadata": {
    "id": "2eOdlcXOWRj6"
   },
   "source": [
    "### Q) Comment on the plots. How did it varied across different folds for Multinomial Naive Bayes?"
   ]
  },
  {
   "cell_type": "markdown",
   "metadata": {
    "id": "nsWqV64qHSq4"
   },
   "source": [
    "**ROC - curve**: \n",
    "Receiver Operating Characteristic curve represents how well our model classifies the data.\n",
    "1. When we use the model to classify the data we construct the Confusion Matrix comprising of True postives, False positives , True negatives and False negatives\n",
    "2. In our question we are classifying whether the tweets are about disaster or not. And in general each tweet is given a probability for each class. And as per the ROC curve functionality, if the probability is higher than the likelihood-threshold will classify that tweet is about disaster. \n",
    "3. We know that False Positive Rate - out of all non-disaster tweets how many times the model mis-classified it is about diaster. FPR =  FP/(FP+TN)\n",
    "4. True Positive Rate - out of all disaster tweets how many times the model classified correctly. TPR = TP/(TP+FN)\n",
    "5. As the likelihood-threshold(discussed in pt.2) increases, the FPR and TPR will be decreased. \n",
    "6. And the graph of ROC will be drawn by taking FPR on positive axis and TPR on y-axis at different likelihood-thresholds. So  at threshold 0 - corresponds the ROC curve at (1,1). And at threshold 1 - corresponds to the ROC curve at (0,0)\n",
    "7. AUC is area under the curve of ROC - the higher the AUC the better the performance of the model in distinguishing the classes. \n",
    "\n",
    "So **observations** from above graph are:\n",
    "\n",
    "8. The roc_curves looks similar for all the folds, except for the fifth fold which has the highest ROC_AUC_score 0.85\n",
    "9. The roc_auc_score is lowest in the second fold which is about 0.7\n",
    "10. In the first, third and fourth folds the roc_auc_score almost around 0.75 \n",
    "11. Indicating that the Multinomial Naive Bayes models' performance for classifying the tweets is highest in the fifth fold , and then in first, third and fourth folds. "
   ]
  },
  {
   "cell_type": "markdown",
   "metadata": {
    "id": "4adDDQWeQyGb"
   },
   "source": [
    "## Question 4 Theory Question  \n",
    "\n",
    "What is the difference between Count Vectorizer, TFIDF, Word2Vec and Glove? (5 points)"
   ]
  },
  {
   "cell_type": "markdown",
   "metadata": {
    "id": "cXTRkF6KRB_D"
   },
   "source": [
    "**Answer:**\n",
    "\n",
    "**Count Vectorizer**: It counts the frequency of a word in the document. It is simply term/token counts. It does not look for the relative importance of word in the entire corpus\n",
    "\n",
    "**TF-IDF**: Term-frequency Inverse Document Frequency is better than count vectorizer, as it takes into consideration relative importance of word with respect to entire corpus(through IDF) along with Term Frequency(TF). Hence TF-IDF vector values will be higher for the more-important words and will be lower for the less-important words, and there by TF-IDF helps in summarizing the articles most efficiently than by using CountVectorizer\n",
    "\n",
    "**Word2Vec** : In Word2Vec, unlike TF-IDF takes the context of words in the corpus into consideration. The relationship between the words is derived by the cosine-distance between the words. Semantically similar words(vectors) are close to eachother. It leverages co-occurences within the local context that is with neighbouring words.\n",
    "\n",
    "**Glove** : In Glove as well, basically, the relationship between the words is derived by using the cosine-distance between the words. And the words which are similar has the higher cosine value. This model is based on global word-to-word co-occurence counts leveraging the entire corpus(not only with neighbouring-words like Word2Vec)\n",
    "\n",
    "\n",
    "\n"
   ]
  },
  {
   "cell_type": "markdown",
   "metadata": {
    "id": "yQQsqcto79zE"
   },
   "source": [
    "What is the significant difference between the Niave Bayes Implementation using Bag of Words and TF-IDF? (5 points)"
   ]
  },
  {
   "cell_type": "markdown",
   "metadata": {
    "id": "JtiPCTZM8Aua"
   },
   "source": [
    "**Answer:**\n",
    "\n",
    "1. Bag of words is just the vector representation of whole text document corpus, where the number of unique tokens will be number of columns and the values in each vector(document) corresponds to the number of occurences of word in that particular document. \n",
    "2. So in Bag of words we can see the frequency of word in the document-wise but not with respect to entire corpus. \n",
    "3. On the other hand, in the TF-IDF, the Term Frequency - Inverse Document Frequency reflects how important is the word to that particular document. \n",
    "4. It takes into account relative importance of word by considering all the documents. \n",
    "5. The Tf-IDF value of word in a document will be higher if the word-frequency in that document is higher and if the word frequency throughout all the documents is lower. \n",
    "6. Since inverse-document function is log of total number of documents divided by the number of documents containing that word, the lesser frequent word throughout all the documents will be having higher IDF value\n",
    "7. Finally, the bag of words is simply the term-frequency alone(number of occurences of the word in a document) it doesn't reveal anything about the relative importance of word with respect to entire corpus , where as the TF-IDF value is the product of Term-frequncy and Inverse Document Frequency(refer above point) which will reflect the relative importance of word w.r.t entire corpus. \n",
    "8. So implementing NAive Bayes using TF-IDF vectorizer will give us higher accuracy than that is implemented with Bag of Words, as most significant words will be given higher tf-idf value. "
   ]
  }
 ],
 "metadata": {
  "colab": {
   "collapsed_sections": [],
   "provenance": []
  },
  "kernelspec": {
   "display_name": "Python 3 (ipykernel)",
   "language": "python",
   "name": "python3"
  },
  "language_info": {
   "codemirror_mode": {
    "name": "ipython",
    "version": 3
   },
   "file_extension": ".py",
   "mimetype": "text/x-python",
   "name": "python",
   "nbconvert_exporter": "python",
   "pygments_lexer": "ipython3",
   "version": "3.9.7"
  }
 },
 "nbformat": 4,
 "nbformat_minor": 1
}
