{
 "cells": [
  {
   "cell_type": "markdown",
   "metadata": {
    "id": "0pcFMwQ03fN_"
   },
   "source": [
    "## CS 6120: Natural Language Processing - Prof. Ahmad Uzair\n",
    "\n",
    "### Assignment 4: EM, Heirarchical Clustering and HMM\n",
    "### Total Points: 100 points"
   ]
  },
  {
   "cell_type": "markdown",
   "metadata": {
    "id": "3YRnxpPm3yus"
   },
   "source": [
    "In Assignment 4, you will implement Viterbi Algorithm based on Hidden Markov Model for Part-of-speech tagging. We recommend you to start this assignment a little early and fully understand these algorithms before jumping into coding. "
   ]
  },
  {
   "cell_type": "markdown",
   "metadata": {
    "id": "tEAiEe-ZxW5r"
   },
   "source": [
    "## Parts of speech tagging. \n",
    "\n",
    "Parts of Speech Tagging is the process of the assigning a parts of speech tag (noun, adjective etc..,) to each word in the input sentence. <br>\n",
    "\n",
    "In this question we will be building HMMs and Viterbi Algorithm. \n",
    "\n",
    "### About the Dataset: <br>\n",
    "\n",
    "For this task we will be using tagged datasets collected from Wall Street Journal. <br>\n",
    "\n",
    "The file train.pos will be used for training and test.pos will for testing. Along with these two we will be providing vocab.txt the words in this file are the words from the training set that were used two or more times.<br>\n",
    "\n",
    "The dataset will contain different tags like JJ which means adjective, DT means determiner etc.., for better understaning of the tags refer to [this link](http://relearn.be/2015/training-common-sense/sources/software/pattern-2.6-critical-fork/docs/html/mbsp-tags.html)"
   ]
  },
  {
   "cell_type": "code",
   "execution_count": 184,
   "metadata": {
    "id": "rg5E-2k7xbP6"
   },
   "outputs": [],
   "source": [
    "##############################################################################################\n",
    "##### Dont change anything in this code cell , only change the data paths accordingly  #######\n",
    "##############################################################################################\n",
    "\n",
    "#Importing necessary packages\n",
    "\n",
    "import pandas as pd\n",
    "from collections import defaultdict\n",
    "import math\n",
    "import numpy as np\n",
    "import string\n",
    "\n",
    "# Punctuation characters\n",
    "punct = set(string.punctuation)\n",
    "\n",
    "# Morphology rules used to assign unknown word tokens\n",
    "noun_suffix = [\"action\", \"age\", \"ance\", \"cy\", \"dom\", \"ee\", \"ence\", \"er\", \"hood\", \"ion\", \"ism\", \"ist\", \"ity\", \"ling\", \"ment\", \"ness\", \"or\", \"ry\", \"scape\", \"ship\", \"ty\"]\n",
    "verb_suffix = [\"ate\", \"ify\", \"ise\", \"ize\"]\n",
    "adj_suffix = [\"able\", \"ese\", \"ful\", \"i\", \"ian\", \"ible\", \"ic\", \"ish\", \"ive\", \"less\", \"ly\", \"ous\"]\n",
    "adv_suffix = [\"ward\", \"wards\", \"wise\"]\n",
    "\n",
    "# Utility functions which we further need\n",
    "\n",
    "def get_word_tag(line, vocab): \n",
    "    if not line.split():\n",
    "        word = \"--n--\"\n",
    "        tag = \"--s--\"\n",
    "        return word, tag\n",
    "    else:\n",
    "        word, tag = line.split()\n",
    "        if word not in vocab: \n",
    "            # Handle unknown words\n",
    "            word = assign_unk(word)\n",
    "        return word, tag\n",
    "    return None \n",
    "\n",
    "\n",
    "def preprocess(vocab, data_fp):\n",
    "    \"\"\"\n",
    "    Preprocess data\n",
    "    \"\"\"\n",
    "    orig = []\n",
    "    prep = []\n",
    "\n",
    "    # Read data\n",
    "    with open(data_fp, \"r\") as data_file:\n",
    "\n",
    "        for cnt, word in enumerate(data_file):\n",
    "\n",
    "            # End of sentence\n",
    "            if not word.split():\n",
    "                orig.append(word.strip())\n",
    "                word = \"--n--\"\n",
    "                prep.append(word)\n",
    "                continue\n",
    "\n",
    "            # Handle unknown words\n",
    "            elif word.strip() not in vocab:\n",
    "                orig.append(word.strip())\n",
    "                word = assign_unk(word)\n",
    "                prep.append(word)\n",
    "                continue\n",
    "\n",
    "            else:\n",
    "                orig.append(word.strip())\n",
    "                prep.append(word.strip())\n",
    "\n",
    "    assert(len(orig) == len(open(data_fp, \"r\").readlines()))\n",
    "    assert(len(prep) == len(open(data_fp, \"r\").readlines()))\n",
    "\n",
    "    return orig, prep\n",
    "\n",
    "\n",
    "def assign_unk(tok):\n",
    "    \"\"\"\n",
    "    Assign unknown word tokens\n",
    "    \"\"\"\n",
    "    # Digits\n",
    "    if any(char.isdigit() for char in tok):\n",
    "        return \"--unk_digit--\"\n",
    "\n",
    "    # Punctuation\n",
    "    elif any(char in punct for char in tok):\n",
    "        return \"--unk_punct--\"\n",
    "\n",
    "    # Upper-case\n",
    "    elif any(char.isupper() for char in tok):\n",
    "        return \"--unk_upper--\"\n",
    "\n",
    "    # Nouns\n",
    "    elif any(tok.endswith(suffix) for suffix in noun_suffix):\n",
    "        return \"--unk_noun--\"\n",
    "\n",
    "    # Verbs\n",
    "    elif any(tok.endswith(suffix) for suffix in verb_suffix):\n",
    "        return \"--unk_verb--\"\n",
    "\n",
    "    # Adjectives\n",
    "    elif any(tok.endswith(suffix) for suffix in adj_suffix):\n",
    "        return \"--unk_adj--\"\n",
    "\n",
    "    # Adverbs\n",
    "    elif any(tok.endswith(suffix) for suffix in adv_suffix):\n",
    "        return \"--unk_adv--\"\n",
    "\n",
    "    return \"--unk--\"\n",
    "\n",
    "\n",
    "# for viterbi\n",
    "def compute_accuracy(pred, y):\n",
    "    '''\n",
    "    Input: \n",
    "        pred: a list of the predicted parts-of-speech \n",
    "        y: a list of lines where each word is separated by a '\\t' (i.e. word \\t tag)\n",
    "    Output: \n",
    "        \n",
    "    '''\n",
    "    num_correct = 0\n",
    "    total = 0\n",
    "    \n",
    "    # Zip together the prediction and the labels\n",
    "    for prediction, y in zip(pred, y):\n",
    "        ### START CODE HERE (Replace instances of 'None' with your code) ###\n",
    "        # Split the label into the word and the POS tag\n",
    "        word_tag_tuple = y.split()\n",
    "        \n",
    "        # Check that there is actually a word and a tag\n",
    "        # no more and no less than 2 items\n",
    "        if len(word_tag_tuple)!=2: # complete this line\n",
    "            continue \n",
    "\n",
    "        # store the word and tag separately\n",
    "        word, tag = word_tag_tuple\n",
    "        \n",
    "        # Check if the POS tag label matches the prediction\n",
    "        if prediction == tag: # complete this line\n",
    "            \n",
    "            # count the number of times that the prediction\n",
    "            # and label match\n",
    "            num_correct += 1\n",
    "            \n",
    "        # keep track of the total number of examples (that have valid labels)\n",
    "        total += 1\n",
    "        \n",
    "        ### END CODE HERE ###\n",
    "    return num_correct/total\n",
    "\n",
    "\n",
    "# load in the training corpus\n",
    "with open(\"/Users/bindulathabanisetti/Downloads/training.pos.txt\", 'r') as f:\n",
    "    training_corpus = f.readlines()\n",
    "\n",
    "# read the vocabulary data, split by each line of text, and save the list\n",
    "with open(\"/Users/bindulathabanisetti/Downloads/vocab.txt\", 'r') as f:\n",
    "    voc_l = f.read().split('\\n')\n",
    "\n",
    "# vocab: dictionary that has the index of the corresponding words\n",
    "vocab = {} \n",
    "\n",
    "# Get the index of the corresponding words. \n",
    "for i, word in enumerate(sorted(voc_l)): \n",
    "    vocab[word] = i       \n",
    "    \n",
    "\n",
    "cnt = 0\n",
    "for k,v in vocab.items():\n",
    "    cnt += 1\n",
    "    if cnt > 20:\n",
    "        break\n",
    "\n",
    "# load in the test corpus\n",
    "with open(\"/Users/bindulathabanisetti/Downloads/test.pos.txt\", 'r') as f:\n",
    "    y = f.readlines()\n",
    "\n",
    "#corpus without tags, preprocessed\n",
    "_, prep = preprocess(vocab, \"/Users/bindulathabanisetti/Downloads/test.words.txt\")\n",
    "\n"
   ]
  },
  {
   "cell_type": "markdown",
   "metadata": {
    "id": "kiF3lMICSIVg"
   },
   "source": [
    "### Task 3.1 : Transisiont, Emission metrices (20 Points)\n",
    "\n",
    "In this task we are expected to build a function which takes training_corpus as input and return transition counts, emission counts and tag counts. <br> \n",
    "\n",
    "\n",
    "\n",
    "1. `Tranition count`: maps prev_tag, tag) to the number of times it has appeared.\n",
    "2. `Emission_counts`: maps (tag, word) to the number of times it appeared.\n",
    "3. `Tag_counts`: maps (tag) to the number of times it has occured.\n",
    "\n"
   ]
  },
  {
   "cell_type": "code",
   "execution_count": 185,
   "metadata": {
    "id": "gr8yMvKmOsZP"
   },
   "outputs": [],
   "source": [
    "def create_dictionaries(training_corpus, vocab):\n",
    "    \"\"\"\n",
    "    Input: \n",
    "        training_corpus: a corpus where each line has a word followed by its tag.\n",
    "        vocab: a dictionary where keys are words in vocabulary and value is an index\n",
    "    Output: \n",
    "        emission_counts: a dictionary where the keys are (tag, word) and the values are the counts\n",
    "        transition_counts: a dictionary where the keys are (prev_tag, tag) and the values are the counts\n",
    "        tag_counts: a dictionary where the keys are the tags and the values are the counts\n",
    "    \"\"\"\n",
    "    \n",
    "    # initialize the dictionaries using defaultdict\n",
    "    emission_counts = defaultdict(int)\n",
    "    transition_counts = defaultdict(int)\n",
    "    tag_counts = defaultdict(int)\n",
    "    \n",
    "    # Initialize \"prev_tag\" (previous tag) with the start state, denoted by '--s--'\n",
    "    prev_tag = '--s--' \n",
    "    \n",
    "    # use 'i' to track the line number in the corpus\n",
    "    i = 0 \n",
    "    \n",
    "    # Each item in the training corpus contains a word and its POS tag\n",
    "    # Go through each word and its tag in the training corpus\n",
    "    for word_tag in training_corpus:\n",
    "        \n",
    "        # Increment the word_tag count\n",
    "        i += 1\n",
    "            \n",
    "        ### START CODE HERE (Replace instances of 'None' with your code) ###\n",
    "        # get the word and tag using the get_word_tag helper function\n",
    "        word, tag = get_word_tag(word_tag,vocab)\n",
    "        \n",
    "        # Increment the transition count for the previous word and tag\n",
    "        if (prev_tag,tag) not in transition_counts.keys():\n",
    "            transition_counts[(prev_tag,tag)] = 1\n",
    "        else:\n",
    "            transition_counts[(prev_tag,tag)] += 1\n",
    "            \n",
    "        # Increment the emission count for the tag and word\n",
    "        if (tag,word) not in emission_counts.keys():\n",
    "            emission_counts[(tag,word)] = 1\n",
    "        else:\n",
    "            emission_counts[(tag,word)] += 1\n",
    "            \n",
    "        # Increment the tag count\n",
    "        if tag not in tag_counts.keys():\n",
    "            tag_counts[tag] = 1\n",
    "        else:\n",
    "            tag_counts[tag] += 1\n",
    "            \n",
    "        # Set the previous tag to this tag (for the next iteration of the loop)\n",
    "        prev_tag = tag \n",
    "        ### END CODE HERE ###\n",
    "        \n",
    "    return emission_counts, transition_counts, tag_counts"
   ]
  },
  {
   "cell_type": "code",
   "execution_count": 186,
   "metadata": {
    "id": "Q-OVNdq6Osoz"
   },
   "outputs": [],
   "source": [
    "emission_counts, transition_counts, tag_counts = create_dictionaries(training_corpus, vocab)"
   ]
  },
  {
   "cell_type": "code",
   "execution_count": 187,
   "metadata": {
    "id": "_Qu97we4WTse"
   },
   "outputs": [
    {
     "name": "stdout",
     "output_type": "stream",
     "text": [
      "Number of POS tags (number of 'states'): 46\n",
      "View these POS tags (states)\n",
      "['#', '$', \"''\", '(', ')', ',', '--s--', '.', ':', 'CC', 'CD', 'DT', 'EX', 'FW', 'IN', 'JJ', 'JJR', 'JJS', 'LS', 'MD', 'NN', 'NNP', 'NNPS', 'NNS', 'PDT', 'POS', 'PRP', 'PRP$', 'RB', 'RBR', 'RBS', 'RP', 'SYM', 'TO', 'UH', 'VB', 'VBD', 'VBG', 'VBN', 'VBP', 'VBZ', 'WDT', 'WP', 'WP$', 'WRB', '``']\n"
     ]
    }
   ],
   "source": [
    "# get all the POS states. States are parts of speech designation found in the training dataset.\n",
    "states = sorted(tag_counts.keys())\n",
    "print(f\"Number of POS tags (number of 'states'): {len(states)}\")\n",
    "print(\"View these POS tags (states)\")\n",
    "print(states)"
   ]
  },
  {
   "cell_type": "markdown",
   "metadata": {
    "id": "0vVsk2TqXnq4"
   },
   "source": [
    "##### Expected Output\n",
    "\n",
    "```CPP\n",
    "Number of POS tags (number of 'states'46\n",
    "View these states\n",
    "['#', '$', \"''\", '(', ')', ',', '--s--', '.', ':', 'CC', 'CD', 'DT', 'EX', 'FW', 'IN', 'JJ', 'JJR', 'JJS', 'LS', 'MD', 'NN', 'NNP', 'NNPS', 'NNS', 'PDT', 'POS', 'PRP', 'PRP$', 'RB', 'RBR', 'RBS', 'RP', 'SYM', 'TO', 'UH', 'VB', 'VBD', 'VBG', 'VBN', 'VBP', 'VBZ', 'WDT', 'WP', 'WP$', 'WRB', '``']\n",
    "```"
   ]
  },
  {
   "cell_type": "code",
   "execution_count": 188,
   "metadata": {
    "id": "94MESMDvWrcK"
   },
   "outputs": [
    {
     "name": "stdout",
     "output_type": "stream",
     "text": [
      "transition examples: \n",
      "(('--s--', 'IN'), 5050)\n",
      "(('IN', 'DT'), 32364)\n",
      "(('DT', 'NNP'), 9044)\n",
      "\n",
      "emission examples: \n",
      "(('IN', 'In'), 1735)\n",
      "(('DT', 'an'), 3142)\n",
      "(('NNP', 'Oct.'), 317)\n",
      "\n",
      "ambiguous word example: \n",
      "('IN', 'In') 1735\n",
      "('DT', 'an') 3142\n",
      "('NNP', 'Oct.') 317\n"
     ]
    }
   ],
   "source": [
    "print(\"transition examples: \")\n",
    "for ex in list(transition_counts.items())[:3]:\n",
    "    print(ex)\n",
    "print()\n",
    "\n",
    "print(\"emission examples: \")\n",
    "for ex in list(emission_counts.items())[:3]:\n",
    "    print (ex)\n",
    "print()\n",
    "\n",
    "print(\"ambiguous word example: \")\n",
    "for tup,cnt in list(emission_counts.items())[:3]:\n",
    "    print(tup, cnt) "
   ]
  },
  {
   "cell_type": "markdown",
   "metadata": {
    "id": "vGl4GGZ9Xx54"
   },
   "source": [
    "\n",
    "##### Expected Output\n",
    "\n",
    "```CPP\n",
    "transition examples: \n",
    "(('--s--', 'IN'), 5050)\n",
    "(('IN', 'DT'), 32364)\n",
    "(('DT', 'NNP'), 9044)\n",
    "\n",
    "emission examples: \n",
    "(('IN', 'In'), 1735)\n",
    "(('DT', 'an'), 3142)\n",
    "(('NNP', 'Oct.'), 317)\n",
    "\n",
    "ambiguous word example: \n",
    "('IN', 'In') 1735\n",
    "('DT', 'an') 3142\n",
    "('NNP', 'Oct.') 317\n",
    "```"
   ]
  },
  {
   "cell_type": "markdown",
   "metadata": {
    "id": "hsoeGOxvXq__"
   },
   "source": [
    "### Task 3.2: Predict (20 Points)\n",
    "\n",
    "You need to complete the `predict_pos` function below which takes preprocessed test corpus (prep), Original tagged test corpus `y`, emission counts, vocab and states. <br>\n",
    "\n",
    "Ultimately in this function for a given preprocessed test corpus, you will assign a parts-of-speech tag to every word in that corpus. Using the original tagged test corpus, you will then compute what percent of the tags you got correct. <br>"
   ]
  },
  {
   "cell_type": "code",
   "execution_count": 189,
   "metadata": {
    "id": "pT6XFFHdZaKM"
   },
   "outputs": [],
   "source": [
    "def predict_pos(prep, y, emission_counts, vocab, states):\n",
    "    '''\n",
    "    Input: \n",
    "        prep: a preprocessed version of 'y'. A list with the 'word' component of the tuples.\n",
    "        y: a corpus composed of a list of tuples where each tuple consists of (word, POS)\n",
    "        emission_counts: a dictionary where the keys are (tag,word) tuples and the value is the count\n",
    "        vocab: a dictionary where keys are words in vocabulary and value is an index\n",
    "        states: a sorted list of all possible tags for this assignment\n",
    "    Output: \n",
    "        accuracy: Number of times you classified a word correctly\n",
    "    '''\n",
    "    \n",
    "    # Initialize the number of correct predictions to zero\n",
    "    corr_pred = 0\n",
    "    # Get the (tag, word) tuples, stored as a set\n",
    "    all_tag_word = set(emission_counts.keys())\n",
    "    word_tags = emission_counts.keys()\n",
    "    tot_words = 0\n",
    "    #print(y_dict.keys())\n",
    "    den = len(prep)                  \n",
    "    for word,y_word_pos in zip(prep,y):\n",
    "        if len(y_word_pos.split('\\t'))==2:\n",
    "            #print(word)\n",
    "            tot_words += 1\n",
    "            all_matched_word_pos = [word_pos for word_pos in word_tags if word_pos[1]==word]\n",
    "            #print(all_matched_word_pos)\n",
    "            max_cnt = 0 \n",
    "            word_tag = ''\n",
    "            \n",
    "            for word_pos in all_matched_word_pos:\n",
    "                pos_cnt = emission_counts[word_pos] \n",
    "                #print(word_pos,pos_cnt)\n",
    "                if pos_cnt > max_cnt:\n",
    "                    word_tag = word_pos[0]\n",
    "                    max_cnt = pos_cnt\n",
    "            y_pos = y_word_pos.split('\\t')[1].strip()\n",
    "            if word_tag == y_pos:\n",
    "                corr_pred += 1\n",
    "       \n",
    "    ### END CODE HERE ###\n",
    "    accuracy = corr_pred / den\n",
    "    return accuracy"
   ]
  },
  {
   "cell_type": "code",
   "execution_count": 190,
   "metadata": {
    "id": "K9p6rFQmZhVd"
   },
   "outputs": [
    {
     "name": "stdout",
     "output_type": "stream",
     "text": [
      "Accuracy of prediction using predict_pos is 0.8892\n"
     ]
    }
   ],
   "source": [
    "accuracy_predict_pos = predict_pos(prep, y, emission_counts, vocab, states)\n",
    "print(f\"Accuracy of prediction using predict_pos is {accuracy_predict_pos:.4f}\")"
   ]
  },
  {
   "cell_type": "markdown",
   "metadata": {
    "id": "ouVVpP11YsyA"
   },
   "source": [
    "##### Expected Output\n",
    "\n",
    "```CPP\n",
    "Accuracy of prediction using predict_pos is 0.8889\n",
    "```"
   ]
  },
  {
   "cell_type": "markdown",
   "metadata": {
    "id": "FTJ_W6jWb7gc"
   },
   "source": [
    "### Task 3.3 Building Hidden Markov Models for POS. (20 Points)\n",
    "\n",
    "**Hidden Markov Models** (HMMs) are a class of probabilistic graphical model that allow us to predict a sequence of unknown (hidden) variables from a set of observed variables. <br>\n",
    "\n",
    "The Markov Model contains a number of states and the probability of transition between those states. \n",
    "- In this case, the states are the parts-of-speech. \n",
    "- A Markov Model utilizes a transition matrix, `A`. \n",
    "- A Hidden Markov Model adds an observation or emission matrix `B` which describes the probability of a visible observation when we are in a particular state. \n",
    "- In this case, the emissions are the words in the corpus\n",
    "- The state, which is hidden, is the POS tag of that word.\n"
   ]
  },
  {
   "cell_type": "markdown",
   "metadata": {
    "id": "BJa3ynC-ePOl"
   },
   "source": [
    "### Creating the 'A' transition probabilities matrix\n",
    "\n",
    "We will be using Smoothing to compute the matrix. \n",
    "\n",
    "The smoothing was done as follows: \n",
    "\n",
    "$$ P(t_i | t_{i-1}) = \\frac{C(t_{i-1}, t_{i}) + \\alpha }{C(t_{i-1}) +\\alpha * N}$$\n",
    "\n",
    "- $N$ is the total number of tags\n",
    "- $C(t_{i-1}, t_{i})$ is the count of the tuple (previous POS, current POS) in `transition_counts` dictionary.\n",
    "- $C(t_{i-1})$ is the count of the previous POS in the `tag_counts` dictionary.\n",
    "- $\\alpha$ is a smoothing parameter."
   ]
  },
  {
   "cell_type": "code",
   "execution_count": 191,
   "metadata": {
    "id": "lz5xHj8QegXt"
   },
   "outputs": [],
   "source": [
    "# GRADED FUNCTION: create_transition_matrix\n",
    "def create_transition_matrix(alpha, tag_counts, transition_counts):\n",
    "    ''' \n",
    "    Input: \n",
    "        alpha: number used for smoothing\n",
    "        tag_counts: a dictionary mapping each tag to its respective count\n",
    "        transition_counts: transition count for the previous word and tag\n",
    "    Output:\n",
    "        A: matrix of dimension (num_tags,num_tags)\n",
    "    '''\n",
    "    \n",
    "    num_tags = len(tag_counts)\n",
    "\n",
    "    A = np.zeros((num_tags, num_tags))\n",
    "    # Create sorted version of the tag's list\n",
    "    sorted_tags = sorted(tag_counts.keys())\n",
    "    for prev,tag in enumerate(sorted_tags):\n",
    "        for cur,tag_2 in enumerate(sorted_tags):\n",
    "            if (tag,tag_2) in transition_counts.keys():\n",
    "                c_tp_t = transition_counts[(tag,tag_2)]\n",
    "                c_t = tag_counts[tag]\n",
    "                num = c_tp_t + alpha\n",
    "                den = c_t + (alpha*num_tags)\n",
    "                prob = num / den\n",
    "                A[prev][cur] = prob\n",
    "            else:\n",
    "                c_t = tag_counts[tag]\n",
    "                num = alpha\n",
    "                den = c_t + (alpha*num_tags)\n",
    "                prob = num / den\n",
    "                A[prev][cur] = prob\n",
    "                \n",
    "\n",
    "    ### Your Code Goes Here ###\n",
    "    \n",
    "\n",
    "    \n",
    "    \n",
    "    return A"
   ]
  },
  {
   "cell_type": "code",
   "execution_count": 193,
   "metadata": {
    "id": "d7qelj9meq2b"
   },
   "outputs": [
    {
     "name": "stdout",
     "output_type": "stream",
     "text": [
      "A at row 0, col 0: 0.007047013\n",
      "A at row 3, col 1: 0.0000\n",
      "View a subset of transition matrix A\n",
      "          CD        DT            EX        FW        IN\n",
      "CD  0.201542  0.028850  2.734628e-08  0.000055  0.089997\n",
      "DT  0.022922  0.001576  1.221866e-08  0.000257  0.009665\n",
      "EX  0.000001  0.002319  1.158687e-06  0.000001  0.000001\n",
      "FW  0.000004  0.008550  4.272664e-06  0.239273  0.029913\n",
      "IN  0.059328  0.328388  1.582898e-03  0.000203  0.020415\n"
     ]
    }
   ],
   "source": [
    "alpha = 0.001\n",
    "A = create_transition_matrix(alpha, tag_counts, transition_counts)\n",
    "# Testing your function\n",
    "print(f\"A at row 0, col 0: {A[0,5]:.9f}\")\n",
    "print(f\"A at row 3, col 1: {A[3,6]:.4f}\")\n",
    "\n",
    "print(\"View a subset of transition matrix A\")\n",
    "A_sub = pd.DataFrame(A[10:15,10:15], index=states[10:15], columns = states[10:15] )\n",
    "print(A_sub)"
   ]
  },
  {
   "cell_type": "markdown",
   "metadata": {
    "id": "GgBwL-UaZJgw"
   },
   "source": [
    "#### Expected Output: \n",
    "\n",
    "```CPP\n",
    "A at row 0, col 0: 0.007047013\n",
    "A at row 3, col 1: 0.0000\n",
    "View a subset of transition matrix A\n",
    "          CD        DT            EX        FW        IN\n",
    "CD  0.201542  0.028850  2.734628e-08  0.000055  0.089997\n",
    "DT  0.022922  0.001576  1.221866e-08  0.000257  0.009665\n",
    "EX  0.000001  0.002319  1.158687e-06  0.000001  0.000001\n",
    "FW  0.000004  0.008550  4.272664e-06  0.239273  0.029913\n",
    "IN  0.059328  0.328388  1.582898e-03  0.000203  0.020415\n",
    "```"
   ]
  },
  {
   "cell_type": "markdown",
   "metadata": {
    "id": "SNm4kE26ftrC"
   },
   "source": [
    "#### Creating 'B' emission probabilities matrix\n",
    "\n",
    "Now you will create the `B` transition matrix which computes the emission probability. \n",
    "\n",
    "You will use smoothing as defined below: \n",
    "\n",
    "$$P(w_i | t_i) = \\frac{C(t_i, word_i)+ \\alpha}{C(t_{i}) +\\alpha * N}\\$$\n",
    "\n",
    "- $C(t_i, word_i)$ is the number of times $word_i$ was associated with $tag_i$ in the training data (stored in `emission_counts` dictionary).\n",
    "- $C(t_i)$ is the number of times $tag_i$ was in the training data (stored in `tag_counts` dictionary).\n",
    "- $N$ is the number of words in the vocabulary\n",
    "- $\\alpha$ is a smoothing parameter. \n",
    "\n",
    "The matrix `B` is of dimension (num_tags, N), where num_tags is the number of possible parts-of-speech tags. "
   ]
  },
  {
   "cell_type": "code",
   "execution_count": 194,
   "metadata": {
    "id": "AuOi6kfugBP_"
   },
   "outputs": [],
   "source": [
    "# UNQ_C4 (UNIQUE CELL IDENTIFIER, DO NOT EDIT)\n",
    "# GRADED FUNCTION: create_emission_matrix\n",
    "\n",
    "def create_emission_matrix(alpha, tag_counts, emission_counts, vocab):\n",
    "    '''\n",
    "    Input: \n",
    "        alpha: tuning parameter used in smoothing \n",
    "        tag_counts: a dictionary mapping each tag to its respective count\n",
    "        emission_counts: a dictionary where the keys are (tag, word) and the values are the counts\n",
    "        vocab: a dictionary where keys are words in vocabulary and value is an index\n",
    "    Output:\n",
    "        B: a matrix of dimension (num_tags, len(vocab))\n",
    "    '''\n",
    "    num_tags = len(tag_counts)\n",
    "    B = np.zeros((num_tags, len(vocab)))\n",
    "    num_words = len(vocab)\n",
    "    # Create sorted version of the tag's list\n",
    "    sorted_tags = sorted(tag_counts.keys())\n",
    "    sorted_words = vocab\n",
    "    \n",
    "    for t_i,tag in enumerate(sorted_tags):\n",
    "        for w_i,word in enumerate(sorted_words):\n",
    "            if (tag,word) in emission_counts.keys():\n",
    "                num = emission_counts[(tag,word)] + alpha\n",
    "            else:\n",
    "                num = alpha\n",
    "            den = tag_counts[tag] + (alpha*num_words)\n",
    "            prob = num / den\n",
    "            B[t_i,w_i] = prob\n",
    "\n",
    "    return B"
   ]
  },
  {
   "cell_type": "code",
   "execution_count": 195,
   "metadata": {
    "id": "aHk48VkVgJ6y"
   },
   "outputs": [
    {
     "name": "stdout",
     "output_type": "stream",
     "text": [
      "View Matrix position at row 0, column 0: 0.000006032\n",
      "View Matrix position at row 3, column 1: 0.000000720\n",
      "              725      adroitly     engineers      promoted       synergy\n",
      "CD   8.201296e-05  2.732854e-08  2.732854e-08  2.732854e-08  2.732854e-08\n",
      "NN   7.521128e-09  7.521128e-09  7.521128e-09  7.521128e-09  2.257091e-05\n",
      "NNS  1.670013e-08  1.670013e-08  4.676203e-04  1.670013e-08  1.670013e-08\n",
      "VB   3.779036e-08  3.779036e-08  3.779036e-08  3.779036e-08  3.779036e-08\n",
      "RB   3.226454e-08  6.456135e-05  3.226454e-08  3.226454e-08  3.226454e-08\n",
      "RP   3.723317e-07  3.723317e-07  3.723317e-07  3.723317e-07  3.723317e-07\n"
     ]
    }
   ],
   "source": [
    "# creating your emission probability matrix. this takes a few minutes to run. \n",
    "B = create_emission_matrix(alpha, tag_counts, emission_counts, list(vocab))\n",
    "\n",
    "print(f\"View Matrix position at row 0, column 0: {B[0,0]:.9f}\")\n",
    "print(f\"View Matrix position at row 3, column 1: {B[3,1]:.9f}\")\n",
    "\n",
    "# Try viewing emissions for a few words in a sample dataframe\n",
    "cidx  = ['725','adroitly','engineers', 'promoted', 'synergy']\n",
    "\n",
    "# Get the integer ID for each word\n",
    "cols = [vocab[a] for a in cidx]\n",
    "\n",
    "# Choose POS tags to show in a sample dataframe\n",
    "rvals =['CD','NN','NNS', 'VB','RB','RP']\n",
    "\n",
    "# For each POS tag, get the row number from the 'states' list\n",
    "rows = [states.index(a) for a in rvals]\n",
    "\n",
    "# Get the emissions for the sample of words, and the sample of POS tags\n",
    "B_sub = pd.DataFrame(B[np.ix_(rows,cols)], index=rvals, columns = cidx )\n",
    "print(B_sub)"
   ]
  },
  {
   "cell_type": "markdown",
   "metadata": {
    "id": "P84N8BiukxSb"
   },
   "source": [
    "#### Expected Output: \n",
    "\n",
    "```CPP\n",
    "View Matrix position at row 0, column 0: 0.000006032\n",
    "View Matrix position at row 3, column 1: 0.000000720\n",
    "              725      adroitly     engineers      promoted       synergy\n",
    "CD   8.201296e-05  2.732854e-08  2.732854e-08  2.732854e-08  2.732854e-08\n",
    "NN   7.521128e-09  7.521128e-09  7.521128e-09  7.521128e-09  2.257091e-05\n",
    "NNS  1.670013e-08  1.670013e-08  4.676203e-04  1.670013e-08  1.670013e-08\n",
    "VB   3.779036e-08  3.779036e-08  3.779036e-08  3.779036e-08  3.779036e-08\n",
    "RB   3.226454e-08  6.456135e-05  3.226454e-08  3.226454e-08  3.226454e-08\n",
    "RP   3.723317e-07  3.723317e-07  3.723317e-07  3.723317e-07  3.723317e-07\n",
    "```"
   ]
  },
  {
   "cell_type": "markdown",
   "metadata": {
    "id": "Z0sqAdi8sTRM"
   },
   "source": [
    "### Task 3.4 Viterbi Algorithm\n",
    "\n",
    "In this part of the assignment you will implement the Viterbi algorithm. Specifically, you will use your two matrices, `A` and `B` to compute the Viterbi algorithm. \n",
    "\n",
    "We have decomposed this process into three main parts. \n",
    "\n",
    "* **Initialization** - In this part you initialize the `best_paths` and `best_probabilities` matrices that you will be populating in `feed_forward`.\n",
    "* **Feed forward** - At each step, you calculate the probability of each path happening and the best paths up to that point. \n",
    "* **Feed backward**: This allows you to find the best path with the highest probabilities. "
   ]
  },
  {
   "cell_type": "code",
   "execution_count": null,
   "metadata": {},
   "outputs": [],
   "source": []
  },
  {
   "cell_type": "markdown",
   "metadata": {
    "id": "PiPp1B6atGT4"
   },
   "source": [
    "### Task 3.4.1 Initialization \n",
    "Write a program below that initializes the `best_probs` and the `best_paths` matrix. \n",
    "\n",
    "Both matrices will be initialized to zero except for column zero of `best_probs`.  \n",
    "- Column zero of `best_probs` is initialized with the assumption that the first word of the corpus was preceded by a start token (\"--s--\"). \n",
    "- This allows you to reference the **A** matrix for the transition probability\n",
    "\n",
    "Here is how to initialize column 0 of `best_probs`:\n",
    "- The probability of the best path going from the start index to a given POS tag indexed by integer $i$ is denoted by $\\textrm{best_probs}[s_{idx}, i]$.\n",
    "- This is estimated as the probability that the start tag transitions to the POS denoted by index $i$: $\\mathbf{A}[s_{idx}, i]$ AND that the POS tag denoted by $i$ emits the first word of the given corpus, which is $\\mathbf{B}[i, vocab[corpus[0]]]$.\n",
    "- Note that vocab[corpus[0]] refers to the first word of the corpus (the word at position 0 of the corpus). \n",
    "- **vocab** is a dictionary that returns the unique integer that refers to that particular word.\n"
   ]
  },
  {
   "cell_type": "code",
   "execution_count": 197,
   "metadata": {
    "id": "HnQNnScHsqUk"
   },
   "outputs": [],
   "source": [
    "import math\n",
    "\n",
    "# GRADED FUNCTION: initialize\n",
    "def initialize(states, tag_counts, A, B, corpus, vocab):\n",
    "    '''\n",
    "    Input: \n",
    "        states: a list of all possible parts-of-speech\n",
    "        tag_counts: a dictionary mapping each tag to its respective count\n",
    "        A: Transition Matrix of dimension (num_tags, num_tags)\n",
    "        B: Emission Matrix of dimension (num_tags, len(vocab))\n",
    "        corpus: a sequence of words whose POS is to be identified in a list \n",
    "        vocab: a dictionary where keys are words in vocabulary and value is an index\n",
    "    Output:\n",
    "        best_probs: matrix of dimension (num_tags, len(corpus)) of floats\n",
    "        best_paths: matrix of dimension (num_tags, len(corpus)) of integers\n",
    "    '''\n",
    "    \n",
    "    sorted_tags = sorted(states)\n",
    "    start_tag_index = sorted_tags.index('--s--')\n",
    "    num_tags = len(states)\n",
    "    best_probs = np.zeros((num_tags,len(corpus)))\n",
    "    best_paths = np.zeros((num_tags,len(corpus)),dtype=int)\n",
    "    #### Your code goes here ####\n",
    "    for s_i,state in enumerate(sorted_tags):\n",
    "        best_probs[s_i,0] = math.log(A[start_tag_index,s_i]) + math.log(B[s_i,vocab[corpus[0]]])\n",
    "    return best_probs, best_paths"
   ]
  },
  {
   "cell_type": "code",
   "execution_count": 199,
   "metadata": {
    "id": "mXvRxrscu1ub"
   },
   "outputs": [],
   "source": [
    "best_probs, best_paths = initialize(states, tag_counts, A, B, prep, vocab)"
   ]
  },
  {
   "cell_type": "code",
   "execution_count": 200,
   "metadata": {
    "id": "gs9rytMIu3Rf"
   },
   "outputs": [
    {
     "name": "stdout",
     "output_type": "stream",
     "text": [
      "best_probs[0,0]: -22.6098\n",
      "best_paths[2,3]: 0.0000\n"
     ]
    }
   ],
   "source": [
    "# Test the function\n",
    "print(f\"best_probs[0,0]: {best_probs[0,0]:.4f}\") \n",
    "print(f\"best_paths[2,3]: {best_paths[2,3]:.4f}\")"
   ]
  },
  {
   "cell_type": "markdown",
   "metadata": {
    "id": "ZSAH0VXXlAja"
   },
   "source": [
    "#### Expected Output: \n",
    "\n",
    "```CPP\n",
    "best_probs[0,0]: -22.6098\n",
    "best_paths[2,3]: 0.0000\n",
    "```"
   ]
  },
  {
   "cell_type": "markdown",
   "metadata": {
    "id": "YJgTIbfKvrj7"
   },
   "source": [
    "### Task 3.4.2 Viterbi Forward Implementation (20 Points)\n",
    "\n",
    "\n",
    "In this part of the assignment, you will implement the `viterbi_forward` segment. In other words, you will populate your `best_probs` and `best_paths` matrices.\n",
    "- Walk forward through the corpus.\n",
    "- For each word, compute a probability for each possible tag. \n",
    "\n",
    "Store the best_path and best_prob for every possible tag for each word in the matrices `best_probs` and `best_tags` using the pseudo code below.\n",
    "\n",
    "`for each word in the corpus\n",
    "\n",
    "    for each POS tag type that this word may be\n",
    "    \n",
    "        for POS tag type that the previous word could be\n",
    "        \n",
    "            compute the probability that the previous word had a given POS tag, that the current word has a given POS tag, and that the POS tag would emit this current word.\n",
    "            \n",
    "            retain the highest probability computed for the current word\n",
    "            \n",
    "            set best_probs to this highest probability\n",
    "            \n",
    "            set best_paths to the index 'k', representing the POS tag of the previous word which produced the highest probability `"
   ]
  },
  {
   "cell_type": "code",
   "execution_count": 201,
   "metadata": {
    "id": "FJWBl5IYwYS0"
   },
   "outputs": [],
   "source": [
    "def viterbi_forward(A, B, test_corpus, best_probs, best_paths, vocab, corpus):\n",
    "    '''\n",
    "    Input: \n",
    "        A, B: The transiton and emission matrices respectively\n",
    "        test_corpus: a list containing a preprocessed corpus\n",
    "        best_probs: an initilized matrix of dimension (num_tags, len(corpus))\n",
    "        best_paths: an initilized matrix of dimension (num_tags, len(corpus))\n",
    "        vocab: a dictionary where keys are words in vocabulary and value is an index \n",
    "    Output: \n",
    "        best_probs: a completed matrix of dimension (num_tags, len(corpus))\n",
    "        best_paths: a completed matrix of dimension (num_tags, len(corpus))\n",
    "    '''\n",
    "    for i in range(1,len(test_corpus)):\n",
    "        for cur_pos in range(A.shape[0]):\n",
    "            max_prob = float('-inf')\n",
    "            prev_w_pos = None\n",
    "            for prev_pos in range(A.shape[0]):\n",
    "                #print(prev_pos,cur_pos,A[prev_pos,cur_pos],cur_pos,vocab[test_corpus[i]],B[cur_pos,vocab[test_corpus[i]]])\n",
    "                prob = (math.log(A[prev_pos,cur_pos]) + math.log(B[cur_pos,vocab[test_corpus[i]]])) + best_probs[prev_pos,i-1]\n",
    "                if max_prob < prob:\n",
    "                    max_prob = prob\n",
    "                    prev_w_pos = prev_pos\n",
    "            best_probs[cur_pos,i] = max_prob\n",
    "            best_paths[cur_pos,i] = prev_w_pos\n",
    "\n",
    "    return best_probs, best_paths"
   ]
  },
  {
   "cell_type": "code",
   "execution_count": 202,
   "metadata": {
    "id": "9e23XCrSwcAo"
   },
   "outputs": [],
   "source": [
    "# this will take a few minutes to run => processes ~ 30,000 words\n",
    "best_probs, best_paths = viterbi_forward(A, B, prep, best_probs, best_paths, vocab, prep)"
   ]
  },
  {
   "cell_type": "code",
   "execution_count": 203,
   "metadata": {
    "id": "ByhnCk4UweLT"
   },
   "outputs": [
    {
     "name": "stdout",
     "output_type": "stream",
     "text": [
      "best_probs[0,1]: -24.7822\n",
      "best_probs[0,4]: -49.5601\n"
     ]
    }
   ],
   "source": [
    "# Test this function \n",
    "print(f\"best_probs[0,1]: {best_probs[0,1]:.4f}\") \n",
    "print(f\"best_probs[0,4]: {best_probs[0,4]:.4f}\") "
   ]
  },
  {
   "cell_type": "markdown",
   "metadata": {
    "id": "JjUDVP7alH0A"
   },
   "source": [
    "#### Expected Output: \n",
    "\n",
    "```CPP\n",
    "best_probs[0,1]: -35.2828\n",
    "best_probs[0,4]: -54.4040\n",
    "```"
   ]
  },
  {
   "cell_type": "markdown",
   "metadata": {
    "id": "0-xcj0KsxRws"
   },
   "source": [
    "### Task 3.4.3 Viterbi Backward Implementation (20 Points)\n",
    "\n",
    "<a name='2.4'></a>\n",
    "## Part 2.4 Viterbi backward\n",
    "\n",
    "Now you will implement the Viterbi backward algorithm.\n",
    "- The Viterbi backward algorithm gets the predictions of the POS tags for each word in the corpus using the `best_paths` and the `best_probs` matrices.\n",
    "\n",
    "The example below shows how to walk backwards through the best_paths matrix to get the POS tags of each word in the corpus. Recall that this example corpus has three words: \"Loss tracks upward\".\n",
    "\n",
    "POS tag for 'upward' is `RB`\n",
    "- Select the the most likely POS tag for the last word in the corpus, 'upward' in the `best_prob` table.\n",
    "- Look for the row in the column for 'upward' that has the largest probability.\n",
    "- Notice that in row 28 of `best_probs`, the estimated probability is -34.99, which is larger than the other values in the column.  So the most likely POS tag for 'upward' is `RB` an adverb, at row 28 of `best_prob`. \n",
    "- The variable `z` is an array that stores the unique integer ID of the predicted POS tags for each word in the corpus.  In array z, at position 2, store the value 28 to indicate that the word 'upward' (at index 2 in the corpus), most likely has the POS tag associated with unique ID 28 (which is `RB`).\n",
    "- The variable `pred` contains the POS tags in string form.  So `pred` at index 2 stores the string `RB`.\n",
    "\n",
    "\n",
    "POS tag for 'tracks' is `VBZ`\n",
    "- The next step is to go backward one word in the corpus ('tracks').  Since the most likely POS tag for 'upward' is `RB`, which is uniquely identified by integer ID 28, go to the `best_paths` matrix in column 2, row 28.  The value stored in `best_paths`, column 2, row 28 indicates the unique ID of the POS tag of the previous word.  In this case, the value stored here is 40, which is the unique ID for POS tag `VBZ` (verb, 3rd person singular present).\n",
    "- So the previous word at index 1 of the corpus ('tracks'), most likely has the POS tag with unique ID 40, which is `VBZ`.\n",
    "- In array `z`, store the value 40 at position 1, and for array `pred`, store the string `VBZ` to indicate that the word 'tracks' most likely has POS tag `VBZ`.\n",
    "\n",
    "POS tag for 'Loss' is `NN`\n",
    "- In `best_paths` at column 1, the unique ID stored at row 40 is 20.  20 is the unique ID for POS tag `NN`.\n",
    "- In array `z` at position 0, store 20.  In array `pred` at position 0, store `NN`.\n"
   ]
  },
  {
   "cell_type": "code",
   "execution_count": 204,
   "metadata": {
    "id": "bmmwhv-Ex6VC"
   },
   "outputs": [],
   "source": [
    "# GRADED FUNCTION: viterbi_backward\n",
    "def viterbi_backward(best_probs, best_paths, corpus, states):\n",
    "    '''\n",
    "    This function returns the best path.\n",
    "    \n",
    "    '''\n",
    "    maxProb = float('-inf')\n",
    "    maxIndex = 0\n",
    "    \n",
    "    for i in range(len(states)):\n",
    "        prob = best_probs[i,-1]\n",
    "        if prob > maxProb:\n",
    "            maxProb = prob\n",
    "            maxIndex = i\n",
    "    z = [None]*len(corpus)\n",
    "    pred = [None]*len(corpus)\n",
    "    z[-1] = maxIndex\n",
    "    pred[-1] = states[i]\n",
    "    \n",
    "    for i in range(len(corpus)-1,0,-1):\n",
    "        prev_pos = best_paths[z[i],i]\n",
    "        z[i-1] = prev_pos\n",
    "        pred[i-1] = states[prev_pos]\n",
    "    #### Your Code Goes Here ####\n",
    "\n",
    "    return pred"
   ]
  },
  {
   "cell_type": "code",
   "execution_count": 205,
   "metadata": {
    "id": "4FMVOc_6zXVT"
   },
   "outputs": [
    {
     "name": "stdout",
     "output_type": "stream",
     "text": [
      "The prediction for pred[-7:m-1] is: \n",
      " ['see', 'them', 'here', 'with', 'us', '.'] \n",
      " ['VB', 'PRP', 'RB', 'IN', 'PRP', '.'] \n",
      "\n",
      "The prediction for pred[0:8] is: \n",
      " ['DT', 'NN', 'POS', 'NN', 'MD', 'VB', 'VBN'] \n",
      " ['The', 'economy', \"'s\", 'temperature', 'will', 'be', 'taken']\n"
     ]
    }
   ],
   "source": [
    "# Run and test your function\n",
    "pred = viterbi_backward(best_probs, best_paths, prep, states)\n",
    "m=len(pred)\n",
    "print('The prediction for pred[-7:m-1] is: \\n', prep[-7:m-1], \"\\n\", pred[-7:m-1], \"\\n\")\n",
    "print('The prediction for pred[0:8] is: \\n', pred[0:7], \"\\n\", prep[0:7])"
   ]
  },
  {
   "cell_type": "markdown",
   "metadata": {
    "id": "9JIYGEv6lO_f"
   },
   "source": [
    "#### Expected Output: \n",
    "\n",
    "```CPP\n",
    "The prediction for pred[-7:m-1] is: \n",
    " ['see', 'them', 'here', 'with', 'us', '.'] \n",
    " ['VB', 'PRP', 'RB', 'IN', 'PRP', '.'] \n",
    "\n",
    "The prediction for pred[0:8] is: \n",
    " ['DT', 'NN', 'POS', 'NN', 'MD', 'VB', 'VBN'] \n",
    " ['The', 'economy', \"'s\", 'temperature', 'will', 'be', 'taken']\n",
    "```"
   ]
  },
  {
   "cell_type": "markdown",
   "metadata": {
    "id": "aQHA_61Qzbn9"
   },
   "source": [
    "### Predicting on the dataset and print accuracy"
   ]
  },
  {
   "cell_type": "code",
   "execution_count": 206,
   "metadata": {
    "id": "w1n_WCDqzax6"
   },
   "outputs": [
    {
     "name": "stdout",
     "output_type": "stream",
     "text": [
      "The word is: temperature\n",
      "Your prediction is: NN\n",
      "Your corresponding label y is:  temperature\tNN\n",
      "\n",
      "Accuracy of the Viterbi algorithm is 0.9531\n"
     ]
    }
   ],
   "source": [
    "print('The word is:', prep[3])\n",
    "print('Your prediction is:', pred[3])\n",
    "print('Your corresponding label y is: ', y[3])\n",
    "print(f\"Accuracy of the Viterbi algorithm is {compute_accuracy(pred, y):.4f}\")"
   ]
  },
  {
   "cell_type": "markdown",
   "metadata": {
    "id": "LzROssM3lS-x"
   },
   "source": [
    "#### Expected Output: \n",
    "\n",
    "```CPP\n",
    "The word is: points\n",
    "Your prediction is: VBZ\n",
    "Your corresponding label y is:  points\tNNS\n",
    "\n",
    "Accuracy of the Viterbi algorithm is 0.9531\n",
    "```"
   ]
  }
 ],
 "metadata": {
  "colab": {
   "collapsed_sections": [
    "0vVsk2TqXnq4",
    "vGl4GGZ9Xx54",
    "ouVVpP11YsyA",
    "GgBwL-UaZJgw",
    "ZSAH0VXXlAja",
    "JjUDVP7alH0A",
    "9JIYGEv6lO_f",
    "LzROssM3lS-x"
   ],
   "provenance": [],
   "toc_visible": true
  },
  "kernelspec": {
   "display_name": "Python 3 (ipykernel)",
   "language": "python",
   "name": "python3"
  },
  "language_info": {
   "codemirror_mode": {
    "name": "ipython",
    "version": 3
   },
   "file_extension": ".py",
   "mimetype": "text/x-python",
   "name": "python",
   "nbconvert_exporter": "python",
   "pygments_lexer": "ipython3",
   "version": "3.9.7"
  }
 },
 "nbformat": 4,
 "nbformat_minor": 1
}
